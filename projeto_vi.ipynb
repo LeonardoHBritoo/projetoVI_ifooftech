{
 "cells": [
  {
   "attachments": {},
   "cell_type": "markdown",
   "id": "40feeadd",
   "metadata": {},
   "source": [
    "Importando as bibliotecas"
   ]
  },
  {
   "cell_type": "code",
   "execution_count": null,
   "id": "21eae34a",
   "metadata": {},
   "outputs": [],
   "source": [
    "import os\n",
    "import requests\n",
    "import zipfile\n",
    "import pandas as pd\n",
    "import numpy as np\n",
    "import matplotlib.pyplot as plt\n",
    "import seaborn as sns\n",
    "\n",
    "from sklearn.impute import SimpleImputer\n",
    "from sklearn.linear_model import LinearRegression"
   ]
  },
  {
   "attachments": {},
   "cell_type": "markdown",
   "id": "ac5df586",
   "metadata": {},
   "source": [
    "Importando os dados"
   ]
  },
  {
   "cell_type": "code",
   "execution_count": null,
   "id": "cb3b6989-edfe-4d4d-a884-a7f806756676",
   "metadata": {},
   "outputs": [],
   "source": [
    "diretorio_principal = os.getcwd()\n",
    "subdiretorio_dados = os.path.join(diretorio_principal, \"Dados\")\n",
    "\n",
    "# Criar o diretório se não existir\n",
    "os.makedirs(subdiretorio_dados, exist_ok=True)"
   ]
  },
  {
   "cell_type": "code",
   "execution_count": null,
   "id": "888a861a-1f7c-40d3-84bb-2a44b2fff711",
   "metadata": {},
   "outputs": [],
   "source": [
    "anos = range(2008, 2024)\n",
    "formato = \"csv\"\n",
    "url_base = \"http://www.camara.leg.br/cotas/\"\n",
    "\n",
    "for ano in anos:\n",
    "    download = requests.get(url_base + f\"Ano-{ano}.{formato}.zip\")\n",
    "    caminho_zip = os.path.join(subdiretorio_dados, f\"Ano-{ano}.{formato}.zip\")\n",
    "\n",
    "    with open(caminho_zip, \"wb\") as file:\n",
    "        file.write(download.content)\n",
    "\n",
    "    # Extrair o conteúdo do arquivo ZIP\n",
    "    with zipfile.ZipFile(caminho_zip, 'r') as zip_ref:\n",
    "        zip_ref.extractall(subdiretorio_dados)\n",
    "\n",
    "    # # Remover o arquivo ZIP após extração (opcional)\n",
    "    # os.remove(caminho_zip)"
   ]
  },
  {
   "cell_type": "code",
   "execution_count": null,
   "id": "b2a65a1f-cdb0-437c-bdbe-ab7de51b48d4",
   "metadata": {},
   "outputs": [],
   "source": [
    "# Voltar ao diretório principal\n",
    "os.chdir(diretorio_principal)\n",
    "\n",
    "# Criar um DataFrame com os dados extraídos\n",
    "despesas_totais = []\n",
    "\n",
    "for arquivo_csv in os.listdir(subdiretorio_dados):\n",
    "    if arquivo_csv.endswith('.csv') and not arquivo_csv.startswith(\".\"):\n",
    "        caminho_csv = os.path.join(subdiretorio_dados, arquivo_csv)\n",
    "        despesas = pd.read_csv(caminho_csv, sep=\";\", encoding='UTF-8', low_memory=False)\n",
    "        despesas_totais.append(despesas)\n",
    "\n",
    "# Concatenar todos os DataFrames em um único DataFrame\n",
    "despesas_completo = pd.concat(despesas_totais, ignore_index=True)"
   ]
  },
  {
   "cell_type": "code",
   "execution_count": null,
   "id": "7973e780",
   "metadata": {},
   "outputs": [],
   "source": [
    "despesas_completo"
   ]
  },
  {
   "attachments": {},
   "cell_type": "markdown",
   "id": "a0c3196f",
   "metadata": {},
   "source": [
    "Selecionando colunas de interesse"
   ]
  },
  {
   "cell_type": "code",
   "execution_count": null,
   "id": "04dde76e",
   "metadata": {},
   "outputs": [],
   "source": [
    "# Listar colunas\n",
    "despesas_completo.columns"
   ]
  },
  {
   "cell_type": "code",
   "execution_count": null,
   "id": "8b512916",
   "metadata": {},
   "outputs": [],
   "source": [
    "# Selecionar colunas\n",
    "dataset = despesas_completo.loc[:,['sgUF', 'sgPartido', 'txtDescricao', 'datEmissao', 'vlrLiquido']]"
   ]
  },
  {
   "cell_type": "code",
   "execution_count": null,
   "id": "19d74ae6",
   "metadata": {},
   "outputs": [],
   "source": [
    "# Visualizar dados de estudo\n",
    "dataset"
   ]
  },
  {
   "attachments": {},
   "cell_type": "markdown",
   "id": "2fbdaa79",
   "metadata": {},
   "source": [
    "Conferindo dados Selecionados"
   ]
  },
  {
   "cell_type": "code",
   "execution_count": null,
   "id": "1d430234",
   "metadata": {},
   "outputs": [],
   "source": [
    "dataset.head(10)"
   ]
  },
  {
   "cell_type": "code",
   "execution_count": null,
   "id": "c6f22216",
   "metadata": {},
   "outputs": [],
   "source": [
    "dataset.tail(10)"
   ]
  },
  {
   "cell_type": "code",
   "execution_count": null,
   "id": "fec42174",
   "metadata": {},
   "outputs": [],
   "source": [
    "dataset.shape"
   ]
  },
  {
   "cell_type": "code",
   "execution_count": null,
   "id": "7f0782a9",
   "metadata": {},
   "outputs": [],
   "source": [
    "dataset['vlrLiquido'].describe()"
   ]
  },
  {
   "cell_type": "code",
   "execution_count": null,
   "id": "2b72fa16",
   "metadata": {},
   "outputs": [],
   "source": [
    "dataset[['sgUF', 'sgPartido', 'txtDescricao']].describe()"
   ]
  },
  {
   "cell_type": "code",
   "execution_count": null,
   "id": "2d374d2c",
   "metadata": {},
   "outputs": [],
   "source": [
    "dataset.info()"
   ]
  },
  {
   "attachments": {},
   "cell_type": "markdown",
   "id": "868e7e08",
   "metadata": {},
   "source": [
    "Alterar tipos de dados"
   ]
  },
  {
   "cell_type": "code",
   "execution_count": null,
   "id": "cbb9515e",
   "metadata": {},
   "outputs": [],
   "source": [
    "dataset['datEmissao'] = pd.to_datetime(dataset['datEmissao'], errors='coerce')"
   ]
  },
  {
   "attachments": {},
   "cell_type": "markdown",
   "id": "0834d6d5",
   "metadata": {},
   "source": [
    "Limpeza de dados"
   ]
  },
  {
   "cell_type": "code",
   "execution_count": null,
   "id": "4dcca07e",
   "metadata": {},
   "outputs": [],
   "source": [
    "#Remover duplicatas\n",
    "dataset = dataset.drop_duplicates(keep=\"first\")"
   ]
  },
  {
   "cell_type": "code",
   "execution_count": null,
   "id": "00703db6",
   "metadata": {},
   "outputs": [],
   "source": [
    "#Remover valores\n",
    "#dataset = dataset.loc[dataset['coluna'] == 'valor']"
   ]
  },
  {
   "cell_type": "code",
   "execution_count": null,
   "id": "cfe393b4",
   "metadata": {},
   "outputs": [],
   "source": [
    "#Remover colunas desnecessárias\n",
    "#dataset = dataset.drop(columns=['coluna1', 'coluna2'])"
   ]
  },
  {
   "attachments": {},
   "cell_type": "markdown",
   "id": "69a6ded2",
   "metadata": {},
   "source": [
    "Dados faltantes"
   ]
  },
  {
   "cell_type": "code",
   "execution_count": null,
   "id": "8d86b933",
   "metadata": {},
   "outputs": [],
   "source": [
    "#Deletar linhas com dados faltantes\n",
    "dataset = dataset.dropna()"
   ]
  },
  {
   "cell_type": "code",
   "execution_count": null,
   "id": "7f3e69fb",
   "metadata": {},
   "outputs": [],
   "source": [
    "#Imputar valores\n",
    "\"\"\" imputer = SimpleImputer(minssing_valeues = np.nan, strategy='mean')\n",
    "imputer.fit(dataset[:,:])\n",
    "imputer.transform(dataset[:, :]) \"\"\""
   ]
  },
  {
   "cell_type": "code",
   "execution_count": null,
   "id": "00d752e3",
   "metadata": {},
   "outputs": [],
   "source": [
    "#Substituir valores\n",
    "# dataset.replace(old_value, new_value, inplace=True)"
   ]
  },
  {
   "attachments": {},
   "cell_type": "markdown",
   "id": "72b56a62",
   "metadata": {},
   "source": [
    "Selecionar Foco do estudo"
   ]
  },
  {
   "cell_type": "code",
   "execution_count": null,
   "id": "1a4ab474",
   "metadata": {},
   "outputs": [],
   "source": [
    "dataset[['sgUF', 'sgPartido', 'txtDescricao']].describe()"
   ]
  },
  {
   "cell_type": "code",
   "execution_count": null,
   "id": "4dce82b0",
   "metadata": {},
   "outputs": [],
   "source": [
    "dataset = dataset[dataset['txtDescricao'] == 'COMBUSTÍVEIS E LUBRIFICANTES.']"
   ]
  },
  {
   "cell_type": "code",
   "execution_count": null,
   "id": "d0ea970e",
   "metadata": {},
   "outputs": [],
   "source": [
    "dataset.columns"
   ]
  },
  {
   "attachments": {},
   "cell_type": "markdown",
   "id": "09c2b56c",
   "metadata": {},
   "source": [
    "Medidas de tendência central"
   ]
  },
  {
   "cell_type": "code",
   "execution_count": null,
   "id": "9ad56373",
   "metadata": {},
   "outputs": [],
   "source": [
    "# Média geral\n",
    "dataset['vlrLiquido'].mean()\n"
   ]
  },
  {
   "cell_type": "code",
   "execution_count": null,
   "id": "3a674a10",
   "metadata": {},
   "outputs": [],
   "source": [
    "# Média por estado\n",
    "dataset.groupby('sgUF')['vlrLiquido'].mean()"
   ]
  },
  {
   "cell_type": "code",
   "execution_count": null,
   "id": "059bf635",
   "metadata": {},
   "outputs": [],
   "source": [
    "# Média por partido\n",
    "dataset.groupby('sgPartido')['vlrLiquido'].mean()"
   ]
  },
  {
   "cell_type": "code",
   "execution_count": null,
   "id": "8512f0d7",
   "metadata": {},
   "outputs": [],
   "source": [
    "# Moda geral\n",
    "dataset['vlrLiquido'].mode()"
   ]
  },
  {
   "cell_type": "code",
   "execution_count": null,
   "id": "8b97076e",
   "metadata": {},
   "outputs": [],
   "source": [
    "# Moda por estado\n",
    "dataset.groupby('sgUF')['vlrLiquido'].mode()"
   ]
  },
  {
   "cell_type": "code",
   "execution_count": null,
   "id": "06d62520",
   "metadata": {},
   "outputs": [],
   "source": [
    "# Moda por partido\n",
    "dataset.groupby('sgPartido')['vlrLiquido'].mode()\n"
   ]
  },
  {
   "cell_type": "code",
   "execution_count": null,
   "id": "a9da2cfb",
   "metadata": {},
   "outputs": [],
   "source": [
    "# Mediana geral\n",
    "dataset['vlrLiquido'].median()"
   ]
  },
  {
   "cell_type": "code",
   "execution_count": null,
   "metadata": {},
   "outputs": [],
   "source": [
    "# Mediana por estado\n",
    "dataset.groupby('sgUF')['vlrLiquido'].median()"
   ]
  },
  {
   "cell_type": "code",
   "execution_count": null,
   "id": "652d4570",
   "metadata": {},
   "outputs": [],
   "source": [
    "# Mediana por partido\n",
    "dataset.groupby('sgPartido')['vlrLiquido'].median()"
   ]
  },
  {
   "attachments": {},
   "cell_type": "markdown",
   "id": "b06fbd69",
   "metadata": {},
   "source": [
    "Medidas de dispersão"
   ]
  },
  {
   "cell_type": "code",
   "execution_count": null,
   "id": "3833fab1",
   "metadata": {},
   "outputs": [],
   "source": [
    "# Amlitude total geral\n",
    "dataset['vlrLiquido'].max() - dataset['vlrLiquido'].min()"
   ]
  },
  {
   "cell_type": "code",
   "execution_count": null,
   "id": "0e6e395c",
   "metadata": {},
   "outputs": [],
   "source": [
    "# Amlitude total por estado\n",
    "dataset.groupby('sgUF')['vlrLiquido'].max() - dataset.groupby('sgUF')['vlrLiquido'].min()"
   ]
  },
  {
   "cell_type": "code",
   "execution_count": null,
   "id": "f04755b5",
   "metadata": {},
   "outputs": [],
   "source": [
    "\n",
    "# Amlitude total por partido\n",
    "dataset.groupby('sgPartido')['vlrLiquido'].max() - dataset.groupby('sgPartido')['vlrLiquido'].min()"
   ]
  },
  {
   "cell_type": "code",
   "execution_count": null,
   "id": "d401903b",
   "metadata": {},
   "outputs": [],
   "source": [
    "# Intervalo interquartílico geral\n",
    "Q1 = dataset['vlrLiquido'].quantile(0.25)\n",
    "Q3 = dataset['vlrLiquido'].quantile(0.75)\n",
    "IQ = Q3-Q1\n",
    "IQ"
   ]
  },
  {
   "cell_type": "code",
   "execution_count": null,
   "id": "3cbe1682",
   "metadata": {},
   "outputs": [],
   "source": [
    "\n",
    "# Intervalo interquartílico por estado\n",
    "Q1 = dataset.groupby('sgUF')['vlrLiquido'].quantile(0.25)\n",
    "Q3 = dataset.groupby('sgUF')['vlrLiquido'].quantile(0.75)\n",
    "IQ = Q3-Q1\n",
    "IQ"
   ]
  },
  {
   "cell_type": "code",
   "execution_count": null,
   "id": "9af4691f",
   "metadata": {},
   "outputs": [],
   "source": [
    "\n",
    "# Intervalo interquartílico por partido\n",
    "Q1 = dataset.groupby('sgPartido')['vlrLiquido'].quantile(0.25)\n",
    "Q3 = dataset.groupby('sgPartido')['vlrLiquido'].quantile(0.75)\n",
    "IQ = Q3-Q1\n",
    "IQ\n"
   ]
  },
  {
   "cell_type": "code",
   "execution_count": null,
   "id": "58a77a8f",
   "metadata": {},
   "outputs": [],
   "source": [
    "\n",
    "# Variância geral\n",
    "dataset['vlrLiquido'].var()"
   ]
  },
  {
   "cell_type": "code",
   "execution_count": null,
   "id": "2e4578f8",
   "metadata": {},
   "outputs": [],
   "source": [
    "\n",
    "# Variância por estado\n",
    "dataset.groupby('sgUF')['vlrLiquido'].var()\n"
   ]
  },
  {
   "cell_type": "code",
   "execution_count": null,
   "id": "be2e3981",
   "metadata": {},
   "outputs": [],
   "source": [
    "# Variância por partido\n",
    "dataset.groupby('sgPartido')['vlrLiquido'].var()"
   ]
  },
  {
   "cell_type": "code",
   "execution_count": null,
   "id": "6affe119",
   "metadata": {},
   "outputs": [],
   "source": [
    "\n",
    "# Desvio padrão geral\n",
    "dataset['vlrLiquido'].std()"
   ]
  },
  {
   "cell_type": "code",
   "execution_count": null,
   "id": "90559fd4",
   "metadata": {},
   "outputs": [],
   "source": [
    "# Desvio padrão por estado\n",
    "dataset.groupby('sgUF')['vlrLiquido'].std()"
   ]
  },
  {
   "cell_type": "code",
   "execution_count": null,
   "id": "8afd71fe",
   "metadata": {},
   "outputs": [],
   "source": [
    "# Desvio padrão por partido\n",
    "dataset.groupby('sgPartido')['vlrLiquido'].std()"
   ]
  },
  {
   "attachments": {},
   "cell_type": "markdown",
   "id": "2804a2ab",
   "metadata": {},
   "source": [
    "Medidas de Assemetria"
   ]
  },
  {
   "cell_type": "code",
   "execution_count": null,
   "id": "eb75b068",
   "metadata": {},
   "outputs": [],
   "source": []
  },
  {
   "attachments": {},
   "cell_type": "markdown",
   "id": "481a7542",
   "metadata": {},
   "source": [
    "Outliers"
   ]
  },
  {
   "cell_type": "code",
   "execution_count": null,
   "id": "183f9b18",
   "metadata": {},
   "outputs": [],
   "source": [
    "# Diagrama de Tukey (boxplot)\n",
    "gridsize_boxplot = (4, 1)\n",
    "fig_boxplot = plt.figure(figsize=(12, 8))\n",
    "\n",
    "positions = ['sgUF', 'sgPartido', 'vlrLiquido']\n",
    "\n",
    "for i, position in enumerate(positions):\n",
    "    boxplot = plt.subplot2grid(gridsize_boxplot, (i, 0))\n",
    "    boxplot.set_title(position, fontsize=8)\n",
    "    sns.boxplot(x=position, data=dataset)\n",
    "\n",
    "plt.tight_layout()\n",
    "plt.show()"
   ]
  },
  {
   "cell_type": "code",
   "execution_count": null,
   "id": "5055559c",
   "metadata": {},
   "outputs": [],
   "source": [
    "# Gráfico de dispersão\n",
    "gridsize_scatter = (4, 1)\n",
    "fig_scatter = plt.figure(figsize=(12, 8))\n",
    "\n",
    "positions = ['sgUF', 'sgPartido', 'vlrLiquido']\n",
    "\n",
    "for i, position in enumerate(positions):\n",
    "    scatterplot = plt.subplot2grid(gridsize_scatter, (i, 0))\n",
    "    scatterplot.set_title(position, fontsize=8)\n",
    "    \n",
    "    if dataset[position].dtype == 'object':\n",
    "        sns.countplot(x=position, data=dataset, ax=scatterplot)\n",
    "    else:\n",
    "        sns.scatterplot(x=position, y='vlrLiquido', data=dataset, ax=scatterplot)\n",
    "\n",
    "plt.tight_layout()\n",
    "plt.show()"
   ]
  },
  {
   "cell_type": "code",
   "execution_count": null,
   "id": "b628a025",
   "metadata": {},
   "outputs": [],
   "source": [
    "# Histograma\n",
    "gridsize_barplot = (4, 1)\n",
    "fig_barplot = plt.figure(figsize=(12, 8))\n",
    "\n",
    "positions = ['sgUF', 'sgPartido', 'txtDescricao', 'vlrLiquido']\n",
    "\n",
    "for i, position in enumerate(positions):\n",
    "    barplot = plt.subplot2grid(gridsize_barplot, (i, 0))\n",
    "    barplot.set_title(position, fontsize=8)\n",
    "    \n",
    "    if dataset[position].dtype == 'object':\n",
    "        sns.countplot(x=position, data=dataset, ax=barplot)\n",
    "    else:\n",
    "        sns.histplot(x=position, data=dataset, ax=barplot)\n",
    "\n",
    "plt.tight_layout()\n",
    "plt.show()"
   ]
  },
  {
   "cell_type": "code",
   "execution_count": null,
   "id": "fc02d6e3",
   "metadata": {},
   "outputs": [],
   "source": [
    "# Remover outliers - Winsorization\n",
    "\n",
    "\"\"\" cols = list(dataset.columns)\n",
    "cols.remove('col')\n",
    "\n",
    "winsorization_flooring = 0.05\n",
    "winsorization_capping = 1 - winsorization_flooring\n",
    "\n",
    "not_selected_data_flooring = dataset[cols] <= dataset[cols].quantile(winsorization_flooring)\n",
    "not_selected_data_capping = dataset[cols] >= dataset[cols].quantile(winsorization_capping)\n",
    "\n",
    "not_selected_data_all = (not_selected_data_flooring & not_selected_data_capping)\n",
    "\n",
    "data_index = dataset[cols][not_selected_data_all].index\n",
    "dataset[cols].drop(data_index, inplace=True \"\"\""
   ]
  },
  {
   "attachments": {},
   "cell_type": "markdown",
   "id": "6b3d1a14",
   "metadata": {},
   "source": [
    "Regressão Linear"
   ]
  },
  {
   "cell_type": "code",
   "execution_count": null,
   "id": "4dac7a89",
   "metadata": {},
   "outputs": [],
   "source": [
    "dataset = dataset.loc[:,['datEmissao', 'vlrLiquido']]"
   ]
  },
  {
   "cell_type": "code",
   "execution_count": null,
   "id": "8661b0a3",
   "metadata": {},
   "outputs": [],
   "source": [
    "#Parcionando dados"
   ]
  },
  {
   "cell_type": "code",
   "execution_count": null,
   "id": "375b8d6c",
   "metadata": {},
   "outputs": [],
   "source": [
    "# Criar modelo\n",
    "model = LinearRegression()\n",
    "model.fit(X_train, y_train)"
   ]
  },
  {
   "cell_type": "code",
   "execution_count": null,
   "id": "106abaf4",
   "metadata": {},
   "outputs": [],
   "source": [
    "# Predição\n",
    "predicted_values = model.predict(X_test)"
   ]
  },
  {
   "cell_type": "code",
   "execution_count": null,
   "id": "ab27b4d7",
   "metadata": {},
   "outputs": [],
   "source": [
    "# Análise da regressão"
   ]
  }
 ],
 "metadata": {
  "kernelspec": {
   "display_name": "Python 3 (ipykernel)",
   "language": "python",
   "name": "python3"
  },
  "language_info": {
   "codemirror_mode": {
    "name": "ipython",
    "version": 3
   },
   "file_extension": ".py",
   "mimetype": "text/x-python",
   "name": "python",
   "nbconvert_exporter": "python",
   "pygments_lexer": "ipython3",
   "version": "3.11.3"
  }
 },
 "nbformat": 4,
 "nbformat_minor": 5
}
