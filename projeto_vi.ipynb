{
 "cells": [
  {
   "attachments": {},
   "cell_type": "markdown",
   "id": "40feeadd",
   "metadata": {},
   "source": [
    "Importando as bibliotecas"
   ]
  },
  {
   "cell_type": "code",
   "execution_count": 1,
   "id": "21eae34a",
   "metadata": {},
   "outputs": [],
   "source": [
    "import os\n",
    "import requests\n",
    "import zipfile\n",
    "import pandas as pd\n",
    "import numpy as np\n",
    "import matplotlib.pyplot as plt\n",
    "import seaborn as sns\n",
    "\n",
    "from sklearn.impute import SimpleImputer\n",
    "from sklearn.linear_model import LinearRegression"
   ]
  },
  {
   "attachments": {},
   "cell_type": "markdown",
   "id": "ac5df586",
   "metadata": {},
   "source": [
    "Importando os dados"
   ]
  },
  {
   "cell_type": "code",
   "execution_count": 2,
   "id": "cb3b6989-edfe-4d4d-a884-a7f806756676",
   "metadata": {},
   "outputs": [],
   "source": [
    "diretorio_principal = os.getcwd()\n",
    "subdiretorio_dados = os.path.join(diretorio_principal, \"Dados\")\n",
    "\n",
    "# Criar o diretório se não existir\n",
    "os.makedirs(subdiretorio_dados, exist_ok=True)"
   ]
  },
  {
   "cell_type": "code",
   "execution_count": 3,
   "id": "888a861a-1f7c-40d3-84bb-2a44b2fff711",
   "metadata": {},
   "outputs": [],
   "source": [
    "anos = range(2008, 2024)\n",
    "formato = \"csv\"\n",
    "url_base = \"http://www.camara.leg.br/cotas/\"\n",
    "\n",
    "for ano in anos:\n",
    "    download = requests.get(url_base + f\"Ano-{ano}.{formato}.zip\")\n",
    "    caminho_zip = os.path.join(subdiretorio_dados, f\"Ano-{ano}.{formato}.zip\")\n",
    "\n",
    "    with open(caminho_zip, \"wb\") as file:\n",
    "        file.write(download.content)\n",
    "\n",
    "    # Extrair o conteúdo do arquivo ZIP\n",
    "    with zipfile.ZipFile(caminho_zip, 'r') as zip_ref:\n",
    "        zip_ref.extractall(subdiretorio_dados)\n",
    "\n",
    "    # # Remover o arquivo ZIP após extração (opcional)\n",
    "    # os.remove(caminho_zip)"
   ]
  },
  {
   "cell_type": "code",
   "execution_count": 4,
   "id": "b2a65a1f-cdb0-437c-bdbe-ab7de51b48d4",
   "metadata": {},
   "outputs": [],
   "source": [
    "# Voltar ao diretório principal\n",
    "os.chdir(diretorio_principal)\n",
    "\n",
    "# Criar um DataFrame com os dados extraídos\n",
    "despesas_totais = []\n",
    "\n",
    "for arquivo_csv in os.listdir(subdiretorio_dados):\n",
    "    if arquivo_csv.endswith('.csv') and not arquivo_csv.startswith(\".\"):\n",
    "        caminho_csv = os.path.join(subdiretorio_dados, arquivo_csv)\n",
    "        despesas = pd.read_csv(caminho_csv, sep=\";\", encoding='UTF-8', low_memory=False)\n",
    "        despesas_totais.append(despesas)\n",
    "\n",
    "# Concatenar todos os DataFrames em um único DataFrame\n",
    "despesas_completo = pd.concat(despesas_totais, ignore_index=True)"
   ]
  },
  {
   "cell_type": "code",
   "execution_count": 5,
   "id": "7973e780",
   "metadata": {},
   "outputs": [
    {
     "data": {
      "text/html": [
       "<div>\n",
       "<style scoped>\n",
       "    .dataframe tbody tr th:only-of-type {\n",
       "        vertical-align: middle;\n",
       "    }\n",
       "\n",
       "    .dataframe tbody tr th {\n",
       "        vertical-align: top;\n",
       "    }\n",
       "\n",
       "    .dataframe thead th {\n",
       "        text-align: right;\n",
       "    }\n",
       "</style>\n",
       "<table border=\"1\" class=\"dataframe\">\n",
       "  <thead>\n",
       "    <tr style=\"text-align: right;\">\n",
       "      <th></th>\n",
       "      <th>txNomeParlamentar</th>\n",
       "      <th>cpf</th>\n",
       "      <th>ideCadastro</th>\n",
       "      <th>nuCarteiraParlamentar</th>\n",
       "      <th>nuLegislatura</th>\n",
       "      <th>sgUF</th>\n",
       "      <th>sgPartido</th>\n",
       "      <th>codLegislatura</th>\n",
       "      <th>numSubCota</th>\n",
       "      <th>txtDescricao</th>\n",
       "      <th>...</th>\n",
       "      <th>numParcela</th>\n",
       "      <th>txtPassageiro</th>\n",
       "      <th>txtTrecho</th>\n",
       "      <th>numLote</th>\n",
       "      <th>numRessarcimento</th>\n",
       "      <th>datPagamentoRestituicao</th>\n",
       "      <th>vlrRestituicao</th>\n",
       "      <th>nuDeputadoId</th>\n",
       "      <th>ideDocumento</th>\n",
       "      <th>urlDocumento</th>\n",
       "    </tr>\n",
       "  </thead>\n",
       "  <tbody>\n",
       "    <tr>\n",
       "      <th>0</th>\n",
       "      <td>JOSEPH BANDEIRA</td>\n",
       "      <td>7.251603e+09</td>\n",
       "      <td>4929.0</td>\n",
       "      <td>565.0</td>\n",
       "      <td>2007</td>\n",
       "      <td>BA</td>\n",
       "      <td>PT</td>\n",
       "      <td>53</td>\n",
       "      <td>2</td>\n",
       "      <td>LOCOMOÇÃO, ALIMENTAÇÃO E  HOSPEDAGEM</td>\n",
       "      <td>...</td>\n",
       "      <td>0</td>\n",
       "      <td>NaN</td>\n",
       "      <td>NaN</td>\n",
       "      <td>405260</td>\n",
       "      <td>NaN</td>\n",
       "      <td>NaN</td>\n",
       "      <td>NaN</td>\n",
       "      <td>1970</td>\n",
       "      <td>1612380</td>\n",
       "      <td>NaN</td>\n",
       "    </tr>\n",
       "    <tr>\n",
       "      <th>1</th>\n",
       "      <td>JOSEPH BANDEIRA</td>\n",
       "      <td>7.251603e+09</td>\n",
       "      <td>4929.0</td>\n",
       "      <td>565.0</td>\n",
       "      <td>2007</td>\n",
       "      <td>BA</td>\n",
       "      <td>PT</td>\n",
       "      <td>53</td>\n",
       "      <td>2</td>\n",
       "      <td>LOCOMOÇÃO, ALIMENTAÇÃO E  HOSPEDAGEM</td>\n",
       "      <td>...</td>\n",
       "      <td>0</td>\n",
       "      <td>NaN</td>\n",
       "      <td>NaN</td>\n",
       "      <td>387830</td>\n",
       "      <td>NaN</td>\n",
       "      <td>NaN</td>\n",
       "      <td>NaN</td>\n",
       "      <td>1970</td>\n",
       "      <td>1561354</td>\n",
       "      <td>NaN</td>\n",
       "    </tr>\n",
       "    <tr>\n",
       "      <th>2</th>\n",
       "      <td>SILVIO COSTA</td>\n",
       "      <td>1.048139e+10</td>\n",
       "      <td>4930.0</td>\n",
       "      <td>160.0</td>\n",
       "      <td>2007</td>\n",
       "      <td>PE</td>\n",
       "      <td>PTB</td>\n",
       "      <td>53</td>\n",
       "      <td>10</td>\n",
       "      <td>TELEFONIA</td>\n",
       "      <td>...</td>\n",
       "      <td>0</td>\n",
       "      <td>NaN</td>\n",
       "      <td>NaN</td>\n",
       "      <td>0</td>\n",
       "      <td>0.0</td>\n",
       "      <td>NaN</td>\n",
       "      <td>NaN</td>\n",
       "      <td>1973</td>\n",
       "      <td>0</td>\n",
       "      <td>NaN</td>\n",
       "    </tr>\n",
       "    <tr>\n",
       "      <th>3</th>\n",
       "      <td>ALDO REBELO</td>\n",
       "      <td>1.641215e+10</td>\n",
       "      <td>73428.0</td>\n",
       "      <td>331.0</td>\n",
       "      <td>2007</td>\n",
       "      <td>SP</td>\n",
       "      <td>PCdoB</td>\n",
       "      <td>53</td>\n",
       "      <td>10</td>\n",
       "      <td>TELEFONIA</td>\n",
       "      <td>...</td>\n",
       "      <td>0</td>\n",
       "      <td>NaN</td>\n",
       "      <td>NaN</td>\n",
       "      <td>0</td>\n",
       "      <td>0.0</td>\n",
       "      <td>NaN</td>\n",
       "      <td>NaN</td>\n",
       "      <td>764</td>\n",
       "      <td>0</td>\n",
       "      <td>NaN</td>\n",
       "    </tr>\n",
       "    <tr>\n",
       "      <th>4</th>\n",
       "      <td>ANTONIO CARLOS PANNUNZIO</td>\n",
       "      <td>1.895236e+10</td>\n",
       "      <td>73431.0</td>\n",
       "      <td>334.0</td>\n",
       "      <td>2007</td>\n",
       "      <td>SP</td>\n",
       "      <td>PSDB</td>\n",
       "      <td>53</td>\n",
       "      <td>10</td>\n",
       "      <td>TELEFONIA</td>\n",
       "      <td>...</td>\n",
       "      <td>0</td>\n",
       "      <td>NaN</td>\n",
       "      <td>NaN</td>\n",
       "      <td>0</td>\n",
       "      <td>0.0</td>\n",
       "      <td>NaN</td>\n",
       "      <td>NaN</td>\n",
       "      <td>961</td>\n",
       "      <td>0</td>\n",
       "      <td>NaN</td>\n",
       "    </tr>\n",
       "    <tr>\n",
       "      <th>...</th>\n",
       "      <td>...</td>\n",
       "      <td>...</td>\n",
       "      <td>...</td>\n",
       "      <td>...</td>\n",
       "      <td>...</td>\n",
       "      <td>...</td>\n",
       "      <td>...</td>\n",
       "      <td>...</td>\n",
       "      <td>...</td>\n",
       "      <td>...</td>\n",
       "      <td>...</td>\n",
       "      <td>...</td>\n",
       "      <td>...</td>\n",
       "      <td>...</td>\n",
       "      <td>...</td>\n",
       "      <td>...</td>\n",
       "      <td>...</td>\n",
       "      <td>...</td>\n",
       "      <td>...</td>\n",
       "      <td>...</td>\n",
       "      <td>...</td>\n",
       "    </tr>\n",
       "    <tr>\n",
       "      <th>4666836</th>\n",
       "      <td>Dr Fabio Rueda</td>\n",
       "      <td>2.539052e+09</td>\n",
       "      <td>227401.0</td>\n",
       "      <td>569.0</td>\n",
       "      <td>2023</td>\n",
       "      <td>AC</td>\n",
       "      <td>UNIÃO</td>\n",
       "      <td>57</td>\n",
       "      <td>998</td>\n",
       "      <td>PASSAGEM AÉREA - SIGEPA</td>\n",
       "      <td>...</td>\n",
       "      <td>0</td>\n",
       "      <td>FABIO GONCALVES DE RUEDA</td>\n",
       "      <td>BSB/GRU/REC</td>\n",
       "      <td>0</td>\n",
       "      <td>0.0</td>\n",
       "      <td>NaN</td>\n",
       "      <td>NaN</td>\n",
       "      <td>3755</td>\n",
       "      <td>218349</td>\n",
       "      <td>NaN</td>\n",
       "    </tr>\n",
       "    <tr>\n",
       "      <th>4666837</th>\n",
       "      <td>Douglas Viegas</td>\n",
       "      <td>2.551906e+10</td>\n",
       "      <td>227433.0</td>\n",
       "      <td>571.0</td>\n",
       "      <td>2023</td>\n",
       "      <td>SP</td>\n",
       "      <td>UNIÃO</td>\n",
       "      <td>57</td>\n",
       "      <td>5</td>\n",
       "      <td>DIVULGAÇÃO DA ATIVIDADE PARLAMENTAR.</td>\n",
       "      <td>...</td>\n",
       "      <td>0</td>\n",
       "      <td>NaN</td>\n",
       "      <td>NaN</td>\n",
       "      <td>2002507</td>\n",
       "      <td>NaN</td>\n",
       "      <td>NaN</td>\n",
       "      <td>NaN</td>\n",
       "      <td>3756</td>\n",
       "      <td>7669098</td>\n",
       "      <td>https://www.camara.leg.br/cota-parlamentar/doc...</td>\n",
       "    </tr>\n",
       "    <tr>\n",
       "      <th>4666838</th>\n",
       "      <td>Douglas Viegas</td>\n",
       "      <td>2.551906e+10</td>\n",
       "      <td>227433.0</td>\n",
       "      <td>571.0</td>\n",
       "      <td>2023</td>\n",
       "      <td>SP</td>\n",
       "      <td>UNIÃO</td>\n",
       "      <td>57</td>\n",
       "      <td>10</td>\n",
       "      <td>TELEFONIA</td>\n",
       "      <td>...</td>\n",
       "      <td>0</td>\n",
       "      <td>NaN</td>\n",
       "      <td>NaN</td>\n",
       "      <td>0</td>\n",
       "      <td>0.0</td>\n",
       "      <td>NaN</td>\n",
       "      <td>NaN</td>\n",
       "      <td>3756</td>\n",
       "      <td>0</td>\n",
       "      <td>NaN</td>\n",
       "    </tr>\n",
       "    <tr>\n",
       "      <th>4666839</th>\n",
       "      <td>Douglas Viegas</td>\n",
       "      <td>2.551906e+10</td>\n",
       "      <td>227433.0</td>\n",
       "      <td>571.0</td>\n",
       "      <td>2023</td>\n",
       "      <td>SP</td>\n",
       "      <td>UNIÃO</td>\n",
       "      <td>57</td>\n",
       "      <td>120</td>\n",
       "      <td>LOCAÇÃO OU FRETAMENTO DE VEÍCULOS AUTOMOTORES</td>\n",
       "      <td>...</td>\n",
       "      <td>0</td>\n",
       "      <td>NaN</td>\n",
       "      <td>NaN</td>\n",
       "      <td>2003390</td>\n",
       "      <td>NaN</td>\n",
       "      <td>NaN</td>\n",
       "      <td>NaN</td>\n",
       "      <td>3756</td>\n",
       "      <td>7670764</td>\n",
       "      <td>https://www.camara.leg.br/cota-parlamentar/doc...</td>\n",
       "    </tr>\n",
       "    <tr>\n",
       "      <th>4666840</th>\n",
       "      <td>Douglas Viegas</td>\n",
       "      <td>2.551906e+10</td>\n",
       "      <td>227433.0</td>\n",
       "      <td>571.0</td>\n",
       "      <td>2023</td>\n",
       "      <td>SP</td>\n",
       "      <td>UNIÃO</td>\n",
       "      <td>57</td>\n",
       "      <td>120</td>\n",
       "      <td>LOCAÇÃO OU FRETAMENTO DE VEÍCULOS AUTOMOTORES</td>\n",
       "      <td>...</td>\n",
       "      <td>0</td>\n",
       "      <td>NaN</td>\n",
       "      <td>NaN</td>\n",
       "      <td>2003390</td>\n",
       "      <td>NaN</td>\n",
       "      <td>NaN</td>\n",
       "      <td>NaN</td>\n",
       "      <td>3756</td>\n",
       "      <td>7670760</td>\n",
       "      <td>https://www.camara.leg.br/cota-parlamentar/doc...</td>\n",
       "    </tr>\n",
       "  </tbody>\n",
       "</table>\n",
       "<p>4666841 rows × 32 columns</p>\n",
       "</div>"
      ],
      "text/plain": [
       "                txNomeParlamentar           cpf  ideCadastro  \\\n",
       "0                 JOSEPH BANDEIRA  7.251603e+09       4929.0   \n",
       "1                 JOSEPH BANDEIRA  7.251603e+09       4929.0   \n",
       "2                    SILVIO COSTA  1.048139e+10       4930.0   \n",
       "3                     ALDO REBELO  1.641215e+10      73428.0   \n",
       "4        ANTONIO CARLOS PANNUNZIO  1.895236e+10      73431.0   \n",
       "...                           ...           ...          ...   \n",
       "4666836            Dr Fabio Rueda  2.539052e+09     227401.0   \n",
       "4666837            Douglas Viegas  2.551906e+10     227433.0   \n",
       "4666838            Douglas Viegas  2.551906e+10     227433.0   \n",
       "4666839            Douglas Viegas  2.551906e+10     227433.0   \n",
       "4666840            Douglas Viegas  2.551906e+10     227433.0   \n",
       "\n",
       "         nuCarteiraParlamentar  nuLegislatura sgUF sgPartido  codLegislatura  \\\n",
       "0                        565.0           2007   BA        PT              53   \n",
       "1                        565.0           2007   BA        PT              53   \n",
       "2                        160.0           2007   PE       PTB              53   \n",
       "3                        331.0           2007   SP     PCdoB              53   \n",
       "4                        334.0           2007   SP      PSDB              53   \n",
       "...                        ...            ...  ...       ...             ...   \n",
       "4666836                  569.0           2023   AC     UNIÃO              57   \n",
       "4666837                  571.0           2023   SP     UNIÃO              57   \n",
       "4666838                  571.0           2023   SP     UNIÃO              57   \n",
       "4666839                  571.0           2023   SP     UNIÃO              57   \n",
       "4666840                  571.0           2023   SP     UNIÃO              57   \n",
       "\n",
       "         numSubCota                                   txtDescricao  ...  \\\n",
       "0                 2           LOCOMOÇÃO, ALIMENTAÇÃO E  HOSPEDAGEM  ...   \n",
       "1                 2           LOCOMOÇÃO, ALIMENTAÇÃO E  HOSPEDAGEM  ...   \n",
       "2                10                                      TELEFONIA  ...   \n",
       "3                10                                      TELEFONIA  ...   \n",
       "4                10                                      TELEFONIA  ...   \n",
       "...             ...                                            ...  ...   \n",
       "4666836         998                        PASSAGEM AÉREA - SIGEPA  ...   \n",
       "4666837           5           DIVULGAÇÃO DA ATIVIDADE PARLAMENTAR.  ...   \n",
       "4666838          10                                      TELEFONIA  ...   \n",
       "4666839         120  LOCAÇÃO OU FRETAMENTO DE VEÍCULOS AUTOMOTORES  ...   \n",
       "4666840         120  LOCAÇÃO OU FRETAMENTO DE VEÍCULOS AUTOMOTORES  ...   \n",
       "\n",
       "         numParcela             txtPassageiro    txtTrecho  numLote  \\\n",
       "0                 0                       NaN          NaN   405260   \n",
       "1                 0                       NaN          NaN   387830   \n",
       "2                 0                       NaN          NaN        0   \n",
       "3                 0                       NaN          NaN        0   \n",
       "4                 0                       NaN          NaN        0   \n",
       "...             ...                       ...          ...      ...   \n",
       "4666836           0  FABIO GONCALVES DE RUEDA  BSB/GRU/REC        0   \n",
       "4666837           0                       NaN          NaN  2002507   \n",
       "4666838           0                       NaN          NaN        0   \n",
       "4666839           0                       NaN          NaN  2003390   \n",
       "4666840           0                       NaN          NaN  2003390   \n",
       "\n",
       "        numRessarcimento  datPagamentoRestituicao vlrRestituicao  \\\n",
       "0                    NaN                      NaN            NaN   \n",
       "1                    NaN                      NaN            NaN   \n",
       "2                    0.0                      NaN            NaN   \n",
       "3                    0.0                      NaN            NaN   \n",
       "4                    0.0                      NaN            NaN   \n",
       "...                  ...                      ...            ...   \n",
       "4666836              0.0                      NaN            NaN   \n",
       "4666837              NaN                      NaN            NaN   \n",
       "4666838              0.0                      NaN            NaN   \n",
       "4666839              NaN                      NaN            NaN   \n",
       "4666840              NaN                      NaN            NaN   \n",
       "\n",
       "         nuDeputadoId  ideDocumento  \\\n",
       "0                1970       1612380   \n",
       "1                1970       1561354   \n",
       "2                1973             0   \n",
       "3                 764             0   \n",
       "4                 961             0   \n",
       "...               ...           ...   \n",
       "4666836          3755        218349   \n",
       "4666837          3756       7669098   \n",
       "4666838          3756             0   \n",
       "4666839          3756       7670764   \n",
       "4666840          3756       7670760   \n",
       "\n",
       "                                              urlDocumento  \n",
       "0                                                      NaN  \n",
       "1                                                      NaN  \n",
       "2                                                      NaN  \n",
       "3                                                      NaN  \n",
       "4                                                      NaN  \n",
       "...                                                    ...  \n",
       "4666836                                                NaN  \n",
       "4666837  https://www.camara.leg.br/cota-parlamentar/doc...  \n",
       "4666838                                                NaN  \n",
       "4666839  https://www.camara.leg.br/cota-parlamentar/doc...  \n",
       "4666840  https://www.camara.leg.br/cota-parlamentar/doc...  \n",
       "\n",
       "[4666841 rows x 32 columns]"
      ]
     },
     "execution_count": 5,
     "metadata": {},
     "output_type": "execute_result"
    }
   ],
   "source": [
    "despesas_completo"
   ]
  },
  {
   "attachments": {},
   "cell_type": "markdown",
   "id": "a0c3196f",
   "metadata": {},
   "source": [
    "Selecionando colunas de interesse"
   ]
  },
  {
   "cell_type": "code",
   "execution_count": 6,
   "id": "04dde76e",
   "metadata": {},
   "outputs": [
    {
     "data": {
      "text/plain": [
       "Index(['txNomeParlamentar', 'cpf', 'ideCadastro', 'nuCarteiraParlamentar',\n",
       "       'nuLegislatura', 'sgUF', 'sgPartido', 'codLegislatura', 'numSubCota',\n",
       "       'txtDescricao', 'numEspecificacaoSubCota', 'txtDescricaoEspecificacao',\n",
       "       'txtFornecedor', 'txtCNPJCPF', 'txtNumero', 'indTipoDocumento',\n",
       "       'datEmissao', 'vlrDocumento', 'vlrGlosa', 'vlrLiquido', 'numMes',\n",
       "       'numAno', 'numParcela', 'txtPassageiro', 'txtTrecho', 'numLote',\n",
       "       'numRessarcimento', 'datPagamentoRestituicao', 'vlrRestituicao',\n",
       "       'nuDeputadoId', 'ideDocumento', 'urlDocumento'],\n",
       "      dtype='object')"
      ]
     },
     "execution_count": 6,
     "metadata": {},
     "output_type": "execute_result"
    }
   ],
   "source": [
    "# Listar colunas\n",
    "despesas_completo.columns"
   ]
  },
  {
   "cell_type": "code",
   "execution_count": 7,
   "id": "8b512916",
   "metadata": {},
   "outputs": [],
   "source": [
    "# Selecionar colunas\n",
    "dataset = despesas_completo.loc[:,['sgUF', 'sgPartido', 'txtDescricao', 'datEmissao', 'vlrLiquido']]"
   ]
  },
  {
   "cell_type": "code",
   "execution_count": 8,
   "id": "19d74ae6",
   "metadata": {},
   "outputs": [
    {
     "data": {
      "text/html": [
       "<div>\n",
       "<style scoped>\n",
       "    .dataframe tbody tr th:only-of-type {\n",
       "        vertical-align: middle;\n",
       "    }\n",
       "\n",
       "    .dataframe tbody tr th {\n",
       "        vertical-align: top;\n",
       "    }\n",
       "\n",
       "    .dataframe thead th {\n",
       "        text-align: right;\n",
       "    }\n",
       "</style>\n",
       "<table border=\"1\" class=\"dataframe\">\n",
       "  <thead>\n",
       "    <tr style=\"text-align: right;\">\n",
       "      <th></th>\n",
       "      <th>sgUF</th>\n",
       "      <th>sgPartido</th>\n",
       "      <th>txtDescricao</th>\n",
       "      <th>datEmissao</th>\n",
       "      <th>vlrLiquido</th>\n",
       "    </tr>\n",
       "  </thead>\n",
       "  <tbody>\n",
       "    <tr>\n",
       "      <th>0</th>\n",
       "      <td>BA</td>\n",
       "      <td>PT</td>\n",
       "      <td>LOCOMOÇÃO, ALIMENTAÇÃO E  HOSPEDAGEM</td>\n",
       "      <td>2009-06-18T00:00:00</td>\n",
       "      <td>3800.00</td>\n",
       "    </tr>\n",
       "    <tr>\n",
       "      <th>1</th>\n",
       "      <td>BA</td>\n",
       "      <td>PT</td>\n",
       "      <td>LOCOMOÇÃO, ALIMENTAÇÃO E  HOSPEDAGEM</td>\n",
       "      <td>2009-03-30T00:00:00</td>\n",
       "      <td>6000.00</td>\n",
       "    </tr>\n",
       "    <tr>\n",
       "      <th>2</th>\n",
       "      <td>PE</td>\n",
       "      <td>PTB</td>\n",
       "      <td>TELEFONIA</td>\n",
       "      <td>2008-12-01T00:00:00</td>\n",
       "      <td>80.01</td>\n",
       "    </tr>\n",
       "    <tr>\n",
       "      <th>3</th>\n",
       "      <td>SP</td>\n",
       "      <td>PCdoB</td>\n",
       "      <td>TELEFONIA</td>\n",
       "      <td>2008-12-01T00:00:00</td>\n",
       "      <td>372.55</td>\n",
       "    </tr>\n",
       "    <tr>\n",
       "      <th>4</th>\n",
       "      <td>SP</td>\n",
       "      <td>PSDB</td>\n",
       "      <td>TELEFONIA</td>\n",
       "      <td>2008-03-10T00:00:00</td>\n",
       "      <td>38.48</td>\n",
       "    </tr>\n",
       "    <tr>\n",
       "      <th>...</th>\n",
       "      <td>...</td>\n",
       "      <td>...</td>\n",
       "      <td>...</td>\n",
       "      <td>...</td>\n",
       "      <td>...</td>\n",
       "    </tr>\n",
       "    <tr>\n",
       "      <th>4666836</th>\n",
       "      <td>AC</td>\n",
       "      <td>UNIÃO</td>\n",
       "      <td>PASSAGEM AÉREA - SIGEPA</td>\n",
       "      <td>2023-12-20T12:00:00</td>\n",
       "      <td>1367.51</td>\n",
       "    </tr>\n",
       "    <tr>\n",
       "      <th>4666837</th>\n",
       "      <td>SP</td>\n",
       "      <td>UNIÃO</td>\n",
       "      <td>DIVULGAÇÃO DA ATIVIDADE PARLAMENTAR.</td>\n",
       "      <td>2023-12-28T00:00:00</td>\n",
       "      <td>11000.00</td>\n",
       "    </tr>\n",
       "    <tr>\n",
       "      <th>4666838</th>\n",
       "      <td>SP</td>\n",
       "      <td>UNIÃO</td>\n",
       "      <td>TELEFONIA</td>\n",
       "      <td>NaN</td>\n",
       "      <td>0.51</td>\n",
       "    </tr>\n",
       "    <tr>\n",
       "      <th>4666839</th>\n",
       "      <td>SP</td>\n",
       "      <td>UNIÃO</td>\n",
       "      <td>LOCAÇÃO OU FRETAMENTO DE VEÍCULOS AUTOMOTORES</td>\n",
       "      <td>2023-12-28T00:00:00</td>\n",
       "      <td>1393.34</td>\n",
       "    </tr>\n",
       "    <tr>\n",
       "      <th>4666840</th>\n",
       "      <td>SP</td>\n",
       "      <td>UNIÃO</td>\n",
       "      <td>LOCAÇÃO OU FRETAMENTO DE VEÍCULOS AUTOMOTORES</td>\n",
       "      <td>2023-12-28T00:00:00</td>\n",
       "      <td>1393.34</td>\n",
       "    </tr>\n",
       "  </tbody>\n",
       "</table>\n",
       "<p>4666841 rows × 5 columns</p>\n",
       "</div>"
      ],
      "text/plain": [
       "        sgUF sgPartido                                   txtDescricao  \\\n",
       "0         BA        PT           LOCOMOÇÃO, ALIMENTAÇÃO E  HOSPEDAGEM   \n",
       "1         BA        PT           LOCOMOÇÃO, ALIMENTAÇÃO E  HOSPEDAGEM   \n",
       "2         PE       PTB                                      TELEFONIA   \n",
       "3         SP     PCdoB                                      TELEFONIA   \n",
       "4         SP      PSDB                                      TELEFONIA   \n",
       "...      ...       ...                                            ...   \n",
       "4666836   AC     UNIÃO                        PASSAGEM AÉREA - SIGEPA   \n",
       "4666837   SP     UNIÃO           DIVULGAÇÃO DA ATIVIDADE PARLAMENTAR.   \n",
       "4666838   SP     UNIÃO                                      TELEFONIA   \n",
       "4666839   SP     UNIÃO  LOCAÇÃO OU FRETAMENTO DE VEÍCULOS AUTOMOTORES   \n",
       "4666840   SP     UNIÃO  LOCAÇÃO OU FRETAMENTO DE VEÍCULOS AUTOMOTORES   \n",
       "\n",
       "                  datEmissao  vlrLiquido  \n",
       "0        2009-06-18T00:00:00     3800.00  \n",
       "1        2009-03-30T00:00:00     6000.00  \n",
       "2        2008-12-01T00:00:00       80.01  \n",
       "3        2008-12-01T00:00:00      372.55  \n",
       "4        2008-03-10T00:00:00       38.48  \n",
       "...                      ...         ...  \n",
       "4666836  2023-12-20T12:00:00     1367.51  \n",
       "4666837  2023-12-28T00:00:00    11000.00  \n",
       "4666838                  NaN        0.51  \n",
       "4666839  2023-12-28T00:00:00     1393.34  \n",
       "4666840  2023-12-28T00:00:00     1393.34  \n",
       "\n",
       "[4666841 rows x 5 columns]"
      ]
     },
     "execution_count": 8,
     "metadata": {},
     "output_type": "execute_result"
    }
   ],
   "source": [
    "# Visualizar dados de estudo\n",
    "dataset"
   ]
  },
  {
   "attachments": {},
   "cell_type": "markdown",
   "id": "2fbdaa79",
   "metadata": {},
   "source": [
    "Conferindo dados Selecionados"
   ]
  },
  {
   "cell_type": "code",
   "execution_count": 9,
   "id": "1d430234",
   "metadata": {},
   "outputs": [
    {
     "data": {
      "text/html": [
       "<div>\n",
       "<style scoped>\n",
       "    .dataframe tbody tr th:only-of-type {\n",
       "        vertical-align: middle;\n",
       "    }\n",
       "\n",
       "    .dataframe tbody tr th {\n",
       "        vertical-align: top;\n",
       "    }\n",
       "\n",
       "    .dataframe thead th {\n",
       "        text-align: right;\n",
       "    }\n",
       "</style>\n",
       "<table border=\"1\" class=\"dataframe\">\n",
       "  <thead>\n",
       "    <tr style=\"text-align: right;\">\n",
       "      <th></th>\n",
       "      <th>sgUF</th>\n",
       "      <th>sgPartido</th>\n",
       "      <th>txtDescricao</th>\n",
       "      <th>datEmissao</th>\n",
       "      <th>vlrLiquido</th>\n",
       "    </tr>\n",
       "  </thead>\n",
       "  <tbody>\n",
       "    <tr>\n",
       "      <th>0</th>\n",
       "      <td>BA</td>\n",
       "      <td>PT</td>\n",
       "      <td>LOCOMOÇÃO, ALIMENTAÇÃO E  HOSPEDAGEM</td>\n",
       "      <td>2009-06-18T00:00:00</td>\n",
       "      <td>3800.00</td>\n",
       "    </tr>\n",
       "    <tr>\n",
       "      <th>1</th>\n",
       "      <td>BA</td>\n",
       "      <td>PT</td>\n",
       "      <td>LOCOMOÇÃO, ALIMENTAÇÃO E  HOSPEDAGEM</td>\n",
       "      <td>2009-03-30T00:00:00</td>\n",
       "      <td>6000.00</td>\n",
       "    </tr>\n",
       "    <tr>\n",
       "      <th>2</th>\n",
       "      <td>PE</td>\n",
       "      <td>PTB</td>\n",
       "      <td>TELEFONIA</td>\n",
       "      <td>2008-12-01T00:00:00</td>\n",
       "      <td>80.01</td>\n",
       "    </tr>\n",
       "    <tr>\n",
       "      <th>3</th>\n",
       "      <td>SP</td>\n",
       "      <td>PCdoB</td>\n",
       "      <td>TELEFONIA</td>\n",
       "      <td>2008-12-01T00:00:00</td>\n",
       "      <td>372.55</td>\n",
       "    </tr>\n",
       "    <tr>\n",
       "      <th>4</th>\n",
       "      <td>SP</td>\n",
       "      <td>PSDB</td>\n",
       "      <td>TELEFONIA</td>\n",
       "      <td>2008-03-10T00:00:00</td>\n",
       "      <td>38.48</td>\n",
       "    </tr>\n",
       "    <tr>\n",
       "      <th>5</th>\n",
       "      <td>SP</td>\n",
       "      <td>PSDB</td>\n",
       "      <td>TELEFONIA</td>\n",
       "      <td>2008-12-01T00:00:00</td>\n",
       "      <td>15.21</td>\n",
       "    </tr>\n",
       "    <tr>\n",
       "      <th>6</th>\n",
       "      <td>SP</td>\n",
       "      <td>PTB</td>\n",
       "      <td>TELEFONIA</td>\n",
       "      <td>2008-12-01T00:00:00</td>\n",
       "      <td>31.57</td>\n",
       "    </tr>\n",
       "    <tr>\n",
       "      <th>7</th>\n",
       "      <td>SP</td>\n",
       "      <td>PP**</td>\n",
       "      <td>COMBUSTÍVEIS E LUBRIFICANTES.</td>\n",
       "      <td>2008-11-03T00:00:00</td>\n",
       "      <td>156.01</td>\n",
       "    </tr>\n",
       "    <tr>\n",
       "      <th>8</th>\n",
       "      <td>SP</td>\n",
       "      <td>PP**</td>\n",
       "      <td>COMBUSTÍVEIS E LUBRIFICANTES.</td>\n",
       "      <td>2008-11-28T00:00:00</td>\n",
       "      <td>151.00</td>\n",
       "    </tr>\n",
       "    <tr>\n",
       "      <th>9</th>\n",
       "      <td>SP</td>\n",
       "      <td>PP**</td>\n",
       "      <td>COMBUSTÍVEIS E LUBRIFICANTES.</td>\n",
       "      <td>2008-12-09T00:00:00</td>\n",
       "      <td>39.00</td>\n",
       "    </tr>\n",
       "  </tbody>\n",
       "</table>\n",
       "</div>"
      ],
      "text/plain": [
       "  sgUF sgPartido                          txtDescricao           datEmissao  \\\n",
       "0   BA        PT  LOCOMOÇÃO, ALIMENTAÇÃO E  HOSPEDAGEM  2009-06-18T00:00:00   \n",
       "1   BA        PT  LOCOMOÇÃO, ALIMENTAÇÃO E  HOSPEDAGEM  2009-03-30T00:00:00   \n",
       "2   PE       PTB                             TELEFONIA  2008-12-01T00:00:00   \n",
       "3   SP     PCdoB                             TELEFONIA  2008-12-01T00:00:00   \n",
       "4   SP      PSDB                             TELEFONIA  2008-03-10T00:00:00   \n",
       "5   SP      PSDB                             TELEFONIA  2008-12-01T00:00:00   \n",
       "6   SP       PTB                             TELEFONIA  2008-12-01T00:00:00   \n",
       "7   SP      PP**         COMBUSTÍVEIS E LUBRIFICANTES.  2008-11-03T00:00:00   \n",
       "8   SP      PP**         COMBUSTÍVEIS E LUBRIFICANTES.  2008-11-28T00:00:00   \n",
       "9   SP      PP**         COMBUSTÍVEIS E LUBRIFICANTES.  2008-12-09T00:00:00   \n",
       "\n",
       "   vlrLiquido  \n",
       "0     3800.00  \n",
       "1     6000.00  \n",
       "2       80.01  \n",
       "3      372.55  \n",
       "4       38.48  \n",
       "5       15.21  \n",
       "6       31.57  \n",
       "7      156.01  \n",
       "8      151.00  \n",
       "9       39.00  "
      ]
     },
     "execution_count": 9,
     "metadata": {},
     "output_type": "execute_result"
    }
   ],
   "source": [
    "dataset.head(10)"
   ]
  },
  {
   "cell_type": "code",
   "execution_count": 10,
   "id": "c6f22216",
   "metadata": {},
   "outputs": [
    {
     "data": {
      "text/html": [
       "<div>\n",
       "<style scoped>\n",
       "    .dataframe tbody tr th:only-of-type {\n",
       "        vertical-align: middle;\n",
       "    }\n",
       "\n",
       "    .dataframe tbody tr th {\n",
       "        vertical-align: top;\n",
       "    }\n",
       "\n",
       "    .dataframe thead th {\n",
       "        text-align: right;\n",
       "    }\n",
       "</style>\n",
       "<table border=\"1\" class=\"dataframe\">\n",
       "  <thead>\n",
       "    <tr style=\"text-align: right;\">\n",
       "      <th></th>\n",
       "      <th>sgUF</th>\n",
       "      <th>sgPartido</th>\n",
       "      <th>txtDescricao</th>\n",
       "      <th>datEmissao</th>\n",
       "      <th>vlrLiquido</th>\n",
       "    </tr>\n",
       "  </thead>\n",
       "  <tbody>\n",
       "    <tr>\n",
       "      <th>4666831</th>\n",
       "      <td>AC</td>\n",
       "      <td>UNIÃO</td>\n",
       "      <td>COMBUSTÍVEIS E LUBRIFICANTES.</td>\n",
       "      <td>2023-12-20T00:00:00</td>\n",
       "      <td>265.03</td>\n",
       "    </tr>\n",
       "    <tr>\n",
       "      <th>4666832</th>\n",
       "      <td>AC</td>\n",
       "      <td>UNIÃO</td>\n",
       "      <td>DIVULGAÇÃO DA ATIVIDADE PARLAMENTAR.</td>\n",
       "      <td>2023-12-28T00:00:00</td>\n",
       "      <td>12500.00</td>\n",
       "    </tr>\n",
       "    <tr>\n",
       "      <th>4666833</th>\n",
       "      <td>AC</td>\n",
       "      <td>UNIÃO</td>\n",
       "      <td>DIVULGAÇÃO DA ATIVIDADE PARLAMENTAR.</td>\n",
       "      <td>2023-12-20T00:00:00</td>\n",
       "      <td>10000.00</td>\n",
       "    </tr>\n",
       "    <tr>\n",
       "      <th>4666834</th>\n",
       "      <td>AC</td>\n",
       "      <td>UNIÃO</td>\n",
       "      <td>PASSAGEM AÉREA - REEMBOLSO</td>\n",
       "      <td>2023-12-16T00:00:00</td>\n",
       "      <td>1525.25</td>\n",
       "    </tr>\n",
       "    <tr>\n",
       "      <th>4666835</th>\n",
       "      <td>AC</td>\n",
       "      <td>UNIÃO</td>\n",
       "      <td>TELEFONIA</td>\n",
       "      <td>NaN</td>\n",
       "      <td>1.44</td>\n",
       "    </tr>\n",
       "    <tr>\n",
       "      <th>4666836</th>\n",
       "      <td>AC</td>\n",
       "      <td>UNIÃO</td>\n",
       "      <td>PASSAGEM AÉREA - SIGEPA</td>\n",
       "      <td>2023-12-20T12:00:00</td>\n",
       "      <td>1367.51</td>\n",
       "    </tr>\n",
       "    <tr>\n",
       "      <th>4666837</th>\n",
       "      <td>SP</td>\n",
       "      <td>UNIÃO</td>\n",
       "      <td>DIVULGAÇÃO DA ATIVIDADE PARLAMENTAR.</td>\n",
       "      <td>2023-12-28T00:00:00</td>\n",
       "      <td>11000.00</td>\n",
       "    </tr>\n",
       "    <tr>\n",
       "      <th>4666838</th>\n",
       "      <td>SP</td>\n",
       "      <td>UNIÃO</td>\n",
       "      <td>TELEFONIA</td>\n",
       "      <td>NaN</td>\n",
       "      <td>0.51</td>\n",
       "    </tr>\n",
       "    <tr>\n",
       "      <th>4666839</th>\n",
       "      <td>SP</td>\n",
       "      <td>UNIÃO</td>\n",
       "      <td>LOCAÇÃO OU FRETAMENTO DE VEÍCULOS AUTOMOTORES</td>\n",
       "      <td>2023-12-28T00:00:00</td>\n",
       "      <td>1393.34</td>\n",
       "    </tr>\n",
       "    <tr>\n",
       "      <th>4666840</th>\n",
       "      <td>SP</td>\n",
       "      <td>UNIÃO</td>\n",
       "      <td>LOCAÇÃO OU FRETAMENTO DE VEÍCULOS AUTOMOTORES</td>\n",
       "      <td>2023-12-28T00:00:00</td>\n",
       "      <td>1393.34</td>\n",
       "    </tr>\n",
       "  </tbody>\n",
       "</table>\n",
       "</div>"
      ],
      "text/plain": [
       "        sgUF sgPartido                                   txtDescricao  \\\n",
       "4666831   AC     UNIÃO                  COMBUSTÍVEIS E LUBRIFICANTES.   \n",
       "4666832   AC     UNIÃO           DIVULGAÇÃO DA ATIVIDADE PARLAMENTAR.   \n",
       "4666833   AC     UNIÃO           DIVULGAÇÃO DA ATIVIDADE PARLAMENTAR.   \n",
       "4666834   AC     UNIÃO                     PASSAGEM AÉREA - REEMBOLSO   \n",
       "4666835   AC     UNIÃO                                      TELEFONIA   \n",
       "4666836   AC     UNIÃO                        PASSAGEM AÉREA - SIGEPA   \n",
       "4666837   SP     UNIÃO           DIVULGAÇÃO DA ATIVIDADE PARLAMENTAR.   \n",
       "4666838   SP     UNIÃO                                      TELEFONIA   \n",
       "4666839   SP     UNIÃO  LOCAÇÃO OU FRETAMENTO DE VEÍCULOS AUTOMOTORES   \n",
       "4666840   SP     UNIÃO  LOCAÇÃO OU FRETAMENTO DE VEÍCULOS AUTOMOTORES   \n",
       "\n",
       "                  datEmissao  vlrLiquido  \n",
       "4666831  2023-12-20T00:00:00      265.03  \n",
       "4666832  2023-12-28T00:00:00    12500.00  \n",
       "4666833  2023-12-20T00:00:00    10000.00  \n",
       "4666834  2023-12-16T00:00:00     1525.25  \n",
       "4666835                  NaN        1.44  \n",
       "4666836  2023-12-20T12:00:00     1367.51  \n",
       "4666837  2023-12-28T00:00:00    11000.00  \n",
       "4666838                  NaN        0.51  \n",
       "4666839  2023-12-28T00:00:00     1393.34  \n",
       "4666840  2023-12-28T00:00:00     1393.34  "
      ]
     },
     "execution_count": 10,
     "metadata": {},
     "output_type": "execute_result"
    }
   ],
   "source": [
    "dataset.tail(10)"
   ]
  },
  {
   "cell_type": "code",
   "execution_count": 11,
   "id": "fec42174",
   "metadata": {},
   "outputs": [
    {
     "data": {
      "text/plain": [
       "(4666841, 5)"
      ]
     },
     "execution_count": 11,
     "metadata": {},
     "output_type": "execute_result"
    }
   ],
   "source": [
    "dataset.shape"
   ]
  },
  {
   "cell_type": "code",
   "execution_count": 12,
   "id": "7f0782a9",
   "metadata": {},
   "outputs": [
    {
     "data": {
      "text/plain": [
       "count    4.666841e+06\n",
       "mean     6.294373e+02\n",
       "std      2.126597e+03\n",
       "min     -2.097470e+04\n",
       "25%      4.500000e+01\n",
       "50%      1.444100e+02\n",
       "75%      4.900200e+02\n",
       "max      2.150000e+05\n",
       "Name: vlrLiquido, dtype: float64"
      ]
     },
     "execution_count": 12,
     "metadata": {},
     "output_type": "execute_result"
    }
   ],
   "source": [
    "dataset['vlrLiquido'].describe()"
   ]
  },
  {
   "cell_type": "code",
   "execution_count": 13,
   "id": "2b72fa16",
   "metadata": {},
   "outputs": [
    {
     "data": {
      "text/html": [
       "<div>\n",
       "<style scoped>\n",
       "    .dataframe tbody tr th:only-of-type {\n",
       "        vertical-align: middle;\n",
       "    }\n",
       "\n",
       "    .dataframe tbody tr th {\n",
       "        vertical-align: top;\n",
       "    }\n",
       "\n",
       "    .dataframe thead th {\n",
       "        text-align: right;\n",
       "    }\n",
       "</style>\n",
       "<table border=\"1\" class=\"dataframe\">\n",
       "  <thead>\n",
       "    <tr style=\"text-align: right;\">\n",
       "      <th></th>\n",
       "      <th>sgUF</th>\n",
       "      <th>sgPartido</th>\n",
       "      <th>txtDescricao</th>\n",
       "    </tr>\n",
       "  </thead>\n",
       "  <tbody>\n",
       "    <tr>\n",
       "      <th>count</th>\n",
       "      <td>4658686</td>\n",
       "      <td>4658686</td>\n",
       "      <td>4666841</td>\n",
       "    </tr>\n",
       "    <tr>\n",
       "      <th>unique</th>\n",
       "      <td>27</td>\n",
       "      <td>43</td>\n",
       "      <td>24</td>\n",
       "    </tr>\n",
       "    <tr>\n",
       "      <th>top</th>\n",
       "      <td>SP</td>\n",
       "      <td>PT</td>\n",
       "      <td>PASSAGEM AÉREA - RPA</td>\n",
       "    </tr>\n",
       "    <tr>\n",
       "      <th>freq</th>\n",
       "      <td>727060</td>\n",
       "      <td>716019</td>\n",
       "      <td>1029936</td>\n",
       "    </tr>\n",
       "  </tbody>\n",
       "</table>\n",
       "</div>"
      ],
      "text/plain": [
       "           sgUF sgPartido          txtDescricao\n",
       "count   4658686   4658686               4666841\n",
       "unique       27        43                    24\n",
       "top          SP        PT  PASSAGEM AÉREA - RPA\n",
       "freq     727060    716019               1029936"
      ]
     },
     "execution_count": 13,
     "metadata": {},
     "output_type": "execute_result"
    }
   ],
   "source": [
    "dataset[['sgUF', 'sgPartido', 'txtDescricao']].describe()"
   ]
  },
  {
   "cell_type": "code",
   "execution_count": 14,
   "id": "2d374d2c",
   "metadata": {},
   "outputs": [
    {
     "name": "stdout",
     "output_type": "stream",
     "text": [
      "<class 'pandas.core.frame.DataFrame'>\n",
      "RangeIndex: 4666841 entries, 0 to 4666840\n",
      "Data columns (total 5 columns):\n",
      " #   Column        Dtype  \n",
      "---  ------        -----  \n",
      " 0   sgUF          object \n",
      " 1   sgPartido     object \n",
      " 2   txtDescricao  object \n",
      " 3   datEmissao    object \n",
      " 4   vlrLiquido    float64\n",
      "dtypes: float64(1), object(4)\n",
      "memory usage: 178.0+ MB\n"
     ]
    }
   ],
   "source": [
    "dataset.info()"
   ]
  },
  {
   "attachments": {},
   "cell_type": "markdown",
   "id": "868e7e08",
   "metadata": {},
   "source": [
    "Alterar tipos de dados"
   ]
  },
  {
   "cell_type": "code",
   "execution_count": 15,
   "id": "cbb9515e",
   "metadata": {},
   "outputs": [],
   "source": [
    "dataset['datEmissao'] = pd.to_datetime(dataset['datEmissao'], errors='coerce')"
   ]
  },
  {
   "attachments": {},
   "cell_type": "markdown",
   "id": "0834d6d5",
   "metadata": {},
   "source": [
    "Limpeza de dados"
   ]
  },
  {
   "cell_type": "code",
   "execution_count": 16,
   "id": "4dcca07e",
   "metadata": {},
   "outputs": [],
   "source": [
    "#Remover duplicatas\n",
    "dataset = dataset.drop_duplicates(keep=\"first\")"
   ]
  },
  {
   "cell_type": "code",
   "execution_count": 17,
   "id": "00703db6",
   "metadata": {},
   "outputs": [],
   "source": [
    "#Remover valores\n",
    "#dataset = dataset.loc[dataset['coluna'] == 'valor']"
   ]
  },
  {
   "cell_type": "code",
   "execution_count": 18,
   "id": "cfe393b4",
   "metadata": {},
   "outputs": [],
   "source": [
    "#Remover colunas desnecessárias\n",
    "#dataset = dataset.drop(columns=['coluna1', 'coluna2'])"
   ]
  },
  {
   "attachments": {},
   "cell_type": "markdown",
   "id": "69a6ded2",
   "metadata": {},
   "source": [
    "Dados faltantes"
   ]
  },
  {
   "cell_type": "code",
   "execution_count": 19,
   "id": "8d86b933",
   "metadata": {},
   "outputs": [],
   "source": [
    "#Deletar linhas com dados faltantes\n",
    "dataset = dataset.dropna()"
   ]
  },
  {
   "cell_type": "code",
   "execution_count": 20,
   "id": "7f3e69fb",
   "metadata": {},
   "outputs": [
    {
     "data": {
      "text/plain": [
       "\" imputer = SimpleImputer(minssing_valeues = np.nan, strategy='mean')\\nimputer.fit(dataset[:,:])\\nimputer.transform(dataset[:, :]) \""
      ]
     },
     "execution_count": 20,
     "metadata": {},
     "output_type": "execute_result"
    }
   ],
   "source": [
    "#Imputar valores\n",
    "\"\"\" imputer = SimpleImputer(minssing_valeues = np.nan, strategy='mean')\n",
    "imputer.fit(dataset[:,:])\n",
    "imputer.transform(dataset[:, :]) \"\"\""
   ]
  },
  {
   "cell_type": "code",
   "execution_count": 21,
   "id": "00d752e3",
   "metadata": {},
   "outputs": [],
   "source": [
    "#Substituir valores\n",
    "# dataset.replace(old_value, new_value, inplace=True)"
   ]
  },
  {
   "attachments": {},
   "cell_type": "markdown",
   "id": "72b56a62",
   "metadata": {},
   "source": [
    "Selecionar Foco do estudo"
   ]
  },
  {
   "cell_type": "code",
   "execution_count": 22,
   "id": "1a4ab474",
   "metadata": {},
   "outputs": [
    {
     "data": {
      "text/html": [
       "<div>\n",
       "<style scoped>\n",
       "    .dataframe tbody tr th:only-of-type {\n",
       "        vertical-align: middle;\n",
       "    }\n",
       "\n",
       "    .dataframe tbody tr th {\n",
       "        vertical-align: top;\n",
       "    }\n",
       "\n",
       "    .dataframe thead th {\n",
       "        text-align: right;\n",
       "    }\n",
       "</style>\n",
       "<table border=\"1\" class=\"dataframe\">\n",
       "  <thead>\n",
       "    <tr style=\"text-align: right;\">\n",
       "      <th></th>\n",
       "      <th>sgUF</th>\n",
       "      <th>sgPartido</th>\n",
       "      <th>txtDescricao</th>\n",
       "    </tr>\n",
       "  </thead>\n",
       "  <tbody>\n",
       "    <tr>\n",
       "      <th>count</th>\n",
       "      <td>4133926</td>\n",
       "      <td>4133926</td>\n",
       "      <td>4133926</td>\n",
       "    </tr>\n",
       "    <tr>\n",
       "      <th>unique</th>\n",
       "      <td>27</td>\n",
       "      <td>43</td>\n",
       "      <td>24</td>\n",
       "    </tr>\n",
       "    <tr>\n",
       "      <th>top</th>\n",
       "      <td>SP</td>\n",
       "      <td>PT</td>\n",
       "      <td>COMBUSTÍVEIS E LUBRIFICANTES.</td>\n",
       "    </tr>\n",
       "    <tr>\n",
       "      <th>freq</th>\n",
       "      <td>635110</td>\n",
       "      <td>635984</td>\n",
       "      <td>960118</td>\n",
       "    </tr>\n",
       "  </tbody>\n",
       "</table>\n",
       "</div>"
      ],
      "text/plain": [
       "           sgUF sgPartido                   txtDescricao\n",
       "count   4133926   4133926                        4133926\n",
       "unique       27        43                             24\n",
       "top          SP        PT  COMBUSTÍVEIS E LUBRIFICANTES.\n",
       "freq     635110    635984                         960118"
      ]
     },
     "execution_count": 22,
     "metadata": {},
     "output_type": "execute_result"
    }
   ],
   "source": [
    "dataset[['sgUF', 'sgPartido', 'txtDescricao']].describe()"
   ]
  },
  {
   "cell_type": "code",
   "execution_count": 23,
   "id": "4dce82b0",
   "metadata": {},
   "outputs": [],
   "source": [
    "dataset = dataset[dataset['txtDescricao'] == 'COMBUSTÍVEIS E LUBRIFICANTES.']"
   ]
  },
  {
   "cell_type": "code",
   "execution_count": 24,
   "id": "d0ea970e",
   "metadata": {},
   "outputs": [
    {
     "data": {
      "text/plain": [
       "Index(['sgUF', 'sgPartido', 'txtDescricao', 'datEmissao', 'vlrLiquido'], dtype='object')"
      ]
     },
     "execution_count": 24,
     "metadata": {},
     "output_type": "execute_result"
    }
   ],
   "source": [
    "dataset.columns"
   ]
  },
  {
   "attachments": {},
   "cell_type": "markdown",
   "id": "09c2b56c",
   "metadata": {},
   "source": [
    "Medidas de tendência central"
   ]
  },
  {
   "cell_type": "code",
   "execution_count": 25,
   "id": "9ad56373",
   "metadata": {},
   "outputs": [
    {
     "data": {
      "text/plain": [
       "254.9987523408581"
      ]
     },
     "execution_count": 25,
     "metadata": {},
     "output_type": "execute_result"
    }
   ],
   "source": [
    "# Média geral\n",
    "dataset['vlrLiquido'].mean()\n"
   ]
  },
  {
   "cell_type": "code",
   "execution_count": 26,
   "id": "3a674a10",
   "metadata": {},
   "outputs": [
    {
     "data": {
      "text/plain": [
       "sgUF\n",
       "AC    852.312785\n",
       "AL    275.400148\n",
       "AM    259.688143\n",
       "AP    334.053753\n",
       "BA    239.557081\n",
       "CE    360.001143\n",
       "DF    197.584708\n",
       "ES    391.664529\n",
       "GO    338.436276\n",
       "MA    333.919200\n",
       "MG    250.005431\n",
       "MS    307.401728\n",
       "MT    229.763833\n",
       "PA    321.654468\n",
       "PB    329.571394\n",
       "PE    268.369434\n",
       "PI    485.339527\n",
       "PR    229.259061\n",
       "RJ    206.828763\n",
       "RN    235.597293\n",
       "RO    282.974299\n",
       "RR    768.186409\n",
       "RS    170.737813\n",
       "SC    189.389675\n",
       "SE    532.802181\n",
       "SP    194.698248\n",
       "TO    451.731652\n",
       "Name: vlrLiquido, dtype: float64"
      ]
     },
     "execution_count": 26,
     "metadata": {},
     "output_type": "execute_result"
    }
   ],
   "source": [
    "# Média por estado\n",
    "dataset.groupby('sgUF')['vlrLiquido'].mean()"
   ]
  },
  {
   "cell_type": "code",
   "execution_count": 27,
   "id": "059bf635",
   "metadata": {},
   "outputs": [
    {
     "data": {
      "text/plain": [
       "sgPartido\n",
       "AVANTE            287.819347\n",
       "CIDADANIA         180.300654\n",
       "DEM               261.165322\n",
       "MDB               279.494975\n",
       "NOVO              180.055686\n",
       "PATRI             187.615964\n",
       "PATRIOTA          402.851081\n",
       "PCdoB             255.899899\n",
       "PDT               261.686270\n",
       "PEN               169.772178\n",
       "PHS               295.149717\n",
       "PL                269.815617\n",
       "PMDB              263.635812\n",
       "PMN               267.460800\n",
       "PODE              266.945031\n",
       "PP                298.173202\n",
       "PP**              218.378231\n",
       "PPL               159.508625\n",
       "PPS               154.424239\n",
       "PR                249.938859\n",
       "PRB               291.581838\n",
       "PRD               404.194912\n",
       "PROS              320.489950\n",
       "PRP               292.906014\n",
       "PRTB              134.037927\n",
       "PSB               219.765493\n",
       "PSC               249.711450\n",
       "PSD               282.523386\n",
       "PSDB              236.255129\n",
       "PSDC             1207.098750\n",
       "PSL               205.585560\n",
       "PSOL              195.810878\n",
       "PT                231.465390\n",
       "PTB               319.168633\n",
       "PTC               510.253811\n",
       "PTdoB             204.923361\n",
       "PV                204.102841\n",
       "REDE              223.080929\n",
       "REPUBLICANOS      268.478388\n",
       "S.PART.           245.437068\n",
       "SDD               200.503057\n",
       "SOLIDARIEDADE     313.222975\n",
       "UNIÃO             294.628145\n",
       "Name: vlrLiquido, dtype: float64"
      ]
     },
     "execution_count": 27,
     "metadata": {},
     "output_type": "execute_result"
    }
   ],
   "source": [
    "# Média por partido\n",
    "dataset.groupby('sgPartido')['vlrLiquido'].mean()"
   ]
  },
  {
   "cell_type": "code",
   "execution_count": 28,
   "id": "8512f0d7",
   "metadata": {},
   "outputs": [
    {
     "data": {
      "text/plain": [
       "0    100.0\n",
       "Name: vlrLiquido, dtype: float64"
      ]
     },
     "execution_count": 28,
     "metadata": {},
     "output_type": "execute_result"
    }
   ],
   "source": [
    "# Moda geral\n",
    "dataset['vlrLiquido'].mode()"
   ]
  },
  {
   "cell_type": "code",
   "execution_count": 29,
   "id": "8b97076e",
   "metadata": {},
   "outputs": [
    {
     "ename": "AttributeError",
     "evalue": "'SeriesGroupBy' object has no attribute 'mode'",
     "output_type": "error",
     "traceback": [
      "\u001b[1;31m---------------------------------------------------------------------------\u001b[0m",
      "\u001b[1;31mAttributeError\u001b[0m                            Traceback (most recent call last)",
      "Cell \u001b[1;32mIn[29], line 2\u001b[0m\n\u001b[0;32m      1\u001b[0m \u001b[38;5;66;03m# Moda por estado\u001b[39;00m\n\u001b[1;32m----> 2\u001b[0m \u001b[43mdataset\u001b[49m\u001b[38;5;241;43m.\u001b[39;49m\u001b[43mgroupby\u001b[49m\u001b[43m(\u001b[49m\u001b[38;5;124;43m'\u001b[39;49m\u001b[38;5;124;43msgUF\u001b[39;49m\u001b[38;5;124;43m'\u001b[39;49m\u001b[43m)\u001b[49m\u001b[43m[\u001b[49m\u001b[38;5;124;43m'\u001b[39;49m\u001b[38;5;124;43mvlrLiquido\u001b[39;49m\u001b[38;5;124;43m'\u001b[39;49m\u001b[43m]\u001b[49m\u001b[38;5;241;43m.\u001b[39;49m\u001b[43mmode\u001b[49m()\n",
      "File \u001b[1;32m~\\AppData\\Local\\Packages\\PythonSoftwareFoundation.Python.3.11_qbz5n2kfra8p0\\LocalCache\\local-packages\\Python311\\site-packages\\pandas\\core\\groupby\\groupby.py:952\u001b[0m, in \u001b[0;36mGroupBy.__getattr__\u001b[1;34m(self, attr)\u001b[0m\n\u001b[0;32m    949\u001b[0m \u001b[38;5;28;01mif\u001b[39;00m attr \u001b[38;5;129;01min\u001b[39;00m \u001b[38;5;28mself\u001b[39m\u001b[38;5;241m.\u001b[39mobj:\n\u001b[0;32m    950\u001b[0m     \u001b[38;5;28;01mreturn\u001b[39;00m \u001b[38;5;28mself\u001b[39m[attr]\n\u001b[1;32m--> 952\u001b[0m \u001b[38;5;28;01mraise\u001b[39;00m \u001b[38;5;167;01mAttributeError\u001b[39;00m(\n\u001b[0;32m    953\u001b[0m     \u001b[38;5;124mf\u001b[39m\u001b[38;5;124m\"\u001b[39m\u001b[38;5;124m'\u001b[39m\u001b[38;5;132;01m{\u001b[39;00m\u001b[38;5;28mtype\u001b[39m(\u001b[38;5;28mself\u001b[39m)\u001b[38;5;241m.\u001b[39m\u001b[38;5;18m__name__\u001b[39m\u001b[38;5;132;01m}\u001b[39;00m\u001b[38;5;124m'\u001b[39m\u001b[38;5;124m object has no attribute \u001b[39m\u001b[38;5;124m'\u001b[39m\u001b[38;5;132;01m{\u001b[39;00mattr\u001b[38;5;132;01m}\u001b[39;00m\u001b[38;5;124m'\u001b[39m\u001b[38;5;124m\"\u001b[39m\n\u001b[0;32m    954\u001b[0m )\n",
      "\u001b[1;31mAttributeError\u001b[0m: 'SeriesGroupBy' object has no attribute 'mode'"
     ]
    }
   ],
   "source": [
    "# Moda por estado\n",
    "dataset.groupby('sgUF')['vlrLiquido'].mode()"
   ]
  },
  {
   "cell_type": "code",
   "execution_count": 30,
   "id": "06d62520",
   "metadata": {},
   "outputs": [
    {
     "ename": "AttributeError",
     "evalue": "'SeriesGroupBy' object has no attribute 'mode'",
     "output_type": "error",
     "traceback": [
      "\u001b[1;31m---------------------------------------------------------------------------\u001b[0m",
      "\u001b[1;31mAttributeError\u001b[0m                            Traceback (most recent call last)",
      "Cell \u001b[1;32mIn[30], line 2\u001b[0m\n\u001b[0;32m      1\u001b[0m \u001b[38;5;66;03m# Moda por partido\u001b[39;00m\n\u001b[1;32m----> 2\u001b[0m \u001b[43mdataset\u001b[49m\u001b[38;5;241;43m.\u001b[39;49m\u001b[43mgroupby\u001b[49m\u001b[43m(\u001b[49m\u001b[38;5;124;43m'\u001b[39;49m\u001b[38;5;124;43msgPartido\u001b[39;49m\u001b[38;5;124;43m'\u001b[39;49m\u001b[43m)\u001b[49m\u001b[43m[\u001b[49m\u001b[38;5;124;43m'\u001b[39;49m\u001b[38;5;124;43mvlrLiquido\u001b[39;49m\u001b[38;5;124;43m'\u001b[39;49m\u001b[43m]\u001b[49m\u001b[38;5;241;43m.\u001b[39;49m\u001b[43mmode\u001b[49m()\n",
      "File \u001b[1;32m~\\AppData\\Local\\Packages\\PythonSoftwareFoundation.Python.3.11_qbz5n2kfra8p0\\LocalCache\\local-packages\\Python311\\site-packages\\pandas\\core\\groupby\\groupby.py:952\u001b[0m, in \u001b[0;36mGroupBy.__getattr__\u001b[1;34m(self, attr)\u001b[0m\n\u001b[0;32m    949\u001b[0m \u001b[38;5;28;01mif\u001b[39;00m attr \u001b[38;5;129;01min\u001b[39;00m \u001b[38;5;28mself\u001b[39m\u001b[38;5;241m.\u001b[39mobj:\n\u001b[0;32m    950\u001b[0m     \u001b[38;5;28;01mreturn\u001b[39;00m \u001b[38;5;28mself\u001b[39m[attr]\n\u001b[1;32m--> 952\u001b[0m \u001b[38;5;28;01mraise\u001b[39;00m \u001b[38;5;167;01mAttributeError\u001b[39;00m(\n\u001b[0;32m    953\u001b[0m     \u001b[38;5;124mf\u001b[39m\u001b[38;5;124m\"\u001b[39m\u001b[38;5;124m'\u001b[39m\u001b[38;5;132;01m{\u001b[39;00m\u001b[38;5;28mtype\u001b[39m(\u001b[38;5;28mself\u001b[39m)\u001b[38;5;241m.\u001b[39m\u001b[38;5;18m__name__\u001b[39m\u001b[38;5;132;01m}\u001b[39;00m\u001b[38;5;124m'\u001b[39m\u001b[38;5;124m object has no attribute \u001b[39m\u001b[38;5;124m'\u001b[39m\u001b[38;5;132;01m{\u001b[39;00mattr\u001b[38;5;132;01m}\u001b[39;00m\u001b[38;5;124m'\u001b[39m\u001b[38;5;124m\"\u001b[39m\n\u001b[0;32m    954\u001b[0m )\n",
      "\u001b[1;31mAttributeError\u001b[0m: 'SeriesGroupBy' object has no attribute 'mode'"
     ]
    }
   ],
   "source": [
    "# Moda por partido\n",
    "dataset.groupby('sgPartido')['vlrLiquido'].mode()\n"
   ]
  },
  {
   "cell_type": "code",
   "execution_count": 31,
   "id": "a9da2cfb",
   "metadata": {},
   "outputs": [
    {
     "data": {
      "text/plain": [
       "130.0"
      ]
     },
     "execution_count": 31,
     "metadata": {},
     "output_type": "execute_result"
    }
   ],
   "source": [
    "# Mediana geral\n",
    "dataset['vlrLiquido'].median()"
   ]
  },
  {
   "cell_type": "code",
   "execution_count": 32,
   "metadata": {},
   "outputs": [
    {
     "data": {
      "text/plain": [
       "sgUF\n",
       "AC    191.600\n",
       "AL    140.050\n",
       "AM    100.050\n",
       "AP    100.000\n",
       "BA    120.010\n",
       "CE    148.020\n",
       "DF    143.200\n",
       "ES    148.715\n",
       "GO    138.000\n",
       "MA    125.000\n",
       "MG    139.690\n",
       "MS    134.010\n",
       "MT    137.420\n",
       "PA    100.000\n",
       "PB    145.000\n",
       "PE    133.595\n",
       "PI    150.000\n",
       "PR    135.075\n",
       "RJ    130.000\n",
       "RN    120.000\n",
       "RO    151.360\n",
       "RR    171.680\n",
       "RS    132.020\n",
       "SC    129.000\n",
       "SE    168.145\n",
       "SP    109.010\n",
       "TO    181.020\n",
       "Name: vlrLiquido, dtype: float64"
      ]
     },
     "execution_count": 32,
     "metadata": {},
     "output_type": "execute_result"
    }
   ],
   "source": [
    "# Mediana por estado\n",
    "dataset.groupby('sgUF')['vlrLiquido'].median()"
   ]
  },
  {
   "cell_type": "code",
   "execution_count": 33,
   "id": "652d4570",
   "metadata": {},
   "outputs": [
    {
     "data": {
      "text/plain": [
       "sgPartido\n",
       "AVANTE           170.635\n",
       "CIDADANIA        161.205\n",
       "DEM              110.000\n",
       "MDB              172.140\n",
       "NOVO             165.225\n",
       "PATRI            100.000\n",
       "PATRIOTA         226.310\n",
       "PCdoB            114.225\n",
       "PDT              138.000\n",
       "PEN              150.705\n",
       "PHS              150.000\n",
       "PL               200.000\n",
       "PMDB             100.010\n",
       "PMN              100.000\n",
       "PODE             150.000\n",
       "PP               175.380\n",
       "PP**             103.300\n",
       "PPL              135.900\n",
       "PPS              100.000\n",
       "PR               114.480\n",
       "PRB              130.000\n",
       "PRD              229.250\n",
       "PROS             130.620\n",
       "PRP              125.075\n",
       "PRTB             100.015\n",
       "PSB              120.000\n",
       "PSC              110.950\n",
       "PSD              150.000\n",
       "PSDB             110.570\n",
       "PSDC             147.485\n",
       "PSL              145.050\n",
       "PSOL             120.000\n",
       "PT               116.000\n",
       "PTB              120.050\n",
       "PTC               74.010\n",
       "PTdoB             70.000\n",
       "PV               100.000\n",
       "REDE             150.000\n",
       "REPUBLICANOS     200.000\n",
       "S.PART.          152.040\n",
       "SDD              100.000\n",
       "SOLIDARIEDADE    154.585\n",
       "UNIÃO            200.580\n",
       "Name: vlrLiquido, dtype: float64"
      ]
     },
     "execution_count": 33,
     "metadata": {},
     "output_type": "execute_result"
    }
   ],
   "source": [
    "# Mediana por partido\n",
    "dataset.groupby('sgPartido')['vlrLiquido'].median()"
   ]
  },
  {
   "attachments": {},
   "cell_type": "markdown",
   "id": "b06fbd69",
   "metadata": {},
   "source": [
    "Medidas de dispersão"
   ]
  },
  {
   "cell_type": "code",
   "execution_count": 34,
   "id": "3833fab1",
   "metadata": {},
   "outputs": [
    {
     "data": {
      "text/plain": [
       "15792.4"
      ]
     },
     "execution_count": 34,
     "metadata": {},
     "output_type": "execute_result"
    }
   ],
   "source": [
    "# Amlitude total geral\n",
    "dataset['vlrLiquido'].max() - dataset['vlrLiquido'].min()"
   ]
  },
  {
   "cell_type": "code",
   "execution_count": 35,
   "id": "0e6e395c",
   "metadata": {},
   "outputs": [
    {
     "data": {
      "text/plain": [
       "sgUF\n",
       "AC     8310.22\n",
       "AL     6000.00\n",
       "AM     5912.65\n",
       "AP     6000.00\n",
       "BA     9392.00\n",
       "CE     7800.00\n",
       "DF     4500.00\n",
       "ES     6000.00\n",
       "GO     9392.00\n",
       "MA     8999.00\n",
       "MG    13013.50\n",
       "MS     7756.71\n",
       "MT     7050.00\n",
       "PA     9300.00\n",
       "PB     8300.00\n",
       "PE     8395.53\n",
       "PI     7495.11\n",
       "PR     7762.66\n",
       "RJ     8974.57\n",
       "RN     6000.00\n",
       "RO     8176.53\n",
       "RR     9389.02\n",
       "RS    10181.76\n",
       "SC     6044.97\n",
       "SE     9392.00\n",
       "SP     9117.10\n",
       "TO     9391.71\n",
       "Name: vlrLiquido, dtype: float64"
      ]
     },
     "execution_count": 35,
     "metadata": {},
     "output_type": "execute_result"
    }
   ],
   "source": [
    "# Amlitude total por estado\n",
    "dataset.groupby('sgUF')['vlrLiquido'].max() - dataset.groupby('sgUF')['vlrLiquido'].min()"
   ]
  },
  {
   "cell_type": "code",
   "execution_count": 36,
   "id": "f04755b5",
   "metadata": {},
   "outputs": [
    {
     "data": {
      "text/plain": [
       "sgPartido\n",
       "AVANTE            5997.72\n",
       "CIDADANIA         2976.52\n",
       "DEM               6000.00\n",
       "MDB               9300.00\n",
       "NOVO               441.63\n",
       "PATRI             4586.26\n",
       "PATRIOTA          5980.00\n",
       "PCdoB             6291.18\n",
       "PDT               5999.25\n",
       "PEN                917.88\n",
       "PHS               4985.03\n",
       "PL                9117.10\n",
       "PMDB              4500.00\n",
       "PMN               4496.00\n",
       "PODE              6000.00\n",
       "PP                9392.00\n",
       "PP**              4500.00\n",
       "PPL               2700.00\n",
       "PPS               5999.64\n",
       "PR                6000.00\n",
       "PRB               5999.77\n",
       "PRD               5985.34\n",
       "PROS              6000.00\n",
       "PRP               8990.00\n",
       "PRTB               289.69\n",
       "PSB               8395.53\n",
       "PSC              13013.50\n",
       "PSD               7498.29\n",
       "PSDB              9392.00\n",
       "PSDC              4242.84\n",
       "PSL               4994.66\n",
       "PSOL              5998.80\n",
       "PT               11154.66\n",
       "PTB               8778.90\n",
       "PTC               4495.00\n",
       "PTdoB             4495.00\n",
       "PV                5530.98\n",
       "REDE              5459.00\n",
       "REPUBLICANOS      9392.00\n",
       "S.PART.           3913.85\n",
       "SDD               4496.66\n",
       "SOLIDARIEDADE     6000.00\n",
       "UNIÃO             9392.00\n",
       "Name: vlrLiquido, dtype: float64"
      ]
     },
     "execution_count": 36,
     "metadata": {},
     "output_type": "execute_result"
    }
   ],
   "source": [
    "\n",
    "# Amlitude total por partido\n",
    "dataset.groupby('sgPartido')['vlrLiquido'].max() - dataset.groupby('sgPartido')['vlrLiquido'].min()"
   ]
  },
  {
   "cell_type": "code",
   "execution_count": 37,
   "id": "d401903b",
   "metadata": {},
   "outputs": [
    {
     "data": {
      "text/plain": [
       "108.97"
      ]
     },
     "execution_count": 37,
     "metadata": {},
     "output_type": "execute_result"
    }
   ],
   "source": [
    "# Intervalo interquartílico geral\n",
    "Q1 = dataset['vlrLiquido'].quantile(0.25)\n",
    "Q3 = dataset['vlrLiquido'].quantile(0.75)\n",
    "IQ = Q3-Q1\n",
    "IQ"
   ]
  },
  {
   "cell_type": "code",
   "execution_count": 38,
   "id": "3cbe1682",
   "metadata": {},
   "outputs": [
    {
     "data": {
      "text/plain": [
       "sgUF\n",
       "AC    291.5200\n",
       "AL    100.0500\n",
       "AM    114.1000\n",
       "AP    141.5925\n",
       "BA    110.0100\n",
       "CE    112.8700\n",
       "DF    100.0000\n",
       "ES    117.1550\n",
       "GO    112.7000\n",
       "MA    110.0000\n",
       "MG    100.0200\n",
       "MS    100.0800\n",
       "MT    105.5000\n",
       "PA    145.5250\n",
       "PB    119.4475\n",
       "PE    110.5375\n",
       "PI    120.0000\n",
       "PR     97.2800\n",
       "RJ    111.9600\n",
       "RN     85.8275\n",
       "RO    124.7000\n",
       "RR    200.0000\n",
       "RS     96.5200\n",
       "SC     82.5800\n",
       "SE    158.3575\n",
       "SP     92.0300\n",
       "TO    162.8350\n",
       "Name: vlrLiquido, dtype: float64"
      ]
     },
     "execution_count": 38,
     "metadata": {},
     "output_type": "execute_result"
    }
   ],
   "source": [
    "\n",
    "# Intervalo interquartílico por estado\n",
    "Q1 = dataset.groupby('sgUF')['vlrLiquido'].quantile(0.25)\n",
    "Q3 = dataset.groupby('sgUF')['vlrLiquido'].quantile(0.75)\n",
    "IQ = Q3-Q1\n",
    "IQ"
   ]
  },
  {
   "cell_type": "code",
   "execution_count": 39,
   "id": "9af4691f",
   "metadata": {},
   "outputs": [
    {
     "data": {
      "text/plain": [
       "sgPartido\n",
       "AVANTE            141.9675\n",
       "CIDADANIA         106.8125\n",
       "DEM                92.5425\n",
       "MDB               122.5725\n",
       "NOVO              134.8775\n",
       "PATRI             107.3300\n",
       "PATRIOTA          143.3900\n",
       "PCdoB              86.0000\n",
       "PDT               105.3200\n",
       "PEN                46.7700\n",
       "PHS               100.0000\n",
       "PL                119.0600\n",
       "PMDB               75.7825\n",
       "PMN                81.3550\n",
       "PODE              106.9900\n",
       "PP                132.7400\n",
       "PP**               71.0100\n",
       "PPL                70.0000\n",
       "PPS                87.3850\n",
       "PR                 88.0300\n",
       "PRB                80.0325\n",
       "PRD               108.8050\n",
       "PROS               87.9175\n",
       "PRP                74.9825\n",
       "PRTB              101.0775\n",
       "PSB                99.2900\n",
       "PSC                98.9100\n",
       "PSD               115.0400\n",
       "PSDB               94.8750\n",
       "PSDC             1086.3700\n",
       "PSL                98.0850\n",
       "PSOL              105.4900\n",
       "PT                100.9450\n",
       "PTB                86.0000\n",
       "PTC                77.7900\n",
       "PTdoB              63.0050\n",
       "PV                103.7025\n",
       "REDE               93.9600\n",
       "REPUBLICANOS      123.4300\n",
       "S.PART.            55.4100\n",
       "SDD                85.0500\n",
       "SOLIDARIEDADE     113.2100\n",
       "UNIÃO             124.4650\n",
       "Name: vlrLiquido, dtype: float64"
      ]
     },
     "execution_count": 39,
     "metadata": {},
     "output_type": "execute_result"
    }
   ],
   "source": [
    "\n",
    "# Intervalo interquartílico por partido\n",
    "Q1 = dataset.groupby('sgPartido')['vlrLiquido'].quantile(0.25)\n",
    "Q3 = dataset.groupby('sgPartido')['vlrLiquido'].quantile(0.75)\n",
    "IQ = Q3-Q1\n",
    "IQ\n"
   ]
  },
  {
   "cell_type": "code",
   "execution_count": 40,
   "id": "58a77a8f",
   "metadata": {},
   "outputs": [
    {
     "data": {
      "text/plain": [
       "371249.4405767276"
      ]
     },
     "execution_count": 40,
     "metadata": {},
     "output_type": "execute_result"
    }
   ],
   "source": [
    "\n",
    "# Variância geral\n",
    "dataset['vlrLiquido'].var()"
   ]
  },
  {
   "cell_type": "code",
   "execution_count": 41,
   "id": "2e4578f8",
   "metadata": {},
   "outputs": [
    {
     "data": {
      "text/plain": [
       "sgUF\n",
       "AC    2.135228e+06\n",
       "AL    3.817678e+05\n",
       "AM    4.263628e+05\n",
       "AP    7.850996e+05\n",
       "BA    3.491430e+05\n",
       "CE    7.620121e+05\n",
       "DF    1.325980e+05\n",
       "ES    6.478597e+05\n",
       "GO    6.421592e+05\n",
       "MA    6.760236e+05\n",
       "MG    2.704280e+05\n",
       "MS    5.981249e+05\n",
       "MT    1.971822e+05\n",
       "PA    7.855247e+05\n",
       "PB    6.072511e+05\n",
       "PE    4.108267e+05\n",
       "PI    1.285411e+06\n",
       "PR    2.523061e+05\n",
       "RJ    2.212468e+05\n",
       "RN    3.023855e+05\n",
       "RO    3.941311e+05\n",
       "RR    2.142099e+06\n",
       "RS    7.918238e+04\n",
       "SC    1.379651e+05\n",
       "SE    1.243337e+06\n",
       "SP    1.804702e+05\n",
       "TO    8.714897e+05\n",
       "Name: vlrLiquido, dtype: float64"
      ]
     },
     "execution_count": 41,
     "metadata": {},
     "output_type": "execute_result"
    }
   ],
   "source": [
    "\n",
    "# Variância por estado\n",
    "dataset.groupby('sgUF')['vlrLiquido'].var()\n"
   ]
  },
  {
   "cell_type": "code",
   "execution_count": 42,
   "id": "be2e3981",
   "metadata": {},
   "outputs": [
    {
     "data": {
      "text/plain": [
       "sgPartido\n",
       "AVANTE           5.181560e+05\n",
       "CIDADANIA        1.564039e+04\n",
       "DEM              4.274458e+05\n",
       "MDB              3.635712e+05\n",
       "NOVO             7.355081e+03\n",
       "PATRI            2.341357e+05\n",
       "PATRIOTA         5.140721e+05\n",
       "PCdoB            4.455156e+05\n",
       "PDT              3.476427e+05\n",
       "PEN              1.426624e+04\n",
       "PHS              5.216464e+05\n",
       "PL               2.219972e+05\n",
       "PMDB             4.793429e+05\n",
       "PMN              6.085413e+05\n",
       "PODE             3.834411e+05\n",
       "PP               4.274603e+05\n",
       "PP**             3.357620e+05\n",
       "PPL              4.351057e+04\n",
       "PPS              1.656405e+05\n",
       "PR               4.166900e+05\n",
       "PRB              5.666724e+05\n",
       "PRD              4.568836e+05\n",
       "PROS             5.824083e+05\n",
       "PRP              9.586703e+05\n",
       "PRTB             5.018420e+03\n",
       "PSB              2.860873e+05\n",
       "PSC              4.194052e+05\n",
       "PSD              3.835958e+05\n",
       "PSDB             3.278653e+05\n",
       "PSDC             3.833023e+06\n",
       "PSL              1.292564e+05\n",
       "PSOL             9.515014e+04\n",
       "PT               3.480466e+05\n",
       "PTB              6.809577e+05\n",
       "PTC              1.497958e+06\n",
       "PTdoB            3.386338e+05\n",
       "PV               2.338065e+05\n",
       "REDE             2.391193e+05\n",
       "REPUBLICANOS     2.650322e+05\n",
       "S.PART.          2.171391e+05\n",
       "SDD              3.244105e+05\n",
       "SOLIDARIEDADE    5.675482e+05\n",
       "UNIÃO            3.169684e+05\n",
       "Name: vlrLiquido, dtype: float64"
      ]
     },
     "execution_count": 42,
     "metadata": {},
     "output_type": "execute_result"
    }
   ],
   "source": [
    "# Variância por partido\n",
    "dataset.groupby('sgPartido')['vlrLiquido'].var()"
   ]
  },
  {
   "cell_type": "code",
   "execution_count": 43,
   "id": "6affe119",
   "metadata": {},
   "outputs": [
    {
     "data": {
      "text/plain": [
       "609.3024212792262"
      ]
     },
     "execution_count": 43,
     "metadata": {},
     "output_type": "execute_result"
    }
   ],
   "source": [
    "\n",
    "# Desvio padrão geral\n",
    "dataset['vlrLiquido'].std()"
   ]
  },
  {
   "cell_type": "code",
   "execution_count": 44,
   "id": "90559fd4",
   "metadata": {},
   "outputs": [
    {
     "data": {
      "text/plain": [
       "sgUF\n",
       "AC    1461.242022\n",
       "AL     617.873619\n",
       "AM     652.964594\n",
       "AP     886.058439\n",
       "BA     590.883276\n",
       "CE     872.933046\n",
       "DF     364.140048\n",
       "ES     804.897311\n",
       "GO     801.348340\n",
       "MA     822.206533\n",
       "MG     520.026910\n",
       "MS     773.385368\n",
       "MT     444.052054\n",
       "PA     886.298333\n",
       "PB     779.263198\n",
       "PE     640.957624\n",
       "PI    1133.759499\n",
       "PR     502.300788\n",
       "RJ     470.368834\n",
       "RN     549.895935\n",
       "RO     627.798580\n",
       "RR    1463.591026\n",
       "RS     281.393636\n",
       "SC     371.436577\n",
       "SE    1115.050159\n",
       "SP     424.817880\n",
       "TO     933.536103\n",
       "Name: vlrLiquido, dtype: float64"
      ]
     },
     "execution_count": 44,
     "metadata": {},
     "output_type": "execute_result"
    }
   ],
   "source": [
    "# Desvio padrão por estado\n",
    "dataset.groupby('sgUF')['vlrLiquido'].std()"
   ]
  },
  {
   "cell_type": "code",
   "execution_count": 45,
   "id": "8afd71fe",
   "metadata": {},
   "outputs": [
    {
     "data": {
      "text/plain": [
       "sgPartido\n",
       "AVANTE            719.830522\n",
       "CIDADANIA         125.061563\n",
       "DEM               653.793368\n",
       "MDB               602.968660\n",
       "NOVO               85.761769\n",
       "PATRI             483.875748\n",
       "PATRIOTA          716.988199\n",
       "PCdoB             667.469525\n",
       "PDT               589.612370\n",
       "PEN               119.441350\n",
       "PHS               722.250892\n",
       "PL                471.165753\n",
       "PMDB              692.345972\n",
       "PMN               780.090542\n",
       "PODE              619.226185\n",
       "PP                653.804468\n",
       "PP**              579.449754\n",
       "PPL               208.591878\n",
       "PPS               406.989500\n",
       "PR                645.515322\n",
       "PRB               752.776493\n",
       "PRD               675.931634\n",
       "PROS              763.156815\n",
       "PRP               979.117127\n",
       "PRTB               70.840807\n",
       "PSB               534.871330\n",
       "PSC               647.615016\n",
       "PSD               619.351081\n",
       "PSDB              572.595200\n",
       "PSDC             1957.810671\n",
       "PSL               359.522455\n",
       "PSOL              308.464167\n",
       "PT                589.954781\n",
       "PTB               825.201615\n",
       "PTC              1223.911110\n",
       "PTdoB             581.922484\n",
       "PV                483.535436\n",
       "REDE              488.998281\n",
       "REPUBLICANOS      514.812767\n",
       "S.PART.           465.981888\n",
       "SDD               569.570461\n",
       "SOLIDARIEDADE     753.357947\n",
       "UNIÃO             562.999434\n",
       "Name: vlrLiquido, dtype: float64"
      ]
     },
     "execution_count": 45,
     "metadata": {},
     "output_type": "execute_result"
    }
   ],
   "source": [
    "# Desvio padrão por partido\n",
    "dataset.groupby('sgPartido')['vlrLiquido'].std()"
   ]
  },
  {
   "attachments": {},
   "cell_type": "markdown",
   "id": "2804a2ab",
   "metadata": {},
   "source": [
    "Medidas de Assemetria"
   ]
  },
  {
   "cell_type": "code",
   "execution_count": null,
   "id": "eb75b068",
   "metadata": {},
   "outputs": [],
   "source": []
  },
  {
   "attachments": {},
   "cell_type": "markdown",
   "id": "481a7542",
   "metadata": {},
   "source": [
    "Outliers"
   ]
  },
  {
   "cell_type": "code",
   "execution_count": 46,
   "id": "183f9b18",
   "metadata": {},
   "outputs": [
    {
     "ename": "TypeError",
     "evalue": "Horizontal orientation requires numeric `x` variable.",
     "output_type": "error",
     "traceback": [
      "\u001b[1;31m---------------------------------------------------------------------------\u001b[0m",
      "\u001b[1;31mTypeError\u001b[0m                                 Traceback (most recent call last)",
      "Cell \u001b[1;32mIn[46], line 10\u001b[0m\n\u001b[0;32m      8\u001b[0m     boxplot \u001b[38;5;241m=\u001b[39m plt\u001b[38;5;241m.\u001b[39msubplot2grid(gridsize_boxplot, (i, \u001b[38;5;241m0\u001b[39m))\n\u001b[0;32m      9\u001b[0m     boxplot\u001b[38;5;241m.\u001b[39mset_title(position, fontsize\u001b[38;5;241m=\u001b[39m\u001b[38;5;241m8\u001b[39m)\n\u001b[1;32m---> 10\u001b[0m     \u001b[43msns\u001b[49m\u001b[38;5;241;43m.\u001b[39;49m\u001b[43mboxplot\u001b[49m\u001b[43m(\u001b[49m\u001b[43mx\u001b[49m\u001b[38;5;241;43m=\u001b[39;49m\u001b[43mposition\u001b[49m\u001b[43m,\u001b[49m\u001b[43m \u001b[49m\u001b[43mdata\u001b[49m\u001b[38;5;241;43m=\u001b[39;49m\u001b[43mdataset\u001b[49m\u001b[43m)\u001b[49m\n\u001b[0;32m     12\u001b[0m plt\u001b[38;5;241m.\u001b[39mtight_layout()\n\u001b[0;32m     13\u001b[0m plt\u001b[38;5;241m.\u001b[39mshow()\n",
      "File \u001b[1;32m~\\AppData\\Local\\Packages\\PythonSoftwareFoundation.Python.3.11_qbz5n2kfra8p0\\LocalCache\\local-packages\\Python311\\site-packages\\seaborn\\categorical.py:2231\u001b[0m, in \u001b[0;36mboxplot\u001b[1;34m(data, x, y, hue, order, hue_order, orient, color, palette, saturation, width, dodge, fliersize, linewidth, whis, ax, **kwargs)\u001b[0m\n\u001b[0;32m   2224\u001b[0m \u001b[38;5;28;01mdef\u001b[39;00m \u001b[38;5;21mboxplot\u001b[39m(\n\u001b[0;32m   2225\u001b[0m     data\u001b[38;5;241m=\u001b[39m\u001b[38;5;28;01mNone\u001b[39;00m, \u001b[38;5;241m*\u001b[39m, x\u001b[38;5;241m=\u001b[39m\u001b[38;5;28;01mNone\u001b[39;00m, y\u001b[38;5;241m=\u001b[39m\u001b[38;5;28;01mNone\u001b[39;00m, hue\u001b[38;5;241m=\u001b[39m\u001b[38;5;28;01mNone\u001b[39;00m, order\u001b[38;5;241m=\u001b[39m\u001b[38;5;28;01mNone\u001b[39;00m, hue_order\u001b[38;5;241m=\u001b[39m\u001b[38;5;28;01mNone\u001b[39;00m,\n\u001b[0;32m   2226\u001b[0m     orient\u001b[38;5;241m=\u001b[39m\u001b[38;5;28;01mNone\u001b[39;00m, color\u001b[38;5;241m=\u001b[39m\u001b[38;5;28;01mNone\u001b[39;00m, palette\u001b[38;5;241m=\u001b[39m\u001b[38;5;28;01mNone\u001b[39;00m, saturation\u001b[38;5;241m=\u001b[39m\u001b[38;5;241m.75\u001b[39m, width\u001b[38;5;241m=\u001b[39m\u001b[38;5;241m.8\u001b[39m,\n\u001b[0;32m   2227\u001b[0m     dodge\u001b[38;5;241m=\u001b[39m\u001b[38;5;28;01mTrue\u001b[39;00m, fliersize\u001b[38;5;241m=\u001b[39m\u001b[38;5;241m5\u001b[39m, linewidth\u001b[38;5;241m=\u001b[39m\u001b[38;5;28;01mNone\u001b[39;00m, whis\u001b[38;5;241m=\u001b[39m\u001b[38;5;241m1.5\u001b[39m, ax\u001b[38;5;241m=\u001b[39m\u001b[38;5;28;01mNone\u001b[39;00m,\n\u001b[0;32m   2228\u001b[0m     \u001b[38;5;241m*\u001b[39m\u001b[38;5;241m*\u001b[39mkwargs\n\u001b[0;32m   2229\u001b[0m ):\n\u001b[1;32m-> 2231\u001b[0m     plotter \u001b[38;5;241m=\u001b[39m \u001b[43m_BoxPlotter\u001b[49m\u001b[43m(\u001b[49m\u001b[43mx\u001b[49m\u001b[43m,\u001b[49m\u001b[43m \u001b[49m\u001b[43my\u001b[49m\u001b[43m,\u001b[49m\u001b[43m \u001b[49m\u001b[43mhue\u001b[49m\u001b[43m,\u001b[49m\u001b[43m \u001b[49m\u001b[43mdata\u001b[49m\u001b[43m,\u001b[49m\u001b[43m \u001b[49m\u001b[43morder\u001b[49m\u001b[43m,\u001b[49m\u001b[43m \u001b[49m\u001b[43mhue_order\u001b[49m\u001b[43m,\u001b[49m\n\u001b[0;32m   2232\u001b[0m \u001b[43m                          \u001b[49m\u001b[43morient\u001b[49m\u001b[43m,\u001b[49m\u001b[43m \u001b[49m\u001b[43mcolor\u001b[49m\u001b[43m,\u001b[49m\u001b[43m \u001b[49m\u001b[43mpalette\u001b[49m\u001b[43m,\u001b[49m\u001b[43m \u001b[49m\u001b[43msaturation\u001b[49m\u001b[43m,\u001b[49m\n\u001b[0;32m   2233\u001b[0m \u001b[43m                          \u001b[49m\u001b[43mwidth\u001b[49m\u001b[43m,\u001b[49m\u001b[43m \u001b[49m\u001b[43mdodge\u001b[49m\u001b[43m,\u001b[49m\u001b[43m \u001b[49m\u001b[43mfliersize\u001b[49m\u001b[43m,\u001b[49m\u001b[43m \u001b[49m\u001b[43mlinewidth\u001b[49m\u001b[43m)\u001b[49m\n\u001b[0;32m   2235\u001b[0m     \u001b[38;5;28;01mif\u001b[39;00m ax \u001b[38;5;129;01mis\u001b[39;00m \u001b[38;5;28;01mNone\u001b[39;00m:\n\u001b[0;32m   2236\u001b[0m         ax \u001b[38;5;241m=\u001b[39m plt\u001b[38;5;241m.\u001b[39mgca()\n",
      "File \u001b[1;32m~\\AppData\\Local\\Packages\\PythonSoftwareFoundation.Python.3.11_qbz5n2kfra8p0\\LocalCache\\local-packages\\Python311\\site-packages\\seaborn\\categorical.py:785\u001b[0m, in \u001b[0;36m_BoxPlotter.__init__\u001b[1;34m(self, x, y, hue, data, order, hue_order, orient, color, palette, saturation, width, dodge, fliersize, linewidth)\u001b[0m\n\u001b[0;32m    781\u001b[0m \u001b[38;5;28;01mdef\u001b[39;00m \u001b[38;5;21m__init__\u001b[39m(\u001b[38;5;28mself\u001b[39m, x, y, hue, data, order, hue_order,\n\u001b[0;32m    782\u001b[0m              orient, color, palette, saturation,\n\u001b[0;32m    783\u001b[0m              width, dodge, fliersize, linewidth):\n\u001b[1;32m--> 785\u001b[0m     \u001b[38;5;28;43mself\u001b[39;49m\u001b[38;5;241;43m.\u001b[39;49m\u001b[43mestablish_variables\u001b[49m\u001b[43m(\u001b[49m\u001b[43mx\u001b[49m\u001b[43m,\u001b[49m\u001b[43m \u001b[49m\u001b[43my\u001b[49m\u001b[43m,\u001b[49m\u001b[43m \u001b[49m\u001b[43mhue\u001b[49m\u001b[43m,\u001b[49m\u001b[43m \u001b[49m\u001b[43mdata\u001b[49m\u001b[43m,\u001b[49m\u001b[43m \u001b[49m\u001b[43morient\u001b[49m\u001b[43m,\u001b[49m\u001b[43m \u001b[49m\u001b[43morder\u001b[49m\u001b[43m,\u001b[49m\u001b[43m \u001b[49m\u001b[43mhue_order\u001b[49m\u001b[43m)\u001b[49m\n\u001b[0;32m    786\u001b[0m     \u001b[38;5;28mself\u001b[39m\u001b[38;5;241m.\u001b[39mestablish_colors(color, palette, saturation)\n\u001b[0;32m    788\u001b[0m     \u001b[38;5;28mself\u001b[39m\u001b[38;5;241m.\u001b[39mdodge \u001b[38;5;241m=\u001b[39m dodge\n",
      "File \u001b[1;32m~\\AppData\\Local\\Packages\\PythonSoftwareFoundation.Python.3.11_qbz5n2kfra8p0\\LocalCache\\local-packages\\Python311\\site-packages\\seaborn\\categorical.py:544\u001b[0m, in \u001b[0;36m_CategoricalPlotter.establish_variables\u001b[1;34m(self, x, y, hue, data, orient, order, hue_order, units)\u001b[0m\n\u001b[0;32m    541\u001b[0m         \u001b[38;5;28;01mraise\u001b[39;00m \u001b[38;5;167;01mValueError\u001b[39;00m(err)\n\u001b[0;32m    543\u001b[0m \u001b[38;5;66;03m# Figure out the plotting orientation\u001b[39;00m\n\u001b[1;32m--> 544\u001b[0m orient \u001b[38;5;241m=\u001b[39m \u001b[43minfer_orient\u001b[49m\u001b[43m(\u001b[49m\n\u001b[0;32m    545\u001b[0m \u001b[43m    \u001b[49m\u001b[43mx\u001b[49m\u001b[43m,\u001b[49m\u001b[43m \u001b[49m\u001b[43my\u001b[49m\u001b[43m,\u001b[49m\u001b[43m \u001b[49m\u001b[43morient\u001b[49m\u001b[43m,\u001b[49m\u001b[43m \u001b[49m\u001b[43mrequire_numeric\u001b[49m\u001b[38;5;241;43m=\u001b[39;49m\u001b[38;5;28;43mself\u001b[39;49m\u001b[38;5;241;43m.\u001b[39;49m\u001b[43mrequire_numeric\u001b[49m\n\u001b[0;32m    546\u001b[0m \u001b[43m\u001b[49m\u001b[43m)\u001b[49m\n\u001b[0;32m    548\u001b[0m \u001b[38;5;66;03m# Option 2a:\u001b[39;00m\n\u001b[0;32m    549\u001b[0m \u001b[38;5;66;03m# We are plotting a single set of data\u001b[39;00m\n\u001b[0;32m    550\u001b[0m \u001b[38;5;66;03m# ------------------------------------\u001b[39;00m\n\u001b[0;32m    551\u001b[0m \u001b[38;5;28;01mif\u001b[39;00m x \u001b[38;5;129;01mis\u001b[39;00m \u001b[38;5;28;01mNone\u001b[39;00m \u001b[38;5;129;01mor\u001b[39;00m y \u001b[38;5;129;01mis\u001b[39;00m \u001b[38;5;28;01mNone\u001b[39;00m:\n\u001b[0;32m    552\u001b[0m \n\u001b[0;32m    553\u001b[0m     \u001b[38;5;66;03m# Determine where the data are\u001b[39;00m\n",
      "File \u001b[1;32m~\\AppData\\Local\\Packages\\PythonSoftwareFoundation.Python.3.11_qbz5n2kfra8p0\\LocalCache\\local-packages\\Python311\\site-packages\\seaborn\\_oldcore.py:1601\u001b[0m, in \u001b[0;36minfer_orient\u001b[1;34m(x, y, orient, require_numeric)\u001b[0m\n\u001b[0;32m   1599\u001b[0m         warnings\u001b[38;5;241m.\u001b[39mwarn(single_var_warning\u001b[38;5;241m.\u001b[39mformat(\u001b[38;5;124m\"\u001b[39m\u001b[38;5;124mVertical\u001b[39m\u001b[38;5;124m\"\u001b[39m, \u001b[38;5;124m\"\u001b[39m\u001b[38;5;124mx\u001b[39m\u001b[38;5;124m\"\u001b[39m))\n\u001b[0;32m   1600\u001b[0m     \u001b[38;5;28;01mif\u001b[39;00m require_numeric \u001b[38;5;129;01mand\u001b[39;00m x_type \u001b[38;5;241m!=\u001b[39m \u001b[38;5;124m\"\u001b[39m\u001b[38;5;124mnumeric\u001b[39m\u001b[38;5;124m\"\u001b[39m:\n\u001b[1;32m-> 1601\u001b[0m         \u001b[38;5;28;01mraise\u001b[39;00m \u001b[38;5;167;01mTypeError\u001b[39;00m(nonnumeric_dv_error\u001b[38;5;241m.\u001b[39mformat(\u001b[38;5;124m\"\u001b[39m\u001b[38;5;124mHorizontal\u001b[39m\u001b[38;5;124m\"\u001b[39m, \u001b[38;5;124m\"\u001b[39m\u001b[38;5;124mx\u001b[39m\u001b[38;5;124m\"\u001b[39m))\n\u001b[0;32m   1602\u001b[0m     \u001b[38;5;28;01mreturn\u001b[39;00m \u001b[38;5;124m\"\u001b[39m\u001b[38;5;124mh\u001b[39m\u001b[38;5;124m\"\u001b[39m\n\u001b[0;32m   1604\u001b[0m \u001b[38;5;28;01melif\u001b[39;00m \u001b[38;5;28mstr\u001b[39m(orient)\u001b[38;5;241m.\u001b[39mstartswith(\u001b[38;5;124m\"\u001b[39m\u001b[38;5;124mv\u001b[39m\u001b[38;5;124m\"\u001b[39m):\n",
      "\u001b[1;31mTypeError\u001b[0m: Horizontal orientation requires numeric `x` variable."
     ]
    },
    {
     "data": {
      "image/png": "[encoded data removed]",
      "text/plain": [
       "<Figure size 1200x800 with 1 Axes>"
      ]
     },
     "metadata": {},
     "output_type": "display_data"
    }
   ],
   "source": [
    "# Diagrama de Tukey (boxplot)\n",
    "gridsize_boxplot = (4, 1)\n",
    "fig_boxplot = plt.figure(figsize=(12, 8))\n",
    "\n",
    "positions = ['sgUF', 'sgPartido', 'vlrLiquido']\n",
    "\n",
    "for i, position in enumerate(positions):\n",
    "    boxplot = plt.subplot2grid(gridsize_boxplot, (i, 0))\n",
    "    boxplot.set_title(position, fontsize=8)\n",
    "    sns.boxplot(x=position, data=dataset)\n",
    "\n",
    "plt.tight_layout()\n",
    "plt.show()"
   ]
  },
  {
   "cell_type": "code",
   "execution_count": 47,
   "id": "5055559c",
   "metadata": {},
   "outputs": [
    {
     "data": {
      "image/png": "[encoded data removed]",
      "text/plain": [
       "<Figure size 1200x800 with 3 Axes>"
      ]
     },
     "metadata": {},
     "output_type": "display_data"
    }
   ],
   "source": [
    "# Gráfico de dispersão\n",
    "gridsize_scatter = (4, 1)\n",
    "fig_scatter = plt.figure(figsize=(12, 8))\n",
    "\n",
    "positions = ['sgUF', 'sgPartido', 'vlrLiquido']\n",
    "\n",
    "for i, position in enumerate(positions):\n",
    "    scatterplot = plt.subplot2grid(gridsize_scatter, (i, 0))\n",
    "    scatterplot.set_title(position, fontsize=8)\n",
    "    \n",
    "    if dataset[position].dtype == 'object':\n",
    "        sns.countplot(x=position, data=dataset, ax=scatterplot)\n",
    "    else:\n",
    "        sns.scatterplot(x=position, y='vlrLiquido', data=dataset, ax=scatterplot)\n",
    "\n",
    "plt.tight_layout()\n",
    "plt.show()"
   ]
  },
  {
   "cell_type": "code",
   "execution_count": 48,
   "id": "b628a025",
   "metadata": {},
   "outputs": [
    {
     "data": {
      "image/png": "[encoded data removed]",
      "text/plain": [
       "<Figure size 1200x800 with 4 Axes>"
      ]
     },
     "metadata": {},
     "output_type": "display_data"
    }
   ],
   "source": [
    "# Histograma\n",
    "gridsize_barplot = (4, 1)\n",
    "fig_barplot = plt.figure(figsize=(12, 8))\n",
    "\n",
    "positions = ['sgUF', 'sgPartido', 'txtDescricao', 'vlrLiquido']\n",
    "\n",
    "for i, position in enumerate(positions):\n",
    "    barplot = plt.subplot2grid(gridsize_barplot, (i, 0))\n",
    "    barplot.set_title(position, fontsize=8)\n",
    "    \n",
    "    if dataset[position].dtype == 'object':\n",
    "        sns.countplot(x=position, data=dataset, ax=barplot)\n",
    "    else:\n",
    "        sns.histplot(x=position, data=dataset, ax=barplot)\n",
    "\n",
    "plt.tight_layout()\n",
    "plt.show()"
   ]
  },
  {
   "cell_type": "code",
   "execution_count": 49,
   "id": "fc02d6e3",
   "metadata": {},
   "outputs": [
    {
     "data": {
      "text/plain": [
       "\" cols = list(dataset.columns)\\ncols.remove('col')\\n\\nwinsorization_flooring = 0.05\\nwinsorization_capping = 1 - winsorization_flooring\\n\\nnot_selected_data_flooring = dataset[cols] <= dataset[cols].quantile(winsorization_flooring)\\nnot_selected_data_capping = dataset[cols] >= dataset[cols].quantile(winsorization_capping)\\n\\nnot_selected_data_all = (not_selected_data_flooring & not_selected_data_capping)\\n\\ndata_index = dataset[cols][not_selected_data_all].index\\ndataset[cols].drop(data_index, inplace=True \""
      ]
     },
     "execution_count": 49,
     "metadata": {},
     "output_type": "execute_result"
    }
   ],
   "source": [
    "# Remover outliers - Winsorization\n",
    "\n",
    "\"\"\" cols = list(dataset.columns)\n",
    "cols.remove('col')\n",
    "\n",
    "winsorization_flooring = 0.05\n",
    "winsorization_capping = 1 - winsorization_flooring\n",
    "\n",
    "not_selected_data_flooring = dataset[cols] <= dataset[cols].quantile(winsorization_flooring)\n",
    "not_selected_data_capping = dataset[cols] >= dataset[cols].quantile(winsorization_capping)\n",
    "\n",
    "not_selected_data_all = (not_selected_data_flooring & not_selected_data_capping)\n",
    "\n",
    "data_index = dataset[cols][not_selected_data_all].index\n",
    "dataset[cols].drop(data_index, inplace=True \"\"\""
   ]
  },
  {
   "attachments": {},
   "cell_type": "markdown",
   "id": "6b3d1a14",
   "metadata": {},
   "source": [
    "Regressão Linear"
   ]
  },
  {
   "cell_type": "code",
   "execution_count": 50,
   "id": "4dac7a89",
   "metadata": {},
   "outputs": [],
   "source": [
    "dataset = dataset.loc[:,['datEmissao', 'vlrLiquido']]"
   ]
  },
  {
   "cell_type": "code",
   "execution_count": null,
   "id": "8661b0a3",
   "metadata": {},
   "outputs": [],
   "source": [
    "#Parcionando dados"
   ]
  },
  {
   "cell_type": "code",
   "execution_count": 51,
   "id": "375b8d6c",
   "metadata": {},
   "outputs": [
    {
     "ename": "NameError",
     "evalue": "name 'X_train' is not defined",
     "output_type": "error",
     "traceback": [
      "\u001b[1;31m---------------------------------------------------------------------------\u001b[0m",
      "\u001b[1;31mNameError\u001b[0m                                 Traceback (most recent call last)",
      "Cell \u001b[1;32mIn[51], line 3\u001b[0m\n\u001b[0;32m      1\u001b[0m \u001b[38;5;66;03m# Criar modelo\u001b[39;00m\n\u001b[0;32m      2\u001b[0m model \u001b[38;5;241m=\u001b[39m LinearRegression()\n\u001b[1;32m----> 3\u001b[0m model\u001b[38;5;241m.\u001b[39mfit(\u001b[43mX_train\u001b[49m, y_train)\n",
      "\u001b[1;31mNameError\u001b[0m: name 'X_train' is not defined"
     ]
    }
   ],
   "source": [
    "# Criar modelo\n",
    "model = LinearRegression()\n",
    "model.fit(X_train, y_train)"
   ]
  },
  {
   "cell_type": "code",
   "execution_count": 52,
   "id": "106abaf4",
   "metadata": {},
   "outputs": [
    {
     "ename": "NameError",
     "evalue": "name 'X_test' is not defined",
     "output_type": "error",
     "traceback": [
      "\u001b[1;31m---------------------------------------------------------------------------\u001b[0m",
      "\u001b[1;31mNameError\u001b[0m                                 Traceback (most recent call last)",
      "Cell \u001b[1;32mIn[52], line 2\u001b[0m\n\u001b[0;32m      1\u001b[0m \u001b[38;5;66;03m# Predição\u001b[39;00m\n\u001b[1;32m----> 2\u001b[0m predicted_values \u001b[38;5;241m=\u001b[39m model\u001b[38;5;241m.\u001b[39mpredict(\u001b[43mX_test\u001b[49m)\n",
      "\u001b[1;31mNameError\u001b[0m: name 'X_test' is not defined"
     ]
    }
   ],
   "source": [
    "# Predição\n",
    "predicted_values = model.predict(X_test)"
   ]
  },
  {
   "cell_type": "code",
   "execution_count": 53,
   "id": "ab27b4d7",
   "metadata": {},
   "outputs": [],
   "source": [
    "# Análise da regressão"
   ]
  }
 ],
 "metadata": {
  "kernelspec": {
   "display_name": "Python 3 (ipykernel)",
   "language": "python",
   "name": "python3"
  },
  "language_info": {
   "codemirror_mode": {
    "name": "ipython",
    "version": 3
   },
   "file_extension": ".py",
   "mimetype": "text/x-python",
   "name": "python",
   "nbconvert_exporter": "python",
   "pygments_lexer": "ipython3",
   "version": "3.11.8"
  }
 },
 "nbformat": 4,
 "nbformat_minor": 5
}
