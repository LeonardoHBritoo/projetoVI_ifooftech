{
 "cells": [
  {
   "attachments": {},
   "cell_type": "markdown",
   "id": "40feeadd",
   "metadata": {},
   "source": [
    "Importando as bibliotecas"
   ]
  },
  {
   "cell_type": "code",
   "execution_count": 1,
   "id": "21eae34a",
   "metadata": {},
   "outputs": [],
   "source": [
    "import os\n",
    "import requests\n",
    "import zipfile\n",
    "import pandas as pd\n",
    "import numpy as np\n",
    "import matplotlib.pyplot as plt\n",
    "import seaborn as sns\n",
    "import scipy.stats as sp\n",
    "\n",
    "\n",
    "from sklearn.impute import SimpleImputer\n",
    "from sklearn.linear_model import LinearRegression\n",
    "from sklearn.model_selection import train_test_split\n",
    "from scipy.stats import skew\n",
    "from scipy.stats import kstest, norm"
   ]
  },
  {
   "attachments": {},
   "cell_type": "markdown",
   "id": "ac5df586",
   "metadata": {},
   "source": [
    "Importando os dados"
   ]
  },
  {
   "cell_type": "code",
   "execution_count": 2,
   "id": "cb3b6989-edfe-4d4d-a884-a7f806756676",
   "metadata": {},
   "outputs": [],
   "source": [
    "diretorio_principal = os.getcwd()\n",
    "subdiretorio_dados = os.path.join(diretorio_principal, \"Dados\")\n",
    "\n",
    "# Criar o diretório se não existir\n",
    "os.makedirs(subdiretorio_dados, exist_ok=True)"
   ]
  },
  {
   "cell_type": "code",
   "execution_count": 3,
   "id": "888a861a-1f7c-40d3-84bb-2a44b2fff711",
   "metadata": {},
   "outputs": [],
   "source": [
    "anos = range(2008, 2024)\n",
    "formato = \"csv\"\n",
    "url_base = \"http://www.camara.leg.br/cotas/\"\n",
    "\n",
    "for ano in anos:\n",
    "    download = requests.get(url_base + f\"Ano-{ano}.{formato}.zip\")\n",
    "    caminho_zip = os.path.join(subdiretorio_dados, f\"Ano-{ano}.{formato}.zip\")\n",
    "\n",
    "    with open(caminho_zip, \"wb\") as file:\n",
    "        file.write(download.content)\n",
    "\n",
    "    # Extrair o conteúdo do arquivo ZIP\n",
    "    with zipfile.ZipFile(caminho_zip, 'r') as zip_ref:\n",
    "        zip_ref.extractall(subdiretorio_dados)\n",
    "\n",
    "    # # Remover o arquivo ZIP após extração (opcional)\n",
    "    # os.remove(caminho_zip)"
   ]
  },
  {
   "cell_type": "code",
   "execution_count": 5,
   "id": "b2a65a1f-cdb0-437c-bdbe-ab7de51b48d4",
   "metadata": {},
   "outputs": [],
   "source": [
    "# Voltar ao diretório principal\n",
    "os.chdir(diretorio_principal)\n",
    "\n",
    "# Criar um DataFrame com os dados extraídos\n",
    "despesas_totais = []\n",
    "\n",
    "for arquivo_csv in os.listdir(subdiretorio_dados):\n",
    "    if arquivo_csv.endswith('.csv') and not arquivo_csv.startswith(\".\"):\n",
    "        caminho_csv = os.path.join(subdiretorio_dados, arquivo_csv)\n",
    "        despesas = pd.read_csv(caminho_csv, sep=\";\", encoding='UTF-8', low_memory=False)\n",
    "        despesas_totais.append(despesas)\n",
    "\n",
    "# Concatenar todos os DataFrames em um único DataFrame\n",
    "despesas_completo = pd.concat(despesas_totais, ignore_index=True)"
   ]
  },
  {
   "cell_type": "code",
   "execution_count": 7,
   "id": "7973e780",
   "metadata": {},
   "outputs": [
    {
     "data": {
      "text/html": [
       "<div>\n",
       "<style scoped>\n",
       "    .dataframe tbody tr th:only-of-type {\n",
       "        vertical-align: middle;\n",
       "    }\n",
       "\n",
       "    .dataframe tbody tr th {\n",
       "        vertical-align: top;\n",
       "    }\n",
       "\n",
       "    .dataframe thead th {\n",
       "        text-align: right;\n",
       "    }\n",
       "</style>\n",
       "<table border=\"1\" class=\"dataframe\">\n",
       "  <thead>\n",
       "    <tr style=\"text-align: right;\">\n",
       "      <th></th>\n",
       "      <th>txNomeParlamentar</th>\n",
       "      <th>cpf</th>\n",
       "      <th>ideCadastro</th>\n",
       "      <th>nuCarteiraParlamentar</th>\n",
       "      <th>nuLegislatura</th>\n",
       "      <th>sgUF</th>\n",
       "      <th>sgPartido</th>\n",
       "      <th>codLegislatura</th>\n",
       "      <th>numSubCota</th>\n",
       "      <th>txtDescricao</th>\n",
       "      <th>...</th>\n",
       "      <th>numParcela</th>\n",
       "      <th>txtPassageiro</th>\n",
       "      <th>txtTrecho</th>\n",
       "      <th>numLote</th>\n",
       "      <th>numRessarcimento</th>\n",
       "      <th>datPagamentoRestituicao</th>\n",
       "      <th>vlrRestituicao</th>\n",
       "      <th>nuDeputadoId</th>\n",
       "      <th>ideDocumento</th>\n",
       "      <th>urlDocumento</th>\n",
       "    </tr>\n",
       "  </thead>\n",
       "  <tbody>\n",
       "    <tr>\n",
       "      <th>0</th>\n",
       "      <td>LIDERANÇA DO PSDB</td>\n",
       "      <td>NaN</td>\n",
       "      <td>NaN</td>\n",
       "      <td>NaN</td>\n",
       "      <td>2011</td>\n",
       "      <td>NaN</td>\n",
       "      <td>NaN</td>\n",
       "      <td>54</td>\n",
       "      <td>1</td>\n",
       "      <td>MANUTENÇÃO DE ESCRITÓRIO DE APOIO À ATIVIDADE ...</td>\n",
       "      <td>...</td>\n",
       "      <td>0</td>\n",
       "      <td>NaN</td>\n",
       "      <td>NaN</td>\n",
       "      <td>588705</td>\n",
       "      <td>NaN</td>\n",
       "      <td>NaN</td>\n",
       "      <td>NaN</td>\n",
       "      <td>2442</td>\n",
       "      <td>2246504</td>\n",
       "      <td>NaN</td>\n",
       "    </tr>\n",
       "    <tr>\n",
       "      <th>1</th>\n",
       "      <td>LIDERANÇA DO PSDB</td>\n",
       "      <td>NaN</td>\n",
       "      <td>NaN</td>\n",
       "      <td>NaN</td>\n",
       "      <td>2011</td>\n",
       "      <td>NaN</td>\n",
       "      <td>NaN</td>\n",
       "      <td>54</td>\n",
       "      <td>1</td>\n",
       "      <td>MANUTENÇÃO DE ESCRITÓRIO DE APOIO À ATIVIDADE ...</td>\n",
       "      <td>...</td>\n",
       "      <td>0</td>\n",
       "      <td>NaN</td>\n",
       "      <td>NaN</td>\n",
       "      <td>588705</td>\n",
       "      <td>NaN</td>\n",
       "      <td>NaN</td>\n",
       "      <td>NaN</td>\n",
       "      <td>2442</td>\n",
       "      <td>2246505</td>\n",
       "      <td>NaN</td>\n",
       "    </tr>\n",
       "    <tr>\n",
       "      <th>2</th>\n",
       "      <td>LIDERANÇA DO PSDB</td>\n",
       "      <td>NaN</td>\n",
       "      <td>NaN</td>\n",
       "      <td>NaN</td>\n",
       "      <td>2011</td>\n",
       "      <td>NaN</td>\n",
       "      <td>NaN</td>\n",
       "      <td>54</td>\n",
       "      <td>1</td>\n",
       "      <td>MANUTENÇÃO DE ESCRITÓRIO DE APOIO À ATIVIDADE ...</td>\n",
       "      <td>...</td>\n",
       "      <td>0</td>\n",
       "      <td>NaN</td>\n",
       "      <td>NaN</td>\n",
       "      <td>568174</td>\n",
       "      <td>NaN</td>\n",
       "      <td>NaN</td>\n",
       "      <td>NaN</td>\n",
       "      <td>2442</td>\n",
       "      <td>2181555</td>\n",
       "      <td>NaN</td>\n",
       "    </tr>\n",
       "    <tr>\n",
       "      <th>3</th>\n",
       "      <td>LIDERANÇA DO PSDB</td>\n",
       "      <td>NaN</td>\n",
       "      <td>NaN</td>\n",
       "      <td>NaN</td>\n",
       "      <td>2011</td>\n",
       "      <td>NaN</td>\n",
       "      <td>NaN</td>\n",
       "      <td>54</td>\n",
       "      <td>1</td>\n",
       "      <td>MANUTENÇÃO DE ESCRITÓRIO DE APOIO À ATIVIDADE ...</td>\n",
       "      <td>...</td>\n",
       "      <td>0</td>\n",
       "      <td>NaN</td>\n",
       "      <td>NaN</td>\n",
       "      <td>574051</td>\n",
       "      <td>NaN</td>\n",
       "      <td>NaN</td>\n",
       "      <td>NaN</td>\n",
       "      <td>2442</td>\n",
       "      <td>2193013</td>\n",
       "      <td>NaN</td>\n",
       "    </tr>\n",
       "    <tr>\n",
       "      <th>4</th>\n",
       "      <td>LIDERANÇA DO PSDB</td>\n",
       "      <td>NaN</td>\n",
       "      <td>NaN</td>\n",
       "      <td>NaN</td>\n",
       "      <td>2011</td>\n",
       "      <td>NaN</td>\n",
       "      <td>NaN</td>\n",
       "      <td>54</td>\n",
       "      <td>3</td>\n",
       "      <td>COMBUSTÍVEIS E LUBRIFICANTES.</td>\n",
       "      <td>...</td>\n",
       "      <td>0</td>\n",
       "      <td>NaN</td>\n",
       "      <td>NaN</td>\n",
       "      <td>561555</td>\n",
       "      <td>NaN</td>\n",
       "      <td>NaN</td>\n",
       "      <td>NaN</td>\n",
       "      <td>2442</td>\n",
       "      <td>2150852</td>\n",
       "      <td>NaN</td>\n",
       "    </tr>\n",
       "    <tr>\n",
       "      <th>...</th>\n",
       "      <td>...</td>\n",
       "      <td>...</td>\n",
       "      <td>...</td>\n",
       "      <td>...</td>\n",
       "      <td>...</td>\n",
       "      <td>...</td>\n",
       "      <td>...</td>\n",
       "      <td>...</td>\n",
       "      <td>...</td>\n",
       "      <td>...</td>\n",
       "      <td>...</td>\n",
       "      <td>...</td>\n",
       "      <td>...</td>\n",
       "      <td>...</td>\n",
       "      <td>...</td>\n",
       "      <td>...</td>\n",
       "      <td>...</td>\n",
       "      <td>...</td>\n",
       "      <td>...</td>\n",
       "      <td>...</td>\n",
       "      <td>...</td>\n",
       "    </tr>\n",
       "    <tr>\n",
       "      <th>4666973</th>\n",
       "      <td>EDIGAR MÃO BRANCA</td>\n",
       "      <td>1.222867e+10</td>\n",
       "      <td>143253.0</td>\n",
       "      <td>534.0</td>\n",
       "      <td>2007</td>\n",
       "      <td>BA</td>\n",
       "      <td>PV</td>\n",
       "      <td>53</td>\n",
       "      <td>10</td>\n",
       "      <td>TELEFONIA</td>\n",
       "      <td>...</td>\n",
       "      <td>0</td>\n",
       "      <td>NaN</td>\n",
       "      <td>NaN</td>\n",
       "      <td>0</td>\n",
       "      <td>0.0</td>\n",
       "      <td>NaN</td>\n",
       "      <td>NaN</td>\n",
       "      <td>1976</td>\n",
       "      <td>0</td>\n",
       "      <td>NaN</td>\n",
       "    </tr>\n",
       "    <tr>\n",
       "      <th>4666974</th>\n",
       "      <td>CHICO ABREU</td>\n",
       "      <td>1.477453e+10</td>\n",
       "      <td>146308.0</td>\n",
       "      <td>537.0</td>\n",
       "      <td>2007</td>\n",
       "      <td>GO</td>\n",
       "      <td>PR</td>\n",
       "      <td>53</td>\n",
       "      <td>10</td>\n",
       "      <td>TELEFONIA</td>\n",
       "      <td>...</td>\n",
       "      <td>0</td>\n",
       "      <td>NaN</td>\n",
       "      <td>NaN</td>\n",
       "      <td>0</td>\n",
       "      <td>0.0</td>\n",
       "      <td>NaN</td>\n",
       "      <td>NaN</td>\n",
       "      <td>1978</td>\n",
       "      <td>0</td>\n",
       "      <td>NaN</td>\n",
       "    </tr>\n",
       "    <tr>\n",
       "      <th>4666975</th>\n",
       "      <td>MARCELO ALMEIDA</td>\n",
       "      <td>5.980260e+10</td>\n",
       "      <td>146613.0</td>\n",
       "      <td>631.0</td>\n",
       "      <td>2007</td>\n",
       "      <td>PR</td>\n",
       "      <td>PMDB</td>\n",
       "      <td>53</td>\n",
       "      <td>10</td>\n",
       "      <td>TELEFONIA</td>\n",
       "      <td>...</td>\n",
       "      <td>0</td>\n",
       "      <td>NaN</td>\n",
       "      <td>NaN</td>\n",
       "      <td>0</td>\n",
       "      <td>0.0</td>\n",
       "      <td>NaN</td>\n",
       "      <td>NaN</td>\n",
       "      <td>1979</td>\n",
       "      <td>0</td>\n",
       "      <td>NaN</td>\n",
       "    </tr>\n",
       "    <tr>\n",
       "      <th>4666976</th>\n",
       "      <td>MAJOR FÁBIO</td>\n",
       "      <td>4.801863e+10</td>\n",
       "      <td>149327.0</td>\n",
       "      <td>599.0</td>\n",
       "      <td>2007</td>\n",
       "      <td>PB</td>\n",
       "      <td>DEM</td>\n",
       "      <td>53</td>\n",
       "      <td>7</td>\n",
       "      <td>AQUISIÇÃO OU LOC. DE SOFTWARE; SERV. POSTAIS; ...</td>\n",
       "      <td>...</td>\n",
       "      <td>0</td>\n",
       "      <td>NaN</td>\n",
       "      <td>NaN</td>\n",
       "      <td>427520</td>\n",
       "      <td>NaN</td>\n",
       "      <td>NaN</td>\n",
       "      <td>NaN</td>\n",
       "      <td>1986</td>\n",
       "      <td>1687411</td>\n",
       "      <td>NaN</td>\n",
       "    </tr>\n",
       "    <tr>\n",
       "      <th>4666977</th>\n",
       "      <td>JOSÉ EDMAR</td>\n",
       "      <td>3.808190e+09</td>\n",
       "      <td>151249.0</td>\n",
       "      <td>563.0</td>\n",
       "      <td>2007</td>\n",
       "      <td>DF</td>\n",
       "      <td>PR</td>\n",
       "      <td>53</td>\n",
       "      <td>3</td>\n",
       "      <td>COMBUSTÍVEIS E LUBRIFICANTES.</td>\n",
       "      <td>...</td>\n",
       "      <td>0</td>\n",
       "      <td>NaN</td>\n",
       "      <td>NaN</td>\n",
       "      <td>393318</td>\n",
       "      <td>NaN</td>\n",
       "      <td>NaN</td>\n",
       "      <td>NaN</td>\n",
       "      <td>1993</td>\n",
       "      <td>1578001</td>\n",
       "      <td>NaN</td>\n",
       "    </tr>\n",
       "  </tbody>\n",
       "</table>\n",
       "<p>4666978 rows × 32 columns</p>\n",
       "</div>"
      ],
      "text/plain": [
       "         txNomeParlamentar           cpf  ideCadastro  nuCarteiraParlamentar  \\\n",
       "0        LIDERANÇA DO PSDB           NaN          NaN                    NaN   \n",
       "1        LIDERANÇA DO PSDB           NaN          NaN                    NaN   \n",
       "2        LIDERANÇA DO PSDB           NaN          NaN                    NaN   \n",
       "3        LIDERANÇA DO PSDB           NaN          NaN                    NaN   \n",
       "4        LIDERANÇA DO PSDB           NaN          NaN                    NaN   \n",
       "...                    ...           ...          ...                    ...   \n",
       "4666973  EDIGAR MÃO BRANCA  1.222867e+10     143253.0                  534.0   \n",
       "4666974        CHICO ABREU  1.477453e+10     146308.0                  537.0   \n",
       "4666975    MARCELO ALMEIDA  5.980260e+10     146613.0                  631.0   \n",
       "4666976        MAJOR FÁBIO  4.801863e+10     149327.0                  599.0   \n",
       "4666977         JOSÉ EDMAR  3.808190e+09     151249.0                  563.0   \n",
       "\n",
       "         nuLegislatura sgUF sgPartido  codLegislatura  numSubCota  \\\n",
       "0                 2011  NaN       NaN              54           1   \n",
       "1                 2011  NaN       NaN              54           1   \n",
       "2                 2011  NaN       NaN              54           1   \n",
       "3                 2011  NaN       NaN              54           1   \n",
       "4                 2011  NaN       NaN              54           3   \n",
       "...                ...  ...       ...             ...         ...   \n",
       "4666973           2007   BA        PV              53          10   \n",
       "4666974           2007   GO        PR              53          10   \n",
       "4666975           2007   PR      PMDB              53          10   \n",
       "4666976           2007   PB       DEM              53           7   \n",
       "4666977           2007   DF        PR              53           3   \n",
       "\n",
       "                                              txtDescricao  ...  numParcela  \\\n",
       "0        MANUTENÇÃO DE ESCRITÓRIO DE APOIO À ATIVIDADE ...  ...           0   \n",
       "1        MANUTENÇÃO DE ESCRITÓRIO DE APOIO À ATIVIDADE ...  ...           0   \n",
       "2        MANUTENÇÃO DE ESCRITÓRIO DE APOIO À ATIVIDADE ...  ...           0   \n",
       "3        MANUTENÇÃO DE ESCRITÓRIO DE APOIO À ATIVIDADE ...  ...           0   \n",
       "4                            COMBUSTÍVEIS E LUBRIFICANTES.  ...           0   \n",
       "...                                                    ...  ...         ...   \n",
       "4666973                                          TELEFONIA  ...           0   \n",
       "4666974                                          TELEFONIA  ...           0   \n",
       "4666975                                          TELEFONIA  ...           0   \n",
       "4666976  AQUISIÇÃO OU LOC. DE SOFTWARE; SERV. POSTAIS; ...  ...           0   \n",
       "4666977                      COMBUSTÍVEIS E LUBRIFICANTES.  ...           0   \n",
       "\n",
       "        txtPassageiro txtTrecho numLote numRessarcimento  \\\n",
       "0                 NaN       NaN  588705              NaN   \n",
       "1                 NaN       NaN  588705              NaN   \n",
       "2                 NaN       NaN  568174              NaN   \n",
       "3                 NaN       NaN  574051              NaN   \n",
       "4                 NaN       NaN  561555              NaN   \n",
       "...               ...       ...     ...              ...   \n",
       "4666973           NaN       NaN       0              0.0   \n",
       "4666974           NaN       NaN       0              0.0   \n",
       "4666975           NaN       NaN       0              0.0   \n",
       "4666976           NaN       NaN  427520              NaN   \n",
       "4666977           NaN       NaN  393318              NaN   \n",
       "\n",
       "         datPagamentoRestituicao vlrRestituicao  nuDeputadoId  ideDocumento  \\\n",
       "0                            NaN            NaN          2442       2246504   \n",
       "1                            NaN            NaN          2442       2246505   \n",
       "2                            NaN            NaN          2442       2181555   \n",
       "3                            NaN            NaN          2442       2193013   \n",
       "4                            NaN            NaN          2442       2150852   \n",
       "...                          ...            ...           ...           ...   \n",
       "4666973                      NaN            NaN          1976             0   \n",
       "4666974                      NaN            NaN          1978             0   \n",
       "4666975                      NaN            NaN          1979             0   \n",
       "4666976                      NaN            NaN          1986       1687411   \n",
       "4666977                      NaN            NaN          1993       1578001   \n",
       "\n",
       "         urlDocumento  \n",
       "0                 NaN  \n",
       "1                 NaN  \n",
       "2                 NaN  \n",
       "3                 NaN  \n",
       "4                 NaN  \n",
       "...               ...  \n",
       "4666973           NaN  \n",
       "4666974           NaN  \n",
       "4666975           NaN  \n",
       "4666976           NaN  \n",
       "4666977           NaN  \n",
       "\n",
       "[4666978 rows x 32 columns]"
      ]
     },
     "execution_count": 7,
     "metadata": {},
     "output_type": "execute_result"
    }
   ],
   "source": [
    "despesas_completo"
   ]
  },
  {
   "attachments": {},
   "cell_type": "markdown",
   "id": "a0c3196f",
   "metadata": {},
   "source": [
    "Selecionando colunas de interesse"
   ]
  },
  {
   "cell_type": "code",
   "execution_count": 8,
   "id": "04dde76e",
   "metadata": {},
   "outputs": [
    {
     "data": {
      "text/plain": [
       "Index(['txNomeParlamentar', 'cpf', 'ideCadastro', 'nuCarteiraParlamentar',\n",
       "       'nuLegislatura', 'sgUF', 'sgPartido', 'codLegislatura', 'numSubCota',\n",
       "       'txtDescricao', 'numEspecificacaoSubCota', 'txtDescricaoEspecificacao',\n",
       "       'txtFornecedor', 'txtCNPJCPF', 'txtNumero', 'indTipoDocumento',\n",
       "       'datEmissao', 'vlrDocumento', 'vlrGlosa', 'vlrLiquido', 'numMes',\n",
       "       'numAno', 'numParcela', 'txtPassageiro', 'txtTrecho', 'numLote',\n",
       "       'numRessarcimento', 'datPagamentoRestituicao', 'vlrRestituicao',\n",
       "       'nuDeputadoId', 'ideDocumento', 'urlDocumento'],\n",
       "      dtype='object')"
      ]
     },
     "execution_count": 8,
     "metadata": {},
     "output_type": "execute_result"
    }
   ],
   "source": [
    "# Listar colunas\n",
    "despesas_completo.columns"
   ]
  },
  {
   "cell_type": "code",
   "execution_count": 9,
   "id": "beea5c41",
   "metadata": {},
   "outputs": [
    {
     "name": "stdout",
     "output_type": "stream",
     "text": [
      "sgPartido\n",
      "AVANTE            27745\n",
      "CIDADANIA         11803\n",
      "DEM              247692\n",
      "MDB              230520\n",
      "NOVO              10194\n",
      "PATRI             14820\n",
      "PATRIOTA           7620\n",
      "PCdoB            111592\n",
      "PDT              167526\n",
      "PEN                 729\n",
      "PHS               12062\n",
      "PL               164742\n",
      "PMDB             313274\n",
      "PMN                8115\n",
      "PODE              72608\n",
      "PP               273137\n",
      "PP**             173469\n",
      "PPL                2227\n",
      "PPS               72946\n",
      "PR               252306\n",
      "PRB               75917\n",
      "PRD                2157\n",
      "PROS              78855\n",
      "PRP                4039\n",
      "PRTB                268\n",
      "PSB              242792\n",
      "PSC               88254\n",
      "PSD              301343\n",
      "PSDB             407567\n",
      "PSDC                236\n",
      "PSL               18121\n",
      "PSOL              45958\n",
      "PT               716036\n",
      "PTB              114643\n",
      "PTC                3743\n",
      "PTdoB             10662\n",
      "PV                71924\n",
      "REDE               8609\n",
      "REPUBLICANOS      86033\n",
      "S.PART.            6241\n",
      "SDD               55193\n",
      "SOLIDARIEDADE     34331\n",
      "UNIÃO            110774\n",
      "Name: txNomeParlamentar, dtype: int64\n"
     ]
    }
   ],
   "source": [
    "#Total de parlamentares por partido\n",
    "\n",
    "# Group by 'sgPartido' e conta quantas vezes aparece 'txNomeParlamentar' em cada partido\n",
    "part_total = despesas_completo.groupby('sgPartido')['txNomeParlamentar'].count()\n",
    "\n",
    "print(part_total)"
   ]
  },
  {
   "cell_type": "code",
   "execution_count": 10,
   "id": "9ce552c2",
   "metadata": {},
   "outputs": [
    {
     "name": "stdout",
     "output_type": "stream",
     "text": [
      "sgPartido\n",
      "AVANTE           2.117583e+07\n",
      "CIDADANIA        8.512710e+06\n",
      "DEM              1.381063e+08\n",
      "MDB              1.731049e+08\n",
      "NOVO             3.911601e+06\n",
      "PATRI            8.224330e+06\n",
      "PATRIOTA         8.258312e+06\n",
      "PCdoB            6.811278e+07\n",
      "PDT              1.121330e+08\n",
      "PEN              2.709355e+05\n",
      "PHS              8.693070e+06\n",
      "PL               1.560350e+08\n",
      "PMDB             1.518192e+08\n",
      "PMN              4.944567e+06\n",
      "PODE             4.991398e+07\n",
      "PP               2.053843e+08\n",
      "PP**             7.666370e+07\n",
      "PPL              1.871244e+06\n",
      "PPS              3.188869e+07\n",
      "PR               1.355463e+08\n",
      "PRB              5.676098e+07\n",
      "PRD              2.242207e+06\n",
      "PROS             5.338680e+07\n",
      "PRP              3.889258e+06\n",
      "PRTB             1.675898e+05\n",
      "PSB              1.351641e+08\n",
      "PSC              5.418096e+07\n",
      "PSD              2.121930e+08\n",
      "PSDB             2.128687e+08\n",
      "PSDC             1.250884e+05\n",
      "PSL              1.132201e+07\n",
      "PSOL             2.919510e+07\n",
      "PT               3.924551e+08\n",
      "PTB              7.722071e+07\n",
      "PTC              1.770488e+06\n",
      "PTdoB            5.304190e+06\n",
      "PV               3.515431e+07\n",
      "REDE             6.462156e+06\n",
      "REPUBLICANOS     9.723215e+07\n",
      "S.PART.          2.297041e+06\n",
      "SDD              3.082233e+07\n",
      "SOLIDARIEDADE    3.121020e+07\n",
      "UNIÃO            1.136330e+08\n",
      "Name: vlrLiquido, dtype: float64\n"
     ]
    }
   ],
   "source": [
    "#Somando o 'vlrLiquido' por partido \n",
    "\n",
    "# Group by 'sgPartido' e soma o valor contido em 'vlrLiquido' por partido\n",
    "vlrLiquido_por_partido = despesas_completo.groupby('sgPartido')['vlrLiquido'].sum()\n",
    "\n",
    "print(vlrLiquido_por_partido)\n",
    "\n"
   ]
  },
  {
   "cell_type": "code",
   "execution_count": 11,
   "id": "d98c2b42",
   "metadata": {},
   "outputs": [
    {
     "name": "stdout",
     "output_type": "stream",
     "text": [
      "sgPartido\n",
      "AVANTE            763.230349\n",
      "CIDADANIA         721.232749\n",
      "DEM               557.572896\n",
      "MDB               750.932167\n",
      "NOVO              383.715976\n",
      "PATRI             554.948052\n",
      "PATRIOTA         1083.767993\n",
      "PCdoB             610.373287\n",
      "PDT               669.346926\n",
      "PEN               371.653594\n",
      "PHS               720.698912\n",
      "PL                947.147466\n",
      "PMDB              484.621248\n",
      "PMN               609.312042\n",
      "PODE              687.444694\n",
      "PP                751.946128\n",
      "PP**              441.944646\n",
      "PPL               840.253134\n",
      "PPS               437.154794\n",
      "PR                537.229647\n",
      "PRB               747.671524\n",
      "PRD              1039.502531\n",
      "PROS              677.024921\n",
      "PRP               962.926036\n",
      "PRTB              625.335075\n",
      "PSB               556.707391\n",
      "PSC               613.920748\n",
      "PSD               704.157774\n",
      "PSDB              522.291322\n",
      "PSDC              530.035763\n",
      "PSL               624.800261\n",
      "PSOL              635.256201\n",
      "PT                548.094135\n",
      "PTB               673.575451\n",
      "PTC               473.013096\n",
      "PTdoB             497.485485\n",
      "PV                488.770218\n",
      "REDE              750.627899\n",
      "REPUBLICANOS     1130.172712\n",
      "S.PART.           368.056610\n",
      "SDD               558.446304\n",
      "SOLIDARIEDADE     909.096826\n",
      "UNIÃO            1025.809478\n",
      "dtype: float64\n"
     ]
    }
   ],
   "source": [
    "#vlrLiquido por quantidade de parlamentar por patido \n",
    "\n",
    "vlrLiquido_por_parlamentar_por_pat = vlrLiquido_por_partido / part_total\n",
    "\n",
    "print(vlrLiquido_por_parlamentar_por_pat)"
   ]
  },
  {
   "cell_type": "code",
   "execution_count": 12,
   "id": "8b512916",
   "metadata": {},
   "outputs": [],
   "source": [
    "# Selecionar colunas\n",
    "dataset = despesas_completo.loc[:,['sgUF', 'sgPartido', 'txtDescricao', 'datEmissao', 'vlrLiquido' ]]"
   ]
  },
  {
   "cell_type": "code",
   "execution_count": 13,
   "id": "19d74ae6",
   "metadata": {},
   "outputs": [
    {
     "data": {
      "text/html": [
       "<div>\n",
       "<style scoped>\n",
       "    .dataframe tbody tr th:only-of-type {\n",
       "        vertical-align: middle;\n",
       "    }\n",
       "\n",
       "    .dataframe tbody tr th {\n",
       "        vertical-align: top;\n",
       "    }\n",
       "\n",
       "    .dataframe thead th {\n",
       "        text-align: right;\n",
       "    }\n",
       "</style>\n",
       "<table border=\"1\" class=\"dataframe\">\n",
       "  <thead>\n",
       "    <tr style=\"text-align: right;\">\n",
       "      <th></th>\n",
       "      <th>sgUF</th>\n",
       "      <th>sgPartido</th>\n",
       "      <th>txtDescricao</th>\n",
       "      <th>datEmissao</th>\n",
       "      <th>vlrLiquido</th>\n",
       "    </tr>\n",
       "  </thead>\n",
       "  <tbody>\n",
       "    <tr>\n",
       "      <th>0</th>\n",
       "      <td>NaN</td>\n",
       "      <td>NaN</td>\n",
       "      <td>MANUTENÇÃO DE ESCRITÓRIO DE APOIO À ATIVIDADE ...</td>\n",
       "      <td>2011-12-26T00:00:00</td>\n",
       "      <td>8275.08</td>\n",
       "    </tr>\n",
       "    <tr>\n",
       "      <th>1</th>\n",
       "      <td>NaN</td>\n",
       "      <td>NaN</td>\n",
       "      <td>MANUTENÇÃO DE ESCRITÓRIO DE APOIO À ATIVIDADE ...</td>\n",
       "      <td>2011-12-26T00:00:00</td>\n",
       "      <td>9432.00</td>\n",
       "    </tr>\n",
       "    <tr>\n",
       "      <th>2</th>\n",
       "      <td>NaN</td>\n",
       "      <td>NaN</td>\n",
       "      <td>MANUTENÇÃO DE ESCRITÓRIO DE APOIO À ATIVIDADE ...</td>\n",
       "      <td>2011-09-27T00:00:00</td>\n",
       "      <td>5112.00</td>\n",
       "    </tr>\n",
       "    <tr>\n",
       "      <th>3</th>\n",
       "      <td>NaN</td>\n",
       "      <td>NaN</td>\n",
       "      <td>MANUTENÇÃO DE ESCRITÓRIO DE APOIO À ATIVIDADE ...</td>\n",
       "      <td>2011-10-27T00:00:00</td>\n",
       "      <td>77.80</td>\n",
       "    </tr>\n",
       "    <tr>\n",
       "      <th>4</th>\n",
       "      <td>NaN</td>\n",
       "      <td>NaN</td>\n",
       "      <td>COMBUSTÍVEIS E LUBRIFICANTES.</td>\n",
       "      <td>2011-08-15T00:00:00</td>\n",
       "      <td>106.11</td>\n",
       "    </tr>\n",
       "    <tr>\n",
       "      <th>...</th>\n",
       "      <td>...</td>\n",
       "      <td>...</td>\n",
       "      <td>...</td>\n",
       "      <td>...</td>\n",
       "      <td>...</td>\n",
       "    </tr>\n",
       "    <tr>\n",
       "      <th>4666973</th>\n",
       "      <td>BA</td>\n",
       "      <td>PV</td>\n",
       "      <td>TELEFONIA</td>\n",
       "      <td>2008-12-01T00:00:00</td>\n",
       "      <td>196.92</td>\n",
       "    </tr>\n",
       "    <tr>\n",
       "      <th>4666974</th>\n",
       "      <td>GO</td>\n",
       "      <td>PR</td>\n",
       "      <td>TELEFONIA</td>\n",
       "      <td>2008-12-01T00:00:00</td>\n",
       "      <td>95.62</td>\n",
       "    </tr>\n",
       "    <tr>\n",
       "      <th>4666975</th>\n",
       "      <td>PR</td>\n",
       "      <td>PMDB</td>\n",
       "      <td>TELEFONIA</td>\n",
       "      <td>2008-12-01T00:00:00</td>\n",
       "      <td>81.53</td>\n",
       "    </tr>\n",
       "    <tr>\n",
       "      <th>4666976</th>\n",
       "      <td>PB</td>\n",
       "      <td>DEM</td>\n",
       "      <td>AQUISIÇÃO OU LOC. DE SOFTWARE; SERV. POSTAIS; ...</td>\n",
       "      <td>2008-12-23T00:00:00</td>\n",
       "      <td>51.10</td>\n",
       "    </tr>\n",
       "    <tr>\n",
       "      <th>4666977</th>\n",
       "      <td>DF</td>\n",
       "      <td>PR</td>\n",
       "      <td>COMBUSTÍVEIS E LUBRIFICANTES.</td>\n",
       "      <td>2008-10-05T00:00:00</td>\n",
       "      <td>22.40</td>\n",
       "    </tr>\n",
       "  </tbody>\n",
       "</table>\n",
       "<p>4666978 rows × 5 columns</p>\n",
       "</div>"
      ],
      "text/plain": [
       "        sgUF sgPartido                                       txtDescricao  \\\n",
       "0        NaN       NaN  MANUTENÇÃO DE ESCRITÓRIO DE APOIO À ATIVIDADE ...   \n",
       "1        NaN       NaN  MANUTENÇÃO DE ESCRITÓRIO DE APOIO À ATIVIDADE ...   \n",
       "2        NaN       NaN  MANUTENÇÃO DE ESCRITÓRIO DE APOIO À ATIVIDADE ...   \n",
       "3        NaN       NaN  MANUTENÇÃO DE ESCRITÓRIO DE APOIO À ATIVIDADE ...   \n",
       "4        NaN       NaN                      COMBUSTÍVEIS E LUBRIFICANTES.   \n",
       "...      ...       ...                                                ...   \n",
       "4666973   BA        PV                                          TELEFONIA   \n",
       "4666974   GO        PR                                          TELEFONIA   \n",
       "4666975   PR      PMDB                                          TELEFONIA   \n",
       "4666976   PB       DEM  AQUISIÇÃO OU LOC. DE SOFTWARE; SERV. POSTAIS; ...   \n",
       "4666977   DF        PR                      COMBUSTÍVEIS E LUBRIFICANTES.   \n",
       "\n",
       "                  datEmissao  vlrLiquido  \n",
       "0        2011-12-26T00:00:00     8275.08  \n",
       "1        2011-12-26T00:00:00     9432.00  \n",
       "2        2011-09-27T00:00:00     5112.00  \n",
       "3        2011-10-27T00:00:00       77.80  \n",
       "4        2011-08-15T00:00:00      106.11  \n",
       "...                      ...         ...  \n",
       "4666973  2008-12-01T00:00:00      196.92  \n",
       "4666974  2008-12-01T00:00:00       95.62  \n",
       "4666975  2008-12-01T00:00:00       81.53  \n",
       "4666976  2008-12-23T00:00:00       51.10  \n",
       "4666977  2008-10-05T00:00:00       22.40  \n",
       "\n",
       "[4666978 rows x 5 columns]"
      ]
     },
     "execution_count": 13,
     "metadata": {},
     "output_type": "execute_result"
    }
   ],
   "source": [
    "# Visualizar dados de estudo\n",
    "dataset"
   ]
  },
  {
   "cell_type": "code",
   "execution_count": 14,
   "id": "77394246",
   "metadata": {},
   "outputs": [
    {
     "data": {
      "text/plain": [
       "Index(['sgUF', 'sgPartido', 'txtDescricao', 'datEmissao', 'vlrLiquido'], dtype='object')"
      ]
     },
     "execution_count": 14,
     "metadata": {},
     "output_type": "execute_result"
    }
   ],
   "source": [
    "# Listar colunas\n",
    "dataset.columns"
   ]
  },
  {
   "attachments": {},
   "cell_type": "markdown",
   "id": "2fbdaa79",
   "metadata": {},
   "source": [
    "Conferindo dados Selecionados"
   ]
  },
  {
   "cell_type": "code",
   "execution_count": 15,
   "id": "1d430234",
   "metadata": {},
   "outputs": [
    {
     "data": {
      "text/html": [
       "<div>\n",
       "<style scoped>\n",
       "    .dataframe tbody tr th:only-of-type {\n",
       "        vertical-align: middle;\n",
       "    }\n",
       "\n",
       "    .dataframe tbody tr th {\n",
       "        vertical-align: top;\n",
       "    }\n",
       "\n",
       "    .dataframe thead th {\n",
       "        text-align: right;\n",
       "    }\n",
       "</style>\n",
       "<table border=\"1\" class=\"dataframe\">\n",
       "  <thead>\n",
       "    <tr style=\"text-align: right;\">\n",
       "      <th></th>\n",
       "      <th>sgUF</th>\n",
       "      <th>sgPartido</th>\n",
       "      <th>txtDescricao</th>\n",
       "      <th>datEmissao</th>\n",
       "      <th>vlrLiquido</th>\n",
       "    </tr>\n",
       "  </thead>\n",
       "  <tbody>\n",
       "    <tr>\n",
       "      <th>0</th>\n",
       "      <td>NaN</td>\n",
       "      <td>NaN</td>\n",
       "      <td>MANUTENÇÃO DE ESCRITÓRIO DE APOIO À ATIVIDADE ...</td>\n",
       "      <td>2011-12-26T00:00:00</td>\n",
       "      <td>8275.08</td>\n",
       "    </tr>\n",
       "    <tr>\n",
       "      <th>1</th>\n",
       "      <td>NaN</td>\n",
       "      <td>NaN</td>\n",
       "      <td>MANUTENÇÃO DE ESCRITÓRIO DE APOIO À ATIVIDADE ...</td>\n",
       "      <td>2011-12-26T00:00:00</td>\n",
       "      <td>9432.00</td>\n",
       "    </tr>\n",
       "    <tr>\n",
       "      <th>2</th>\n",
       "      <td>NaN</td>\n",
       "      <td>NaN</td>\n",
       "      <td>MANUTENÇÃO DE ESCRITÓRIO DE APOIO À ATIVIDADE ...</td>\n",
       "      <td>2011-09-27T00:00:00</td>\n",
       "      <td>5112.00</td>\n",
       "    </tr>\n",
       "    <tr>\n",
       "      <th>3</th>\n",
       "      <td>NaN</td>\n",
       "      <td>NaN</td>\n",
       "      <td>MANUTENÇÃO DE ESCRITÓRIO DE APOIO À ATIVIDADE ...</td>\n",
       "      <td>2011-10-27T00:00:00</td>\n",
       "      <td>77.80</td>\n",
       "    </tr>\n",
       "    <tr>\n",
       "      <th>4</th>\n",
       "      <td>NaN</td>\n",
       "      <td>NaN</td>\n",
       "      <td>COMBUSTÍVEIS E LUBRIFICANTES.</td>\n",
       "      <td>2011-08-15T00:00:00</td>\n",
       "      <td>106.11</td>\n",
       "    </tr>\n",
       "    <tr>\n",
       "      <th>5</th>\n",
       "      <td>NaN</td>\n",
       "      <td>NaN</td>\n",
       "      <td>COMBUSTÍVEIS E LUBRIFICANTES.</td>\n",
       "      <td>2011-08-29T00:00:00</td>\n",
       "      <td>80.00</td>\n",
       "    </tr>\n",
       "    <tr>\n",
       "      <th>6</th>\n",
       "      <td>NaN</td>\n",
       "      <td>NaN</td>\n",
       "      <td>COMBUSTÍVEIS E LUBRIFICANTES.</td>\n",
       "      <td>2011-10-04T00:00:00</td>\n",
       "      <td>20.00</td>\n",
       "    </tr>\n",
       "    <tr>\n",
       "      <th>7</th>\n",
       "      <td>NaN</td>\n",
       "      <td>NaN</td>\n",
       "      <td>COMBUSTÍVEIS E LUBRIFICANTES.</td>\n",
       "      <td>2011-09-02T00:00:00</td>\n",
       "      <td>50.00</td>\n",
       "    </tr>\n",
       "    <tr>\n",
       "      <th>8</th>\n",
       "      <td>NaN</td>\n",
       "      <td>NaN</td>\n",
       "      <td>COMBUSTÍVEIS E LUBRIFICANTES.</td>\n",
       "      <td>2011-10-18T00:00:00</td>\n",
       "      <td>50.00</td>\n",
       "    </tr>\n",
       "    <tr>\n",
       "      <th>9</th>\n",
       "      <td>NaN</td>\n",
       "      <td>NaN</td>\n",
       "      <td>COMBUSTÍVEIS E LUBRIFICANTES.</td>\n",
       "      <td>2011-08-12T00:00:00</td>\n",
       "      <td>113.59</td>\n",
       "    </tr>\n",
       "  </tbody>\n",
       "</table>\n",
       "</div>"
      ],
      "text/plain": [
       "  sgUF sgPartido                                       txtDescricao  \\\n",
       "0  NaN       NaN  MANUTENÇÃO DE ESCRITÓRIO DE APOIO À ATIVIDADE ...   \n",
       "1  NaN       NaN  MANUTENÇÃO DE ESCRITÓRIO DE APOIO À ATIVIDADE ...   \n",
       "2  NaN       NaN  MANUTENÇÃO DE ESCRITÓRIO DE APOIO À ATIVIDADE ...   \n",
       "3  NaN       NaN  MANUTENÇÃO DE ESCRITÓRIO DE APOIO À ATIVIDADE ...   \n",
       "4  NaN       NaN                      COMBUSTÍVEIS E LUBRIFICANTES.   \n",
       "5  NaN       NaN                      COMBUSTÍVEIS E LUBRIFICANTES.   \n",
       "6  NaN       NaN                      COMBUSTÍVEIS E LUBRIFICANTES.   \n",
       "7  NaN       NaN                      COMBUSTÍVEIS E LUBRIFICANTES.   \n",
       "8  NaN       NaN                      COMBUSTÍVEIS E LUBRIFICANTES.   \n",
       "9  NaN       NaN                      COMBUSTÍVEIS E LUBRIFICANTES.   \n",
       "\n",
       "            datEmissao  vlrLiquido  \n",
       "0  2011-12-26T00:00:00     8275.08  \n",
       "1  2011-12-26T00:00:00     9432.00  \n",
       "2  2011-09-27T00:00:00     5112.00  \n",
       "3  2011-10-27T00:00:00       77.80  \n",
       "4  2011-08-15T00:00:00      106.11  \n",
       "5  2011-08-29T00:00:00       80.00  \n",
       "6  2011-10-04T00:00:00       20.00  \n",
       "7  2011-09-02T00:00:00       50.00  \n",
       "8  2011-10-18T00:00:00       50.00  \n",
       "9  2011-08-12T00:00:00      113.59  "
      ]
     },
     "execution_count": 15,
     "metadata": {},
     "output_type": "execute_result"
    }
   ],
   "source": [
    "dataset.head(10)"
   ]
  },
  {
   "cell_type": "code",
   "execution_count": 16,
   "id": "c6f22216",
   "metadata": {},
   "outputs": [
    {
     "data": {
      "text/html": [
       "<div>\n",
       "<style scoped>\n",
       "    .dataframe tbody tr th:only-of-type {\n",
       "        vertical-align: middle;\n",
       "    }\n",
       "\n",
       "    .dataframe tbody tr th {\n",
       "        vertical-align: top;\n",
       "    }\n",
       "\n",
       "    .dataframe thead th {\n",
       "        text-align: right;\n",
       "    }\n",
       "</style>\n",
       "<table border=\"1\" class=\"dataframe\">\n",
       "  <thead>\n",
       "    <tr style=\"text-align: right;\">\n",
       "      <th></th>\n",
       "      <th>sgUF</th>\n",
       "      <th>sgPartido</th>\n",
       "      <th>txtDescricao</th>\n",
       "      <th>datEmissao</th>\n",
       "      <th>vlrLiquido</th>\n",
       "    </tr>\n",
       "  </thead>\n",
       "  <tbody>\n",
       "    <tr>\n",
       "      <th>4666968</th>\n",
       "      <td>SP</td>\n",
       "      <td>PTdoB</td>\n",
       "      <td>TELEFONIA</td>\n",
       "      <td>2008-12-01T00:00:00</td>\n",
       "      <td>477.64</td>\n",
       "    </tr>\n",
       "    <tr>\n",
       "      <th>4666969</th>\n",
       "      <td>PB</td>\n",
       "      <td>PMDB</td>\n",
       "      <td>TELEFONIA</td>\n",
       "      <td>2008-03-10T00:00:00</td>\n",
       "      <td>44.18</td>\n",
       "    </tr>\n",
       "    <tr>\n",
       "      <th>4666970</th>\n",
       "      <td>PB</td>\n",
       "      <td>PMDB</td>\n",
       "      <td>TELEFONIA</td>\n",
       "      <td>2008-12-01T00:00:00</td>\n",
       "      <td>749.87</td>\n",
       "    </tr>\n",
       "    <tr>\n",
       "      <th>4666971</th>\n",
       "      <td>ES</td>\n",
       "      <td>PMDB</td>\n",
       "      <td>TELEFONIA</td>\n",
       "      <td>2008-12-01T00:00:00</td>\n",
       "      <td>349.22</td>\n",
       "    </tr>\n",
       "    <tr>\n",
       "      <th>4666972</th>\n",
       "      <td>RS</td>\n",
       "      <td>PP**</td>\n",
       "      <td>TELEFONIA</td>\n",
       "      <td>2008-12-01T00:00:00</td>\n",
       "      <td>306.34</td>\n",
       "    </tr>\n",
       "    <tr>\n",
       "      <th>4666973</th>\n",
       "      <td>BA</td>\n",
       "      <td>PV</td>\n",
       "      <td>TELEFONIA</td>\n",
       "      <td>2008-12-01T00:00:00</td>\n",
       "      <td>196.92</td>\n",
       "    </tr>\n",
       "    <tr>\n",
       "      <th>4666974</th>\n",
       "      <td>GO</td>\n",
       "      <td>PR</td>\n",
       "      <td>TELEFONIA</td>\n",
       "      <td>2008-12-01T00:00:00</td>\n",
       "      <td>95.62</td>\n",
       "    </tr>\n",
       "    <tr>\n",
       "      <th>4666975</th>\n",
       "      <td>PR</td>\n",
       "      <td>PMDB</td>\n",
       "      <td>TELEFONIA</td>\n",
       "      <td>2008-12-01T00:00:00</td>\n",
       "      <td>81.53</td>\n",
       "    </tr>\n",
       "    <tr>\n",
       "      <th>4666976</th>\n",
       "      <td>PB</td>\n",
       "      <td>DEM</td>\n",
       "      <td>AQUISIÇÃO OU LOC. DE SOFTWARE; SERV. POSTAIS; ...</td>\n",
       "      <td>2008-12-23T00:00:00</td>\n",
       "      <td>51.10</td>\n",
       "    </tr>\n",
       "    <tr>\n",
       "      <th>4666977</th>\n",
       "      <td>DF</td>\n",
       "      <td>PR</td>\n",
       "      <td>COMBUSTÍVEIS E LUBRIFICANTES.</td>\n",
       "      <td>2008-10-05T00:00:00</td>\n",
       "      <td>22.40</td>\n",
       "    </tr>\n",
       "  </tbody>\n",
       "</table>\n",
       "</div>"
      ],
      "text/plain": [
       "        sgUF sgPartido                                       txtDescricao  \\\n",
       "4666968   SP     PTdoB                                          TELEFONIA   \n",
       "4666969   PB      PMDB                                          TELEFONIA   \n",
       "4666970   PB      PMDB                                          TELEFONIA   \n",
       "4666971   ES      PMDB                                          TELEFONIA   \n",
       "4666972   RS      PP**                                          TELEFONIA   \n",
       "4666973   BA        PV                                          TELEFONIA   \n",
       "4666974   GO        PR                                          TELEFONIA   \n",
       "4666975   PR      PMDB                                          TELEFONIA   \n",
       "4666976   PB       DEM  AQUISIÇÃO OU LOC. DE SOFTWARE; SERV. POSTAIS; ...   \n",
       "4666977   DF        PR                      COMBUSTÍVEIS E LUBRIFICANTES.   \n",
       "\n",
       "                  datEmissao  vlrLiquido  \n",
       "4666968  2008-12-01T00:00:00      477.64  \n",
       "4666969  2008-03-10T00:00:00       44.18  \n",
       "4666970  2008-12-01T00:00:00      749.87  \n",
       "4666971  2008-12-01T00:00:00      349.22  \n",
       "4666972  2008-12-01T00:00:00      306.34  \n",
       "4666973  2008-12-01T00:00:00      196.92  \n",
       "4666974  2008-12-01T00:00:00       95.62  \n",
       "4666975  2008-12-01T00:00:00       81.53  \n",
       "4666976  2008-12-23T00:00:00       51.10  \n",
       "4666977  2008-10-05T00:00:00       22.40  "
      ]
     },
     "execution_count": 16,
     "metadata": {},
     "output_type": "execute_result"
    }
   ],
   "source": [
    "dataset.tail(10)"
   ]
  },
  {
   "cell_type": "code",
   "execution_count": 17,
   "id": "fec42174",
   "metadata": {},
   "outputs": [
    {
     "data": {
      "text/plain": [
       "(4666978, 5)"
      ]
     },
     "execution_count": 17,
     "metadata": {},
     "output_type": "execute_result"
    }
   ],
   "source": [
    "dataset.shape"
   ]
  },
  {
   "cell_type": "code",
   "execution_count": 18,
   "id": "7f0782a9",
   "metadata": {},
   "outputs": [
    {
     "data": {
      "text/plain": [
       "count    4.666978e+06\n",
       "mean     6.294329e+02\n",
       "std      2.126989e+03\n",
       "min     -2.097470e+04\n",
       "25%      4.500000e+01\n",
       "50%      1.444000e+02\n",
       "75%      4.900000e+02\n",
       "max      2.150000e+05\n",
       "Name: vlrLiquido, dtype: float64"
      ]
     },
     "execution_count": 18,
     "metadata": {},
     "output_type": "execute_result"
    }
   ],
   "source": [
    "dataset['vlrLiquido'].describe()"
   ]
  },
  {
   "cell_type": "code",
   "execution_count": 19,
   "id": "2b72fa16",
   "metadata": {},
   "outputs": [
    {
     "data": {
      "text/html": [
       "<div>\n",
       "<style scoped>\n",
       "    .dataframe tbody tr th:only-of-type {\n",
       "        vertical-align: middle;\n",
       "    }\n",
       "\n",
       "    .dataframe tbody tr th {\n",
       "        vertical-align: top;\n",
       "    }\n",
       "\n",
       "    .dataframe thead th {\n",
       "        text-align: right;\n",
       "    }\n",
       "</style>\n",
       "<table border=\"1\" class=\"dataframe\">\n",
       "  <thead>\n",
       "    <tr style=\"text-align: right;\">\n",
       "      <th></th>\n",
       "      <th>sgUF</th>\n",
       "      <th>sgPartido</th>\n",
       "      <th>txtDescricao</th>\n",
       "    </tr>\n",
       "  </thead>\n",
       "  <tbody>\n",
       "    <tr>\n",
       "      <th>count</th>\n",
       "      <td>4658823</td>\n",
       "      <td>4658823</td>\n",
       "      <td>4666978</td>\n",
       "    </tr>\n",
       "    <tr>\n",
       "      <th>unique</th>\n",
       "      <td>27</td>\n",
       "      <td>43</td>\n",
       "      <td>24</td>\n",
       "    </tr>\n",
       "    <tr>\n",
       "      <th>top</th>\n",
       "      <td>SP</td>\n",
       "      <td>PT</td>\n",
       "      <td>PASSAGEM AÉREA - RPA</td>\n",
       "    </tr>\n",
       "    <tr>\n",
       "      <th>freq</th>\n",
       "      <td>727099</td>\n",
       "      <td>716036</td>\n",
       "      <td>1029936</td>\n",
       "    </tr>\n",
       "  </tbody>\n",
       "</table>\n",
       "</div>"
      ],
      "text/plain": [
       "           sgUF sgPartido          txtDescricao\n",
       "count   4658823   4658823               4666978\n",
       "unique       27        43                    24\n",
       "top          SP        PT  PASSAGEM AÉREA - RPA\n",
       "freq     727099    716036               1029936"
      ]
     },
     "execution_count": 19,
     "metadata": {},
     "output_type": "execute_result"
    }
   ],
   "source": [
    "dataset[['sgUF', 'sgPartido', 'txtDescricao']].describe()"
   ]
  },
  {
   "cell_type": "code",
   "execution_count": 20,
   "id": "2d374d2c",
   "metadata": {},
   "outputs": [
    {
     "name": "stdout",
     "output_type": "stream",
     "text": [
      "<class 'pandas.core.frame.DataFrame'>\n",
      "RangeIndex: 4666978 entries, 0 to 4666977\n",
      "Data columns (total 5 columns):\n",
      " #   Column        Dtype  \n",
      "---  ------        -----  \n",
      " 0   sgUF          object \n",
      " 1   sgPartido     object \n",
      " 2   txtDescricao  object \n",
      " 3   datEmissao    object \n",
      " 4   vlrLiquido    float64\n",
      "dtypes: float64(1), object(4)\n",
      "memory usage: 178.0+ MB\n"
     ]
    }
   ],
   "source": [
    "dataset.info()"
   ]
  },
  {
   "attachments": {},
   "cell_type": "markdown",
   "id": "868e7e08",
   "metadata": {},
   "source": [
    "Alterar tipos de dados"
   ]
  },
  {
   "cell_type": "code",
   "execution_count": 21,
   "id": "cbb9515e",
   "metadata": {},
   "outputs": [],
   "source": [
    "dataset['datEmissao'] = pd.to_datetime(dataset['datEmissao'], errors='coerce')"
   ]
  },
  {
   "attachments": {},
   "cell_type": "markdown",
   "id": "0834d6d5",
   "metadata": {},
   "source": [
    "Limpeza de dados"
   ]
  },
  {
   "cell_type": "code",
   "execution_count": 22,
   "id": "4dcca07e",
   "metadata": {},
   "outputs": [],
   "source": [
    "#Remover duplicatas\n",
    "dataset = dataset.drop_duplicates(keep=\"first\")"
   ]
  },
  {
   "cell_type": "code",
   "execution_count": 23,
   "id": "00703db6",
   "metadata": {},
   "outputs": [],
   "source": [
    "#Remover valores\n",
    "#dataset = dataset.loc[dataset['coluna'] == 'valor']"
   ]
  },
  {
   "cell_type": "code",
   "execution_count": 24,
   "id": "cfe393b4",
   "metadata": {},
   "outputs": [],
   "source": [
    "#Remover colunas desnecessárias\n",
    "#dataset = dataset.drop(columns=['coluna1', 'coluna2'])"
   ]
  },
  {
   "attachments": {},
   "cell_type": "markdown",
   "id": "69a6ded2",
   "metadata": {},
   "source": [
    "Dados faltantes"
   ]
  },
  {
   "cell_type": "code",
   "execution_count": 25,
   "id": "8d86b933",
   "metadata": {},
   "outputs": [],
   "source": [
    "#Deletar linhas com dados faltantes\n",
    "dataset = dataset.dropna()"
   ]
  },
  {
   "cell_type": "code",
   "execution_count": 26,
   "id": "7f3e69fb",
   "metadata": {},
   "outputs": [
    {
     "data": {
      "text/plain": [
       "\" imputer = SimpleImputer(minssing_valeues = np.nan, strategy='mean')\\nimputer.fit(dataset[:,:])\\nimputer.transform(dataset[:, :]) \""
      ]
     },
     "execution_count": 26,
     "metadata": {},
     "output_type": "execute_result"
    }
   ],
   "source": [
    "#Imputar valores\n",
    "\"\"\" imputer = SimpleImputer(minssing_valeues = np.nan, strategy='mean')\n",
    "imputer.fit(dataset[:,:])\n",
    "imputer.transform(dataset[:, :]) \"\"\""
   ]
  },
  {
   "cell_type": "code",
   "execution_count": 27,
   "id": "00d752e3",
   "metadata": {},
   "outputs": [],
   "source": [
    "#Substituir valores\n",
    "# dataset.replace(old_value, new_value, inplace=True)"
   ]
  },
  {
   "attachments": {},
   "cell_type": "markdown",
   "id": "72b56a62",
   "metadata": {},
   "source": [
    "Selecionar Foco do estudo"
   ]
  },
  {
   "cell_type": "code",
   "execution_count": 31,
   "id": "1a4ab474",
   "metadata": {},
   "outputs": [
    {
     "data": {
      "text/html": [
       "<div>\n",
       "<style scoped>\n",
       "    .dataframe tbody tr th:only-of-type {\n",
       "        vertical-align: middle;\n",
       "    }\n",
       "\n",
       "    .dataframe tbody tr th {\n",
       "        vertical-align: top;\n",
       "    }\n",
       "\n",
       "    .dataframe thead th {\n",
       "        text-align: right;\n",
       "    }\n",
       "</style>\n",
       "<table border=\"1\" class=\"dataframe\">\n",
       "  <thead>\n",
       "    <tr style=\"text-align: right;\">\n",
       "      <th></th>\n",
       "      <th>sgUF</th>\n",
       "      <th>sgPartido</th>\n",
       "      <th>txtDescricao</th>\n",
       "    </tr>\n",
       "  </thead>\n",
       "  <tbody>\n",
       "    <tr>\n",
       "      <th>count</th>\n",
       "      <td>4134043</td>\n",
       "      <td>4134043</td>\n",
       "      <td>4134043</td>\n",
       "    </tr>\n",
       "    <tr>\n",
       "      <th>unique</th>\n",
       "      <td>27</td>\n",
       "      <td>43</td>\n",
       "      <td>24</td>\n",
       "    </tr>\n",
       "    <tr>\n",
       "      <th>top</th>\n",
       "      <td>SP</td>\n",
       "      <td>PT</td>\n",
       "      <td>COMBUSTÍVEIS E LUBRIFICANTES.</td>\n",
       "    </tr>\n",
       "    <tr>\n",
       "      <th>freq</th>\n",
       "      <td>635136</td>\n",
       "      <td>635999</td>\n",
       "      <td>960156</td>\n",
       "    </tr>\n",
       "  </tbody>\n",
       "</table>\n",
       "</div>"
      ],
      "text/plain": [
       "           sgUF sgPartido                   txtDescricao\n",
       "count   4134043   4134043                        4134043\n",
       "unique       27        43                             24\n",
       "top          SP        PT  COMBUSTÍVEIS E LUBRIFICANTES.\n",
       "freq     635136    635999                         960156"
      ]
     },
     "execution_count": 31,
     "metadata": {},
     "output_type": "execute_result"
    }
   ],
   "source": [
    "dataset[['sgUF', 'sgPartido', 'txtDescricao']].describe()"
   ]
  },
  {
   "cell_type": "code",
   "execution_count": 32,
   "id": "4dce82b0",
   "metadata": {},
   "outputs": [],
   "source": [
    "dataset = dataset[dataset['txtDescricao'] == 'COMBUSTÍVEIS E LUBRIFICANTES.']"
   ]
  },
  {
   "cell_type": "code",
   "execution_count": 33,
   "id": "d0ea970e",
   "metadata": {},
   "outputs": [
    {
     "data": {
      "text/plain": [
       "Index(['sgUF', 'sgPartido', 'txtDescricao', 'datEmissao', 'vlrLiquido'], dtype='object')"
      ]
     },
     "execution_count": 33,
     "metadata": {},
     "output_type": "execute_result"
    }
   ],
   "source": [
    "dataset.columns"
   ]
  },
  {
   "cell_type": "markdown",
   "id": "3b936b79",
   "metadata": {},
   "source": [
    "#### Verificando o tipo de distribuição\n"
   ]
  },
  {
   "cell_type": "code",
   "execution_count": 34,
   "id": "e2724811",
   "metadata": {},
   "outputs": [
    {
     "name": "stdout",
     "output_type": "stream",
     "text": [
      "Os dados seguem uma distribuição normal (hipótese nula não pode ser rejeitada)\n"
     ]
    }
   ],
   "source": [
    "#Testando para distribuição normal\n",
    "coluna_vlrLiquido = dataset['vlrLiquido']\n",
    "\n",
    "coluna_vlrLiquido = np.random.normal(loc=0, scale=1, size=1000)\n",
    "\n",
    "#Realiza teste de kolmogorov-Smirnov\n",
    "statistic, p_value = kstest(coluna_vlrLiquido, 'norm')\n",
    "\n",
    "# Compara o p-valor com nível de significância\n",
    "alpha = 0.05\n",
    "\n",
    "if p_value > alpha:\n",
    "    print(\"Os dados seguem uma distribuição normal (hipótese nula não pode ser rejeitada)\")\n",
    "else:\n",
    "    print(\"Os dados não seguem uma distribuição normal (hipótese nula rejeitada)\")\n",
    "\n",
    "\n"
   ]
  },
  {
   "attachments": {},
   "cell_type": "markdown",
   "id": "09c2b56c",
   "metadata": {},
   "source": [
    "Medidas de tendência central"
   ]
  },
  {
   "cell_type": "code",
   "execution_count": 35,
   "id": "9ad56373",
   "metadata": {},
   "outputs": [
    {
     "data": {
      "text/plain": [
       "254.9959250476794"
      ]
     },
     "execution_count": 35,
     "metadata": {},
     "output_type": "execute_result"
    }
   ],
   "source": [
    "# Média geral\n",
    "dataset['vlrLiquido'].mean()\n"
   ]
  },
  {
   "cell_type": "code",
   "execution_count": 36,
   "id": "3a674a10",
   "metadata": {},
   "outputs": [
    {
     "name": "stdout",
     "output_type": "stream",
     "text": [
      "sgUF\n",
      "AC    852.312785\n",
      "RR    768.186409\n",
      "SE    532.802181\n",
      "PI    485.339527\n",
      "TO    451.731652\n",
      "ES    391.664529\n",
      "CE    360.001143\n",
      "GO    338.433462\n",
      "AP    334.053753\n",
      "MA    333.913228\n",
      "PB    329.536107\n",
      "PA    321.654468\n",
      "MS    307.401728\n",
      "RO    282.974299\n",
      "AL    275.400148\n",
      "PE    268.388425\n",
      "AM    259.688143\n",
      "MG    250.005676\n",
      "BA    239.557081\n",
      "RN    235.584889\n",
      "MT    229.772118\n",
      "PR    229.259591\n",
      "RJ    206.826431\n",
      "DF    197.584708\n",
      "SP    194.698248\n",
      "SC    189.389675\n",
      "RS    170.728054\n",
      "Name: vlrLiquido, dtype: float64\n"
     ]
    }
   ],
   "source": [
    "# Média por estado\n",
    "media_por_estado = dataset.groupby('sgUF')['vlrLiquido'].mean()\n",
    "\n",
    "media_por_estado_ord = media_por_estado.sort_values(ascending=False)\n",
    "\n",
    "print(media_por_estado_ord)\n"
   ]
  },
  {
   "cell_type": "code",
   "execution_count": 37,
   "id": "059bf635",
   "metadata": {},
   "outputs": [
    {
     "name": "stdout",
     "output_type": "stream",
     "text": [
      "sgPartido\n",
      "PSDC             1207.098750\n",
      "PTC               510.253811\n",
      "PRD               404.008576\n",
      "PATRIOTA          402.851081\n",
      "PROS              320.489950\n",
      "PTB               319.168633\n",
      "SOLIDARIEDADE     313.222975\n",
      "PP                298.173202\n",
      "PHS               295.149717\n",
      "UNIÃO             294.628145\n",
      "PRP               292.906014\n",
      "PRB               291.581838\n",
      "AVANTE            287.819347\n",
      "PSD               282.517475\n",
      "MDB               279.495335\n",
      "PL                269.827488\n",
      "REPUBLICANOS      268.478388\n",
      "PMN               267.460800\n",
      "PODE              266.945031\n",
      "PMDB              263.635812\n",
      "PDT               261.607873\n",
      "DEM               261.165322\n",
      "PCdoB             255.897234\n",
      "PR                249.938859\n",
      "PSC               249.711450\n",
      "S.PART.           245.437068\n",
      "PSDB              236.255129\n",
      "PT                231.463364\n",
      "REDE              223.080929\n",
      "PSB               219.765493\n",
      "PP**              218.378231\n",
      "PSL               205.585560\n",
      "PTdoB             204.923361\n",
      "PV                204.102841\n",
      "SDD               200.503057\n",
      "PSOL              195.810878\n",
      "PATRI             187.615964\n",
      "CIDADANIA         180.300654\n",
      "NOVO              180.055686\n",
      "PEN               169.772178\n",
      "PPL               159.508625\n",
      "PPS               154.424239\n",
      "PRTB              134.037927\n",
      "Name: vlrLiquido, dtype: float64\n"
     ]
    }
   ],
   "source": [
    "# Média por partido\n",
    "media_por_partido = dataset.groupby('sgPartido')['vlrLiquido'].mean()\n",
    "\n",
    "media_por_partido_ord = media_por_partido.sort_values(ascending=False)\n",
    "\n",
    "print(media_por_partido_ord)"
   ]
  },
  {
   "cell_type": "code",
   "execution_count": 38,
   "id": "a24066c0",
   "metadata": {},
   "outputs": [
    {
     "name": "stdout",
     "output_type": "stream",
     "text": [
      "664.8210339748912\n"
     ]
    }
   ],
   "source": [
    "#Média do vlrLiquido por partido_por_palamentar\n",
    "\n",
    "media_por_partido_por_palamentar = vlrLiquido_por_parlamentar_por_pat.mean()\n",
    "\n",
    "\n",
    "print(media_por_partido_por_palamentar)\n"
   ]
  },
  {
   "cell_type": "code",
   "execution_count": 39,
   "id": "8512f0d7",
   "metadata": {},
   "outputs": [
    {
     "data": {
      "text/plain": [
       "0    100.0\n",
       "dtype: float64"
      ]
     },
     "execution_count": 39,
     "metadata": {},
     "output_type": "execute_result"
    }
   ],
   "source": [
    "# Moda geral\n",
    "dataset['vlrLiquido'].mode()"
   ]
  },
  {
   "cell_type": "code",
   "execution_count": 40,
   "id": "8b97076e",
   "metadata": {},
   "outputs": [
    {
     "name": "stdout",
     "output_type": "stream",
     "text": [
      "sgUF\n",
      "AC    100.0\n",
      "PB    100.0\n",
      "SP    100.0\n",
      "SE    100.0\n",
      "SC    100.0\n",
      "RS    100.0\n",
      "RR    100.0\n",
      "RO    100.0\n",
      "RN    100.0\n",
      "RJ    100.0\n",
      "PR    100.0\n",
      "PI    100.0\n",
      "PE    100.0\n",
      "PA    100.0\n",
      "AL    100.0\n",
      "MT    100.0\n",
      "MS    100.0\n",
      "MG    100.0\n",
      "MA    100.0\n",
      "GO    100.0\n",
      "ES    100.0\n",
      "DF    100.0\n",
      "CE    100.0\n",
      "BA    100.0\n",
      "AM    100.0\n",
      "TO    100.0\n",
      "AP     50.0\n",
      "Name: vlrLiquido, dtype: float64\n"
     ]
    }
   ],
   "source": [
    "# Moda por estado\n",
    "\n",
    "moda_por_estado = dataset.groupby('sgUF')['vlrLiquido'].apply(lambda x: x.mode().iloc[0])\n",
    "\n",
    "moda_por_estado_ord = moda_por_estado.sort_values(ascending=False)\n",
    "\n",
    "print(moda_por_estado_ord)"
   ]
  },
  {
   "cell_type": "code",
   "execution_count": 41,
   "id": "06d62520",
   "metadata": {},
   "outputs": [
    {
     "name": "stdout",
     "output_type": "stream",
     "text": [
      "sgPartido\n",
      "PRD              200.00\n",
      "PSDC             137.07\n",
      "SOLIDARIEDADE    100.00\n",
      "PSD              100.00\n",
      "CIDADANIA        100.00\n",
      "PROS             100.00\n",
      "PRP              100.00\n",
      "PRTB             100.00\n",
      "PSB              100.00\n",
      "PSC              100.00\n",
      "PSDB             100.00\n",
      "REPUBLICANOS     100.00\n",
      "PR               100.00\n",
      "PSL              100.00\n",
      "PSOL             100.00\n",
      "PT               100.00\n",
      "PTB              100.00\n",
      "REDE             100.00\n",
      "PRB              100.00\n",
      "AVANTE           100.00\n",
      "PCdoB            100.00\n",
      "PEN              100.00\n",
      "DEM              100.00\n",
      "MDB              100.00\n",
      "NOVO             100.00\n",
      "PATRI            100.00\n",
      "PATRIOTA         100.00\n",
      "PPL              100.00\n",
      "PDT              100.00\n",
      "UNIÃO            100.00\n",
      "PHS              100.00\n",
      "PL               100.00\n",
      "PMDB             100.00\n",
      "PMN              100.00\n",
      "PODE             100.00\n",
      "PP               100.00\n",
      "PP**             100.00\n",
      "PTC               50.00\n",
      "PTdoB             50.00\n",
      "PV                50.00\n",
      "S.PART.           50.00\n",
      "SDD               50.00\n",
      "PPS               50.00\n",
      "Name: vlrLiquido, dtype: float64\n"
     ]
    }
   ],
   "source": [
    "# Moda por partido\n",
    "\n",
    "moda_por_partido= dataset.groupby('sgPartido')['vlrLiquido'].apply(lambda x: x.mode().iloc[0])\n",
    "\n",
    "moda_por_partido_ord = moda_por_partido.sort_values(ascending=False)\n",
    "\n",
    "print(moda_por_partido_ord)\n"
   ]
  },
  {
   "cell_type": "code",
   "execution_count": 42,
   "id": "ab7e1581",
   "metadata": {},
   "outputs": [
    {
     "name": "stdout",
     "output_type": "stream",
     "text": [
      "0      368.056610\n",
      "1      371.653594\n",
      "2      383.715976\n",
      "3      437.154794\n",
      "4      441.944646\n",
      "5      473.013096\n",
      "6      484.621248\n",
      "7      488.770218\n",
      "8      497.485485\n",
      "9      522.291322\n",
      "10     530.035763\n",
      "11     537.229647\n",
      "12     548.094135\n",
      "13     554.948052\n",
      "14     556.707391\n",
      "15     557.572896\n",
      "16     558.446304\n",
      "17     609.312042\n",
      "18     610.373287\n",
      "19     613.920748\n",
      "20     624.800261\n",
      "21     625.335075\n",
      "22     635.256201\n",
      "23     669.346926\n",
      "24     673.575451\n",
      "25     677.024921\n",
      "26     687.444694\n",
      "27     704.157774\n",
      "28     720.698912\n",
      "29     721.232749\n",
      "30     747.671524\n",
      "31     750.627899\n",
      "32     750.932167\n",
      "33     751.946128\n",
      "34     763.230349\n",
      "35     840.253134\n",
      "36     909.096826\n",
      "37     947.147466\n",
      "38     962.926036\n",
      "39    1025.809478\n",
      "40    1039.502531\n",
      "41    1083.767993\n",
      "42    1130.172712\n",
      "dtype: float64\n"
     ]
    }
   ],
   "source": [
    "#Moda do vlrLiquido por partido_por_palamentar\n",
    "\n",
    "moda_por_partido_por_palamentar = vlrLiquido_por_parlamentar_por_pat.mode()\n",
    "\n",
    "\n",
    "print(moda_por_partido_por_palamentar)"
   ]
  },
  {
   "cell_type": "code",
   "execution_count": 43,
   "id": "a9da2cfb",
   "metadata": {},
   "outputs": [
    {
     "data": {
      "text/plain": [
       "130.0"
      ]
     },
     "execution_count": 43,
     "metadata": {},
     "output_type": "execute_result"
    }
   ],
   "source": [
    "# Mediana geral\n",
    "dataset['vlrLiquido'].median()"
   ]
  },
  {
   "cell_type": "code",
   "execution_count": 44,
   "metadata": {},
   "outputs": [
    {
     "name": "stdout",
     "output_type": "stream",
     "text": [
      "sgUF\n",
      "AC    191.600\n",
      "TO    181.020\n",
      "RR    171.680\n",
      "SE    168.145\n",
      "RO    151.360\n",
      "PI    150.000\n",
      "ES    148.715\n",
      "CE    148.020\n",
      "PB    145.000\n",
      "DF    143.200\n",
      "AL    140.050\n",
      "MG    139.690\n",
      "GO    138.000\n",
      "MT    137.425\n",
      "PR    135.080\n",
      "MS    134.010\n",
      "PE    133.600\n",
      "RS    132.020\n",
      "RJ    130.000\n",
      "SC    129.000\n",
      "MA    125.000\n",
      "BA    120.010\n",
      "RN    120.000\n",
      "SP    109.010\n",
      "AM    100.050\n",
      "AP    100.000\n",
      "PA    100.000\n",
      "Name: vlrLiquido, dtype: float64\n"
     ]
    }
   ],
   "source": [
    "# Mediana por estado\n",
    "mediana_por_estado = dataset.groupby('sgUF')['vlrLiquido'].median()\n",
    "\n",
    "mediana_por_estado_ord = mediana_por_estado.sort_values(ascending=False)\n",
    "\n",
    "print(mediana_por_estado_ord)"
   ]
  },
  {
   "cell_type": "code",
   "execution_count": 45,
   "id": "652d4570",
   "metadata": {},
   "outputs": [
    {
     "name": "stdout",
     "output_type": "stream",
     "text": [
      "sgPartido\n",
      "PRD              229.480\n",
      "PATRIOTA         226.310\n",
      "UNIÃO            200.580\n",
      "PL               200.000\n",
      "REPUBLICANOS     200.000\n",
      "PP               175.380\n",
      "MDB              172.150\n",
      "AVANTE           170.635\n",
      "NOVO             165.225\n",
      "CIDADANIA        161.205\n",
      "SOLIDARIEDADE    154.585\n",
      "S.PART.          152.040\n",
      "PEN              150.705\n",
      "PHS              150.000\n",
      "REDE             150.000\n",
      "PODE             150.000\n",
      "PSD              150.000\n",
      "PSDC             147.485\n",
      "PSL              145.050\n",
      "PDT              138.000\n",
      "PPL              135.900\n",
      "PROS             130.620\n",
      "PRB              130.000\n",
      "PRP              125.075\n",
      "PTB              120.050\n",
      "PSOL             120.000\n",
      "PSB              120.000\n",
      "PT               116.000\n",
      "PR               114.480\n",
      "PCdoB            114.240\n",
      "PSC              110.950\n",
      "PSDB             110.570\n",
      "DEM              110.000\n",
      "PP**             103.300\n",
      "PRTB             100.015\n",
      "PMDB             100.010\n",
      "PPS              100.000\n",
      "PV               100.000\n",
      "PMN              100.000\n",
      "PATRI            100.000\n",
      "SDD              100.000\n",
      "PTC               74.010\n",
      "PTdoB             70.000\n",
      "Name: vlrLiquido, dtype: float64\n"
     ]
    }
   ],
   "source": [
    "# Mediana por partido\n",
    "mediana_por_partido = dataset.groupby('sgPartido')['vlrLiquido'].median()\n",
    "\n",
    "mediana_por_partido_ord = mediana_por_partido.sort_values(ascending = False)\n",
    "\n",
    "print(mediana_por_partido_ord)"
   ]
  },
  {
   "cell_type": "code",
   "execution_count": 47,
   "id": "38c51e32",
   "metadata": {},
   "outputs": [
    {
     "name": "stdout",
     "output_type": "stream",
     "text": [
      "<bound method NDFrame._add_numeric_operations.<locals>.median of sgPartido\n",
      "AVANTE            763.230349\n",
      "CIDADANIA         721.232749\n",
      "DEM               557.572896\n",
      "MDB               750.932167\n",
      "NOVO              383.715976\n",
      "PATRI             554.948052\n",
      "PATRIOTA         1083.767993\n",
      "PCdoB             610.373287\n",
      "PDT               669.346926\n",
      "PEN               371.653594\n",
      "PHS               720.698912\n",
      "PL                947.147466\n",
      "PMDB              484.621248\n",
      "PMN               609.312042\n",
      "PODE              687.444694\n",
      "PP                751.946128\n",
      "PP**              441.944646\n",
      "PPL               840.253134\n",
      "PPS               437.154794\n",
      "PR                537.229647\n",
      "PRB               747.671524\n",
      "PRD              1039.502531\n",
      "PROS              677.024921\n",
      "PRP               962.926036\n",
      "PRTB              625.335075\n",
      "PSB               556.707391\n",
      "PSC               613.920748\n",
      "PSD               704.157774\n",
      "PSDB              522.291322\n",
      "PSDC              530.035763\n",
      "PSL               624.800261\n",
      "PSOL              635.256201\n",
      "PT                548.094135\n",
      "PTB               673.575451\n",
      "PTC               473.013096\n",
      "PTdoB             497.485485\n",
      "PV                488.770218\n",
      "REDE              750.627899\n",
      "REPUBLICANOS     1130.172712\n",
      "S.PART.           368.056610\n",
      "SDD               558.446304\n",
      "SOLIDARIEDADE     909.096826\n",
      "UNIÃO            1025.809478\n",
      "dtype: float64>\n"
     ]
    }
   ],
   "source": [
    "#Mediana do vlrLiquido por partido_por_palamentar\n",
    "\n",
    "mediana_por_partido_por_palamentar = vlrLiquido_por_parlamentar_por_pat.median\n",
    "\n",
    "\n",
    "print(mediana_por_partido_por_palamentar)"
   ]
  },
  {
   "attachments": {},
   "cell_type": "markdown",
   "id": "b06fbd69",
   "metadata": {},
   "source": [
    "Medidas de dispersão"
   ]
  },
  {
   "cell_type": "code",
   "execution_count": 48,
   "id": "3833fab1",
   "metadata": {},
   "outputs": [
    {
     "data": {
      "text/plain": [
       "15792.4"
      ]
     },
     "execution_count": 48,
     "metadata": {},
     "output_type": "execute_result"
    }
   ],
   "source": [
    "# Amlitude total geral\n",
    "dataset['vlrLiquido'].max() - dataset['vlrLiquido'].min()"
   ]
  },
  {
   "cell_type": "code",
   "execution_count": 49,
   "id": "0e6e395c",
   "metadata": {},
   "outputs": [
    {
     "name": "stdout",
     "output_type": "stream",
     "text": [
      "sgUF\n",
      "MG    13013.50\n",
      "RS    10181.76\n",
      "GO     9392.00\n",
      "SE     9392.00\n",
      "BA     9392.00\n",
      "TO     9391.71\n",
      "RR     9389.02\n",
      "PA     9300.00\n",
      "SP     9117.10\n",
      "MA     8999.00\n",
      "RJ     8974.57\n",
      "PE     8395.53\n",
      "AC     8310.22\n",
      "PB     8300.00\n",
      "RO     8176.53\n",
      "CE     7800.00\n",
      "PR     7762.66\n",
      "MS     7756.71\n",
      "PI     7495.11\n",
      "MT     7050.00\n",
      "SC     6044.97\n",
      "AL     6000.00\n",
      "RN     6000.00\n",
      "AP     6000.00\n",
      "ES     6000.00\n",
      "AM     5912.65\n",
      "DF     4500.00\n",
      "Name: vlrLiquido, dtype: float64\n"
     ]
    }
   ],
   "source": [
    "# Amlitude total por estado\n",
    "amplitude_por_estado = dataset.groupby('sgUF')['vlrLiquido'].max() - dataset.groupby('sgUF')['vlrLiquido'].min()\n",
    "\n",
    "amplitude_por_estado_ord = amplitude_por_estado.sort_values(ascending = False)\n",
    "\n",
    "print(amplitude_por_estado_ord)"
   ]
  },
  {
   "cell_type": "code",
   "execution_count": 50,
   "id": "f04755b5",
   "metadata": {},
   "outputs": [
    {
     "name": "stdout",
     "output_type": "stream",
     "text": [
      "sgPartido\n",
      "PSC              13013.50\n",
      "PT               11154.66\n",
      "UNIÃO             9392.00\n",
      "PP                9392.00\n",
      "REPUBLICANOS      9392.00\n",
      "PSDB              9392.00\n",
      "MDB               9300.00\n",
      "PL                9117.10\n",
      "PRP               8990.00\n",
      "PTB               8778.90\n",
      "PSB               8395.53\n",
      "PSD               7498.29\n",
      "PCdoB             6291.18\n",
      "PROS              6000.00\n",
      "PODE              6000.00\n",
      "SOLIDARIEDADE     6000.00\n",
      "DEM               6000.00\n",
      "PR                6000.00\n",
      "PRB               5999.77\n",
      "PPS               5999.64\n",
      "PDT               5999.25\n",
      "PSOL              5998.80\n",
      "AVANTE            5997.72\n",
      "PRD               5985.34\n",
      "PATRIOTA          5980.00\n",
      "PV                5530.98\n",
      "REDE              5459.00\n",
      "PSL               4994.66\n",
      "PHS               4985.03\n",
      "PATRI             4586.26\n",
      "PMDB              4500.00\n",
      "PP**              4500.00\n",
      "SDD               4496.66\n",
      "PMN               4496.00\n",
      "PTC               4495.00\n",
      "PTdoB             4495.00\n",
      "PSDC              4242.84\n",
      "S.PART.           3913.85\n",
      "CIDADANIA         2976.52\n",
      "PPL               2700.00\n",
      "PEN                917.88\n",
      "NOVO               441.63\n",
      "PRTB               289.69\n",
      "Name: vlrLiquido, dtype: float64\n"
     ]
    }
   ],
   "source": [
    "\n",
    "# Amlitude total por partido\n",
    "amplitude_por_partido = dataset.groupby('sgPartido')['vlrLiquido'].max() - dataset.groupby('sgPartido')['vlrLiquido'].min()\n",
    "\n",
    "amplitude_por_partido_ord = amplitude_por_partido.sort_values(ascending = False)\n",
    "\n",
    "print(amplitude_por_partido_ord)"
   ]
  },
  {
   "cell_type": "code",
   "execution_count": 51,
   "id": "d401903b",
   "metadata": {},
   "outputs": [
    {
     "data": {
      "text/plain": [
       "108.97"
      ]
     },
     "execution_count": 51,
     "metadata": {},
     "output_type": "execute_result"
    }
   ],
   "source": [
    "# Intervalo interquartílico geral\n",
    "Q1 = dataset['vlrLiquido'].quantile(0.25)\n",
    "Q3 = dataset['vlrLiquido'].quantile(0.75)\n",
    "IQ = Q3-Q1\n",
    "IQ"
   ]
  },
  {
   "cell_type": "code",
   "execution_count": 52,
   "id": "3cbe1682",
   "metadata": {},
   "outputs": [
    {
     "data": {
      "text/plain": [
       "sgUF\n",
       "AC    291.5200\n",
       "AL    100.0500\n",
       "AM    114.1000\n",
       "AP    141.5925\n",
       "BA    110.0100\n",
       "CE    112.8700\n",
       "DF    100.0000\n",
       "ES    117.1550\n",
       "GO    112.7100\n",
       "MA    110.0000\n",
       "MG    100.0200\n",
       "MS    100.0800\n",
       "MT    105.5425\n",
       "PA    145.5250\n",
       "PB    119.4025\n",
       "PE    110.5350\n",
       "PI    120.0000\n",
       "PR     97.2800\n",
       "RJ    111.9600\n",
       "RN     85.8450\n",
       "RO    124.7000\n",
       "RR    200.0000\n",
       "RS     96.5100\n",
       "SC     82.5800\n",
       "SE    158.3575\n",
       "SP     92.0300\n",
       "TO    162.8350\n",
       "Name: vlrLiquido, dtype: float64"
      ]
     },
     "execution_count": 52,
     "metadata": {},
     "output_type": "execute_result"
    }
   ],
   "source": [
    "\n",
    "# Intervalo interquartílico por estado\n",
    "Q1 = dataset.groupby('sgUF')['vlrLiquido'].quantile(0.25)\n",
    "Q3 = dataset.groupby('sgUF')['vlrLiquido'].quantile(0.75)\n",
    "IQ = Q3-Q1\n",
    "IQ"
   ]
  },
  {
   "cell_type": "code",
   "execution_count": 53,
   "id": "9af4691f",
   "metadata": {},
   "outputs": [
    {
     "data": {
      "text/plain": [
       "sgPartido\n",
       "AVANTE            141.9675\n",
       "CIDADANIA         106.8125\n",
       "DEM                92.5425\n",
       "MDB               122.5750\n",
       "NOVO              134.8775\n",
       "PATRI             107.3300\n",
       "PATRIOTA          143.3900\n",
       "PCdoB              86.0000\n",
       "PDT               105.3050\n",
       "PEN                46.7700\n",
       "PHS               100.0000\n",
       "PL                119.0600\n",
       "PMDB               75.7825\n",
       "PMN                81.3550\n",
       "PODE              106.9900\n",
       "PP                132.7400\n",
       "PP**               71.0100\n",
       "PPL                70.0000\n",
       "PPS                87.3850\n",
       "PR                 88.0300\n",
       "PRB                80.0325\n",
       "PRD               108.4800\n",
       "PROS               87.9175\n",
       "PRP                74.9825\n",
       "PRTB              101.0775\n",
       "PSB                99.2900\n",
       "PSC                98.9100\n",
       "PSD               115.0400\n",
       "PSDB               94.8750\n",
       "PSDC             1086.3700\n",
       "PSL                98.0850\n",
       "PSOL              105.4900\n",
       "PT                100.9450\n",
       "PTB                86.0000\n",
       "PTC                77.7900\n",
       "PTdoB              63.0050\n",
       "PV                103.7025\n",
       "REDE               93.9600\n",
       "REPUBLICANOS      123.4300\n",
       "S.PART.            55.4100\n",
       "SDD                85.0500\n",
       "SOLIDARIEDADE     113.2100\n",
       "UNIÃO             124.4650\n",
       "Name: vlrLiquido, dtype: float64"
      ]
     },
     "execution_count": 53,
     "metadata": {},
     "output_type": "execute_result"
    }
   ],
   "source": [
    "\n",
    "# Intervalo interquartílico por partido\n",
    "Q1 = dataset.groupby('sgPartido')['vlrLiquido'].quantile(0.25)\n",
    "Q3 = dataset.groupby('sgPartido')['vlrLiquido'].quantile(0.75)\n",
    "IQ = Q3-Q1\n",
    "IQ\n"
   ]
  },
  {
   "cell_type": "code",
   "execution_count": 54,
   "id": "58a77a8f",
   "metadata": {},
   "outputs": [
    {
     "data": {
      "text/plain": [
       "371236.3450503595"
      ]
     },
     "execution_count": 54,
     "metadata": {},
     "output_type": "execute_result"
    }
   ],
   "source": [
    "\n",
    "# Variância geral\n",
    "dataset['vlrLiquido'].var()"
   ]
  },
  {
   "cell_type": "code",
   "execution_count": 55,
   "id": "2e4578f8",
   "metadata": {},
   "outputs": [
    {
     "data": {
      "text/plain": [
       "sgUF\n",
       "AC    2.135228e+06\n",
       "AL    3.817678e+05\n",
       "AM    4.263628e+05\n",
       "AP    7.850996e+05\n",
       "BA    3.491430e+05\n",
       "CE    7.620121e+05\n",
       "DF    1.325980e+05\n",
       "ES    6.478597e+05\n",
       "GO    6.421385e+05\n",
       "MA    6.759942e+05\n",
       "MG    2.704256e+05\n",
       "MS    5.981249e+05\n",
       "MT    1.971716e+05\n",
       "PA    7.855247e+05\n",
       "PB    6.071320e+05\n",
       "PE    4.108367e+05\n",
       "PI    1.285411e+06\n",
       "PR    2.523025e+05\n",
       "RJ    2.212383e+05\n",
       "RN    3.023349e+05\n",
       "RO    3.941311e+05\n",
       "RR    2.142099e+06\n",
       "RS    7.916561e+04\n",
       "SC    1.379651e+05\n",
       "SE    1.243337e+06\n",
       "SP    1.804702e+05\n",
       "TO    8.714897e+05\n",
       "Name: vlrLiquido, dtype: float64"
      ]
     },
     "execution_count": 55,
     "metadata": {},
     "output_type": "execute_result"
    }
   ],
   "source": [
    "\n",
    "# Variância por estado\n",
    "dataset.groupby('sgUF')['vlrLiquido'].var()\n"
   ]
  },
  {
   "cell_type": "code",
   "execution_count": 56,
   "id": "be2e3981",
   "metadata": {},
   "outputs": [
    {
     "data": {
      "text/plain": [
       "sgPartido\n",
       "AVANTE           5.181560e+05\n",
       "CIDADANIA        1.564039e+04\n",
       "DEM              4.274458e+05\n",
       "MDB              3.635500e+05\n",
       "NOVO             7.355081e+03\n",
       "PATRI            2.341357e+05\n",
       "PATRIOTA         5.140721e+05\n",
       "PCdoB            4.454945e+05\n",
       "PDT              3.474629e+05\n",
       "PEN              1.426624e+04\n",
       "PHS              5.216464e+05\n",
       "PL               2.219938e+05\n",
       "PMDB             4.793429e+05\n",
       "PMN              6.085413e+05\n",
       "PODE             3.834411e+05\n",
       "PP               4.274603e+05\n",
       "PP**             3.357620e+05\n",
       "PPL              4.351057e+04\n",
       "PPS              1.656405e+05\n",
       "PR               4.166900e+05\n",
       "PRB              5.666724e+05\n",
       "PRD              4.562353e+05\n",
       "PROS             5.824083e+05\n",
       "PRP              9.586703e+05\n",
       "PRTB             5.018420e+03\n",
       "PSB              2.860873e+05\n",
       "PSC              4.194052e+05\n",
       "PSD              3.835726e+05\n",
       "PSDB             3.278653e+05\n",
       "PSDC             3.833023e+06\n",
       "PSL              1.292564e+05\n",
       "PSOL             9.515014e+04\n",
       "PT               3.480376e+05\n",
       "PTB              6.809577e+05\n",
       "PTC              1.497958e+06\n",
       "PTdoB            3.386338e+05\n",
       "PV               2.338065e+05\n",
       "REDE             2.391193e+05\n",
       "REPUBLICANOS     2.650322e+05\n",
       "S.PART.          2.171391e+05\n",
       "SDD              3.244105e+05\n",
       "SOLIDARIEDADE    5.675482e+05\n",
       "UNIÃO            3.169684e+05\n",
       "Name: vlrLiquido, dtype: float64"
      ]
     },
     "execution_count": 56,
     "metadata": {},
     "output_type": "execute_result"
    }
   ],
   "source": [
    "# Variância por partido\n",
    "dataset.groupby('sgPartido')['vlrLiquido'].var()"
   ]
  },
  {
   "cell_type": "code",
   "execution_count": 57,
   "id": "6affe119",
   "metadata": {},
   "outputs": [
    {
     "data": {
      "text/plain": [
       "609.2916748572554"
      ]
     },
     "execution_count": 57,
     "metadata": {},
     "output_type": "execute_result"
    }
   ],
   "source": [
    "\n",
    "# Desvio padrão geral\n",
    "dataset['vlrLiquido'].std()"
   ]
  },
  {
   "cell_type": "code",
   "execution_count": 58,
   "id": "90559fd4",
   "metadata": {},
   "outputs": [
    {
     "data": {
      "text/plain": [
       "sgUF\n",
       "AC    1461.242022\n",
       "AL     617.873619\n",
       "AM     652.964594\n",
       "AP     886.058439\n",
       "BA     590.883276\n",
       "CE     872.933046\n",
       "DF     364.140048\n",
       "ES     804.897311\n",
       "GO     801.335424\n",
       "MA     822.188685\n",
       "MG     520.024582\n",
       "MS     773.385368\n",
       "MT     444.040105\n",
       "PA     886.298333\n",
       "PB     779.186767\n",
       "PE     640.965429\n",
       "PI    1133.759499\n",
       "PR     502.297256\n",
       "RJ     470.359727\n",
       "RN     549.849917\n",
       "RO     627.798580\n",
       "RR    1463.591026\n",
       "RS     281.363843\n",
       "SC     371.436577\n",
       "SE    1115.050159\n",
       "SP     424.817880\n",
       "TO     933.536103\n",
       "Name: vlrLiquido, dtype: float64"
      ]
     },
     "execution_count": 58,
     "metadata": {},
     "output_type": "execute_result"
    }
   ],
   "source": [
    "# Desvio padrão por estado\n",
    "dataset.groupby('sgUF')['vlrLiquido'].std()"
   ]
  },
  {
   "cell_type": "code",
   "execution_count": 59,
   "id": "8afd71fe",
   "metadata": {},
   "outputs": [
    {
     "data": {
      "text/plain": [
       "sgPartido\n",
       "AVANTE            719.830522\n",
       "CIDADANIA         125.061563\n",
       "DEM               653.793368\n",
       "MDB               602.951043\n",
       "NOVO               85.761769\n",
       "PATRI             483.875748\n",
       "PATRIOTA          716.988199\n",
       "PCdoB             667.453719\n",
       "PDT               589.459800\n",
       "PEN               119.441350\n",
       "PHS               722.250892\n",
       "PL                471.162185\n",
       "PMDB              692.345972\n",
       "PMN               780.090542\n",
       "PODE              619.226185\n",
       "PP                653.804468\n",
       "PP**              579.449754\n",
       "PPL               208.591878\n",
       "PPS               406.989500\n",
       "PR                645.515322\n",
       "PRB               752.776493\n",
       "PRD               675.451946\n",
       "PROS              763.156815\n",
       "PRP               979.117127\n",
       "PRTB               70.840807\n",
       "PSB               534.871330\n",
       "PSC               647.615016\n",
       "PSD               619.332378\n",
       "PSDB              572.595200\n",
       "PSDC             1957.810671\n",
       "PSL               359.522455\n",
       "PSOL              308.464167\n",
       "PT                589.947118\n",
       "PTB               825.201615\n",
       "PTC              1223.911110\n",
       "PTdoB             581.922484\n",
       "PV                483.535436\n",
       "REDE              488.998281\n",
       "REPUBLICANOS      514.812767\n",
       "S.PART.           465.981888\n",
       "SDD               569.570461\n",
       "SOLIDARIEDADE     753.357947\n",
       "UNIÃO             562.999434\n",
       "Name: vlrLiquido, dtype: float64"
      ]
     },
     "execution_count": 59,
     "metadata": {},
     "output_type": "execute_result"
    }
   ],
   "source": [
    "# Desvio padrão por partido\n",
    "dataset.groupby('sgPartido')['vlrLiquido'].std()"
   ]
  },
  {
   "attachments": {},
   "cell_type": "markdown",
   "id": "2804a2ab",
   "metadata": {},
   "source": [
    "Medidas de Assemetria"
   ]
  },
  {
   "cell_type": "code",
   "execution_count": 60,
   "id": "eb75b068",
   "metadata": {},
   "outputs": [
    {
     "name": "stdout",
     "output_type": "stream",
     "text": [
      "6.139500950471075\n"
     ]
    }
   ],
   "source": [
    "#Calculando a assimetria da distribuição\n",
    "valor_despesas = dataset['vlrLiquido']\n",
    "\n",
    "dataset_assimetria = skew(valor_despesas)\n",
    "\n",
    "print(dataset_assimetria)\n"
   ]
  },
  {
   "attachments": {},
   "cell_type": "markdown",
   "id": "481a7542",
   "metadata": {},
   "source": [
    "Outliers"
   ]
  },
  {
   "cell_type": "code",
   "execution_count": 61,
   "id": "183f9b18",
   "metadata": {},
   "outputs": [
    {
     "data": {
      "image/png": "[encoded data removed]",
      "text/plain": [
       "<Figure size 864x576 with 2 Axes>"
      ]
     },
     "metadata": {
      "needs_background": "light"
     },
     "output_type": "display_data"
    }
   ],
   "source": [
    "'''# Diagrama de Tukey (boxplot)\n",
    "gridsize_boxplot = (4, 1)\n",
    "fig_boxplot = plt.figure(figsize=(12, 8))\n",
    "\n",
    "positions = ['sgUF', 'sgPartido', 'vlrLiquido']\n",
    "\n",
    "#positions = [dataset.groupby('sgPartido')['vlrLiquido']]\n",
    "\n",
    "for i, positions in enumerate(positions):\n",
    "    boxplot = plt.subplot2grid(gridsize_boxplot, (i, 0))\n",
    "    boxplot.set_title(positions, fontsize=8)\n",
    "    sns.boxplot(x=positions, data=dataset)\n",
    "\n",
    "plt.tight_layout()\n",
    "plt.show()\n",
    "'''\n",
    "\n",
    "# Diagrama de Tukey (boxplot)\n",
    "gridsize_boxplot = (4, 1)\n",
    "fig_boxplot = plt.figure(figsize=(12, 8))\n",
    "\n",
    "positions = ['sgUF', 'sgPartido']  \n",
    "\n",
    "for i, position in enumerate(positions):\n",
    "    boxplot = plt.subplot2grid(gridsize_boxplot, (i, 0))\n",
    "    boxplot.set_title(position, fontsize=8)\n",
    "    sns.boxplot(x=position, y='vlrLiquido', data=dataset)\n",
    "\n",
    "plt.tight_layout()\n",
    "plt.show()\n"
   ]
  },
  {
   "cell_type": "code",
   "execution_count": 62,
   "id": "5055559c",
   "metadata": {},
   "outputs": [
    {
     "data": {
      "image/png": "[encoded data removed]",
      "text/plain": [
       "<Figure size 864x576 with 3 Axes>"
      ]
     },
     "metadata": {
      "needs_background": "light"
     },
     "output_type": "display_data"
    }
   ],
   "source": [
    "# Gráfico de dispersão\n",
    "gridsize_scatter = (4, 1)\n",
    "fig_scatter = plt.figure(figsize=(12, 8))\n",
    "\n",
    "positions = ['sgUF', 'sgPartido', 'vlrLiquido']\n",
    "\n",
    "for i, position in enumerate(positions):\n",
    "    scatterplot = plt.subplot2grid(gridsize_scatter, (i, 0))\n",
    "    scatterplot.set_title(position, fontsize=8)\n",
    "    \n",
    "    if dataset[position].dtype == 'object':\n",
    "        sns.countplot(x=position, data=dataset, ax=scatterplot)\n",
    "    else:\n",
    "        sns.scatterplot(x=position, y='vlrLiquido', data=dataset, ax=scatterplot)\n",
    "\n",
    "plt.tight_layout()\n",
    "plt.show()"
   ]
  },
  {
   "cell_type": "code",
   "execution_count": 53,
   "id": "b628a025",
   "metadata": {},
   "outputs": [
    {
     "data": {
      "image/png": "[encoded data removed]",
      "text/plain": [
       "<Figure size 864x576 with 4 Axes>"
      ]
     },
     "metadata": {
      "needs_background": "light"
     },
     "output_type": "display_data"
    }
   ],
   "source": [
    "# Histograma\n",
    "gridsize_barplot = (4, 1)\n",
    "fig_barplot = plt.figure(figsize=(12, 8))\n",
    "\n",
    "positions = ['sgUF', 'sgPartido', 'txtDescricao', 'vlrLiquido']\n",
    "\n",
    "for i, position in enumerate(positions):\n",
    "    barplot = plt.subplot2grid(gridsize_barplot, (i, 0))\n",
    "    barplot.set_title(position, fontsize=8)\n",
    "    \n",
    "    if dataset[position].dtype == 'object':\n",
    "        sns.countplot(x=position, data=dataset, ax=barplot)\n",
    "    else:\n",
    "        sns.histplot(x=position, data=dataset, ax=barplot)\n",
    "\n",
    "plt.tight_layout()\n",
    "plt.show()"
   ]
  },
  {
   "cell_type": "code",
   "execution_count": 63,
   "id": "fc02d6e3",
   "metadata": {},
   "outputs": [
    {
     "data": {
      "text/plain": [
       "\" cols = list(dataset.columns)\\ncols.remove('col')\\n\\nwinsorization_flooring = 0.05\\nwinsorization_capping = 1 - winsorization_flooring\\n\\nnot_selected_data_flooring = dataset[cols] <= dataset[cols].quantile(winsorization_flooring)\\nnot_selected_data_capping = dataset[cols] >= dataset[cols].quantile(winsorization_capping)\\n\\nnot_selected_data_all = (not_selected_data_flooring & not_selected_data_capping)\\n\\ndata_index = dataset[cols][not_selected_data_all].index\\ndataset[cols].drop(data_index, inplace=True \""
      ]
     },
     "execution_count": 63,
     "metadata": {},
     "output_type": "execute_result"
    }
   ],
   "source": [
    "# Remover outliers - Winsorization\n",
    "\n",
    "\"\"\" cols = list(dataset.columns)\n",
    "cols.remove('col')\n",
    "\n",
    "winsorization_flooring = 0.05\n",
    "winsorization_capping = 1 - winsorization_flooring\n",
    "\n",
    "not_selected_data_flooring = dataset[cols] <= dataset[cols].quantile(winsorization_flooring)\n",
    "not_selected_data_capping = dataset[cols] >= dataset[cols].quantile(winsorization_capping)\n",
    "\n",
    "not_selected_data_all = (not_selected_data_flooring & not_selected_data_capping)\n",
    "\n",
    "data_index = dataset[cols][not_selected_data_all].index\n",
    "dataset[cols].drop(data_index, inplace=True \"\"\""
   ]
  },
  {
   "attachments": {},
   "cell_type": "markdown",
   "id": "6b3d1a14",
   "metadata": {},
   "source": [
    "Regressão Linear"
   ]
  },
  {
   "cell_type": "code",
   "execution_count": 64,
   "id": "4dac7a89",
   "metadata": {},
   "outputs": [],
   "source": [
    "dataset = dataset.loc[:,['datEmissao', 'vlrLiquido']]"
   ]
  },
  {
   "cell_type": "code",
   "execution_count": 65,
   "id": "5e726d61",
   "metadata": {},
   "outputs": [],
   "source": [
    "# A regressão linear do sklearn não conseguiria usar diretamente a data então foi necessário converter\n",
    "dataset['timestamp_unix'] = (dataset['datEmissao'] - pd.Timestamp(\"1970-01-01\")) // pd.Timedelta('1s')\n",
    "# Agora temos os segundos decorridos desde uma data base"
   ]
  },
  {
   "cell_type": "code",
   "execution_count": 66,
   "id": "8661b0a3",
   "metadata": {},
   "outputs": [],
   "source": [
    "#Parcionando dados\n",
    "X = dataset[['timestamp_unix']]\n",
    "y = dataset['vlrLiquido']\n",
    "X_train, X_test, y_train, y_test = train_test_split(X,y,test_size=0.2)\n"
   ]
  },
  {
   "cell_type": "code",
   "execution_count": 67,
   "id": "375b8d6c",
   "metadata": {},
   "outputs": [
    {
     "data": {
      "text/plain": [
       "LinearRegression()"
      ]
     },
     "execution_count": 67,
     "metadata": {},
     "output_type": "execute_result"
    }
   ],
   "source": [
    "# Criar modelo\n",
    "model = LinearRegression()\n",
    "model.fit(X_train, y_train)"
   ]
  },
  {
   "cell_type": "code",
   "execution_count": 68,
   "id": "106abaf4",
   "metadata": {},
   "outputs": [],
   "source": [
    "# Predição\n",
    "predicted_values = model.predict(X_test)"
   ]
  },
  {
   "cell_type": "code",
   "execution_count": 69,
   "id": "ab27b4d7",
   "metadata": {},
   "outputs": [
    {
     "data": {
      "text/plain": [
       "0.0024945269591185593"
      ]
     },
     "execution_count": 69,
     "metadata": {},
     "output_type": "execute_result"
    }
   ],
   "source": [
    "# Análise da regressão\n",
    "model.score(X_test,y_test)"
   ]
  },
  {
   "cell_type": "code",
   "execution_count": 70,
   "id": "0d33de40",
   "metadata": {},
   "outputs": [
    {
     "data": {
      "text/plain": [
       "<AxesSubplot:xlabel='datEmissao'>"
      ]
     },
     "execution_count": 70,
     "metadata": {},
     "output_type": "execute_result"
    },
    {
     "data": {
      "image/png": "[encoded data removed]",
      "text/plain": [
       "<Figure size 432x288 with 1 Axes>"
      ]
     },
     "metadata": {
      "needs_background": "light"
     },
     "output_type": "display_data"
    }
   ],
   "source": [
    "dataset.plot(y='vlrLiquido',x='datEmissao')"
   ]
  },
  {
   "cell_type": "code",
   "execution_count": 71,
   "id": "7153a3b4",
   "metadata": {},
   "outputs": [
    {
     "name": "stdout",
     "output_type": "stream",
     "text": [
      "<class 'pandas.core.frame.DataFrame'>\n",
      "RangeIndex: 4666978 entries, 0 to 4666977\n",
      "Data columns (total 32 columns):\n",
      " #   Column                     Dtype  \n",
      "---  ------                     -----  \n",
      " 0   txNomeParlamentar          object \n",
      " 1   cpf                        float64\n",
      " 2   ideCadastro                float64\n",
      " 3   nuCarteiraParlamentar      float64\n",
      " 4   nuLegislatura              int64  \n",
      " 5   sgUF                       object \n",
      " 6   sgPartido                  object \n",
      " 7   codLegislatura             int64  \n",
      " 8   numSubCota                 int64  \n",
      " 9   txtDescricao               object \n",
      " 10  numEspecificacaoSubCota    int64  \n",
      " 11  txtDescricaoEspecificacao  object \n",
      " 12  txtFornecedor              object \n",
      " 13  txtCNPJCPF                 object \n",
      " 14  txtNumero                  object \n",
      " 15  indTipoDocumento           int64  \n",
      " 16  datEmissao                 object \n",
      " 17  vlrDocumento               float64\n",
      " 18  vlrGlosa                   float64\n",
      " 19  vlrLiquido                 float64\n",
      " 20  numMes                     int64  \n",
      " 21  numAno                     int64  \n",
      " 22  numParcela                 int64  \n",
      " 23  txtPassageiro              object \n",
      " 24  txtTrecho                  object \n",
      " 25  numLote                    int64  \n",
      " 26  numRessarcimento           float64\n",
      " 27  datPagamentoRestituicao    object \n",
      " 28  vlrRestituicao             float64\n",
      " 29  nuDeputadoId               int64  \n",
      " 30  ideDocumento               int64  \n",
      " 31  urlDocumento               object \n",
      "dtypes: float64(8), int64(11), object(13)\n",
      "memory usage: 1.1+ GB\n"
     ]
    }
   ],
   "source": [
    "despesas_completo.info()"
   ]
  },
  {
   "cell_type": "code",
   "execution_count": 72,
   "id": "634f5b46",
   "metadata": {},
   "outputs": [
    {
     "data": {
      "image/png": "[encoded data removed]",
      "text/plain": [
       "<Figure size 1152x432 with 1 Axes>"
      ]
     },
     "metadata": {
      "needs_background": "light"
     },
     "output_type": "display_data"
    }
   ],
   "source": [
    "dummies = pd.get_dummies(despesas_completo[['numMes','sgPartido','numAno','numLote','vlrLiquido','numParcela']])\n",
    "valores = dummies.corr()['vlrLiquido'].sort_values(ascending=False)[1:]\n",
    "\n",
    "fig, ax = plt.subplots(figsize= (16, 6))\n",
    "sns.barplot(x=valores.index, y=valores.values, palette='coolwarm')\n",
    "ax.tick_params(axis='x', rotation=90)\n",
    "ax.set_xlabel('')\n",
    "\n",
    "plt.show() # Não é possível encontrar relações lineares médias ou fortes ente valor líquido e as outras variáveis"
   ]
  }
 ],
 "metadata": {
  "kernelspec": {
   "display_name": "Python 3 (ipykernel)",
   "language": "python",
   "name": "python3"
  },
  "language_info": {
   "codemirror_mode": {
    "name": "ipython",
    "version": 3
   },
   "file_extension": ".py",
   "mimetype": "text/x-python",
   "name": "python",
   "nbconvert_exporter": "python",
   "pygments_lexer": "ipython3",
   "version": "3.9.7"
  }
 },
 "nbformat": 4,
 "nbformat_minor": 5
}
