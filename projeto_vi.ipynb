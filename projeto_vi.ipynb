{
 "cells": [
  {
   "cell_type": "code",
   "execution_count": null,
   "id": "ed129bb5-cb04-42c7-b206-f5f4c29e3812",
   "metadata": {},
   "outputs": [],
   "source": [
    "import os\n",
    "import requests\n",
    "import zipfile\n",
    "import pandas as pd\n",
    "import numpy as np\n",
    "import matplotlib.pyplot as plt\n",
    "import seaborn as sns\n",
    "\n",
    "from sklearn.impute import SimpleImputer\n",
    "from sklearn.linear_model import LinearRegression"
   ]
  },
  {
   "attachments": {},
   "cell_type": "markdown",
   "id": "ac5df586",
   "metadata": {},
   "source": [
    "Importando os dados"
   ]
  },
  {
   "cell_type": "code",
   "execution_count": null,
   "id": "cb3b6989-edfe-4d4d-a884-a7f806756676",
   "metadata": {},
   "outputs": [],
   "source": [
    "diretorio_principal = os.getcwd()\n",
    "subdiretorio_dados = os.path.join(diretorio_principal, \"Dados\")\n",
    "\n",
    "# Criar o diretório se não existir\n",
    "os.makedirs(subdiretorio_dados, exist_ok=True)"
   ]
  },
  {
   "cell_type": "code",
   "execution_count": null,
   "id": "888a861a-1f7c-40d3-84bb-2a44b2fff711",
   "metadata": {},
   "outputs": [],
   "source": [
    "anos = range(2008, 2024)\n",
    "formato = \"csv\"\n",
    "url_base = \"http://www.camara.leg.br/cotas/\"\n",
    "\n",
    "for ano in anos:\n",
    "    download = requests.get(url_base + f\"Ano-{ano}.{formato}.zip\")\n",
    "    caminho_zip = os.path.join(subdiretorio_dados, f\"Ano-{ano}.{formato}.zip\")\n",
    "\n",
    "    with open(caminho_zip, \"wb\") as file:\n",
    "        file.write(download.content)\n",
    "\n",
    "    # Extrair o conteúdo do arquivo ZIP\n",
    "    with zipfile.ZipFile(caminho_zip, 'r') as zip_ref:\n",
    "        zip_ref.extractall(subdiretorio_dados)\n",
    "\n",
    "    # # Remover o arquivo ZIP após extração (opcional)\n",
    "    # os.remove(caminho_zip)"
   ]
  },
  {
   "cell_type": "code",
   "execution_count": null,
   "id": "b2a65a1f-cdb0-437c-bdbe-ab7de51b48d4",
   "metadata": {},
   "outputs": [],
   "source": [
    "# Voltar ao diretório principal\n",
    "os.chdir(diretorio_principal)\n",
    "\n",
    "# Criar um DataFrame com os dados extraídos\n",
    "despesas_totais = []\n",
    "\n",
    "for arquivo_csv in os.listdir(subdiretorio_dados):\n",
    "    if arquivo_csv.endswith('.csv') and not arquivo_csv.startswith(\".\"):\n",
    "        caminho_csv = os.path.join(subdiretorio_dados, arquivo_csv)\n",
    "        despesas = pd.read_csv(caminho_csv, sep=\";\", encoding='UTF-8', low_memory=False)\n",
    "        despesas_totais.append(despesas)\n",
    "\n",
    "# Concatenar todos os DataFrames em um único DataFrame\n",
    "despesas_completo = pd.concat(despesas_totais, ignore_index=True)"
   ]
  },
  {
   "cell_type": "code",
   "execution_count": null,
   "id": "7973e780",
   "metadata": {},
   "outputs": [],
   "source": [
    "despesas_completo = pd.read_csv(\"Dados/Ano-2008.csv\", sep=\";\", encoding='UTF-8')"
   ]
  },
  {
   "cell_type": "code",
   "execution_count": null,
   "id": "19163423",
   "metadata": {},
   "outputs": [],
   "source": [
    "dataset = despesas_completo.loc[:,['sgUF', 'sgPartido', 'txtDescricao', 'txtPassageiro', 'txtTrecho', 'datPagamentoRestituicao', 'vlrRestituicao']]\n",
    "dataset['datPagamentoRestituicao'] = pd.to_datetime(dataset['datPagamentoRestituicao'], errors='coerce')\n",
    "dataset = dataset.drop_duplicates(keep=\"first\")\n",
    "dataset = dataset.dropna()\n",
    "dataset.head(10)"
   ]
  },
  {
   "cell_type": "code",
   "execution_count": null,
   "id": "56f8195f-e695-422d-be70-cd8b7bbe0e9d",
   "metadata": {},
   "outputs": [],
   "source": [
    "despesas_completo"
   ]
  },
  {
   "attachments": {},
   "cell_type": "markdown",
   "id": "a0c3196f",
   "metadata": {},
   "source": [
    "Selecionando Colunas de Interesse"
   ]
  },
  {
   "cell_type": "code",
   "execution_count": null,
   "id": "04dde76e",
   "metadata": {},
   "outputs": [],
   "source": [
    "dataset = despesas_completo.loc[:,['sgUF', 'sgPartido', 'txtDescricao', 'txtPassageiro', 'txtTrecho', 'datPagamentoRestituicao', 'vlrRestituicao']]"
   ]
  },
  {
   "cell_type": "code",
   "execution_count": null,
   "id": "19d74ae6",
   "metadata": {},
   "outputs": [],
   "source": [
    "dataset"
   ]
  },
  {
   "attachments": {},
   "cell_type": "markdown",
   "id": "2fbdaa79",
   "metadata": {},
   "source": [
    "Conferindo dados Selecionados"
   ]
  },
  {
   "cell_type": "code",
   "execution_count": null,
   "id": "1d430234",
   "metadata": {},
   "outputs": [],
   "source": [
    "dataset.head(10)"
   ]
  },
  {
   "cell_type": "code",
   "execution_count": null,
   "id": "c6f22216",
   "metadata": {},
   "outputs": [],
   "source": [
    "dataset.tail(10)"
   ]
  },
  {
   "cell_type": "code",
   "execution_count": null,
   "id": "fec42174",
   "metadata": {},
   "outputs": [],
   "source": [
    "dataset.shape"
   ]
  },
  {
   "cell_type": "code",
   "execution_count": null,
   "id": "7f0782a9",
   "metadata": {},
   "outputs": [],
   "source": [
    "dataset.describe()"
   ]
  },
  {
   "cell_type": "code",
   "execution_count": null,
   "id": "2d374d2c",
   "metadata": {},
   "outputs": [],
   "source": [
    "dataset.info()"
   ]
  },
  {
   "attachments": {},
   "cell_type": "markdown",
   "id": "868e7e08",
   "metadata": {},
   "source": [
    "Alterar tipos de dados"
   ]
  },
  {
   "cell_type": "code",
   "execution_count": null,
   "id": "cbb9515e",
   "metadata": {},
   "outputs": [],
   "source": [
    "dataset['datPagamentoRestituicao'] = pd.to_datetime(dataset['datPagamentoRestituicao'], errors='coerce')"
   ]
  },
  {
   "attachments": {},
   "cell_type": "markdown",
   "id": "0834d6d5",
   "metadata": {},
   "source": [
    "Limpeza de dados"
   ]
  },
  {
   "cell_type": "code",
   "execution_count": null,
   "id": "4dcca07e",
   "metadata": {},
   "outputs": [],
   "source": [
    "#Remover duplicatas\n",
    "dataset = dataset.drop_duplicates(keep=\"first\")"
   ]
  },
  {
   "cell_type": "code",
   "execution_count": null,
   "id": "00703db6",
   "metadata": {},
   "outputs": [],
   "source": [
    "#Remover valores\n",
    "#dataset = dataset.loc[dataset['coluna'] == 'valor']"
   ]
  },
  {
   "cell_type": "code",
   "execution_count": null,
   "id": "cfe393b4",
   "metadata": {},
   "outputs": [],
   "source": [
    "#Remover colunas desnecessárias\n",
    "#dataset = dataset.drop(columns=['coluna1', 'coluna2'])"
   ]
  },
  {
   "attachments": {},
   "cell_type": "markdown",
   "id": "69a6ded2",
   "metadata": {},
   "source": [
    "Dados faltantes"
   ]
  },
  {
   "cell_type": "code",
   "execution_count": null,
   "id": "8d86b933",
   "metadata": {},
   "outputs": [],
   "source": [
    "#Deletar linhas com dados faltantes\n",
    "dataset = dataset.dropna()"
   ]
  },
  {
   "cell_type": "code",
   "execution_count": null,
   "id": "7f3e69fb",
   "metadata": {},
   "outputs": [],
   "source": [
    "#Imputar valores\n",
    "\"\"\" imputer = SimpleImputer(minssing_valeues = np.nan, strategy='mean')\n",
    "imputer.fit(dataset[:,:])\n",
    "imputer.transform(dataset[:, :]) \"\"\""
   ]
  },
  {
   "cell_type": "code",
   "execution_count": null,
   "id": "00d752e3",
   "metadata": {},
   "outputs": [],
   "source": [
    "#Substituir valores\n",
    "# dataset.replace(old_value, new_value, inplace=True)"
   ]
  },
  {
   "attachments": {},
   "cell_type": "markdown",
   "id": "481a7542",
   "metadata": {},
   "source": [
    "Outliers"
   ]
  },
  {
   "cell_type": "code",
   "execution_count": null,
   "id": "9dbe38ab",
   "metadata": {},
   "outputs": [],
   "source": [
    "# Diagrama de Tukey (boxplot)\n",
    "gridsize_boxplot = (1, 2)\n",
    "\n",
    "fig_boxplot = plt.figure(figsize=(12, 8))\n",
    "\n",
    "boxplot1 = plt.subplot2grid(gridsize_boxplot, (0, 0))\n",
    "boxplot2 = plt.subplot2grid(gridsize_boxplot, (0, 1))\n",
    "\n",
    "boxplot1.set_title('Title 1', fontsize=8)\n",
    "boxplot1.boxplot(dataset['col1'])\n",
    "\n",
    "boxplot2.set_title('Title 2', fontsize=8)\n",
    "boxplot2.boxplot(dataset['col2'])"
   ]
  },
  {
   "cell_type": "code",
   "execution_count": null,
   "id": "5055559c",
   "metadata": {},
   "outputs": [],
   "source": [
    "# Gráfico de dispersão\n",
    "gridsize_scatter = (1, 2)\n",
    "\n",
    "fig_scatter = plt.figure(figsize=(12, 8))\n",
    "\n",
    "scatter1 = plt.subplot2grid(gridsize_scatter, (0, 0))\n",
    "scatter2 = plt.subplot2grid(gridsize_scatter, (0, 1))\n",
    "\n",
    "scatter1.set_title('Title 1', fontsize=8)\n",
    "scatter1.scatter(dataset['col1'])\n",
    "\n",
    "scatter2.set_title('Title 2', fontsize=8)\n",
    "scatter2.scatter(dataset['col2'])"
   ]
  },
  {
   "cell_type": "code",
   "execution_count": null,
   "id": "b628a025",
   "metadata": {},
   "outputs": [],
   "source": [
    "# Histograma\n",
    "gridsize_hist = (1, 2)\n",
    "\n",
    "fig_hist = plt.figure(figsize=(12, 8))\n",
    "\n",
    "hist1 = plt.subplot2grid(gridsize_hist, (0, 0))\n",
    "hist2 = plt.subplot2grid(gridsize_hist, (0, 1))\n",
    "\n",
    "hist1.set_title('Title 1', fontsize=8)\n",
    "hist1.hist(dataset['col1'])\n",
    "\n",
    "hist2.set_title('Title 2', fontsize=8)\n",
    "hist2.hist(dataset['col2'])"
   ]
  },
  {
   "cell_type": "code",
   "execution_count": null,
   "id": "fc02d6e3",
   "metadata": {},
   "outputs": [],
   "source": [
    "# Remover outliers - Winsorization\n",
    "\n",
    "cols = list(dataset.columns)\n",
    "cols.remove('col')\n",
    "\n",
    "winsorization_flooring = 0.05\n",
    "winsorization_capping = 1 - winsorization_flooring\n",
    "\n",
    "not_selected_data_flooring = dataset[cols] <= dataset[cols].quantile(winsorization_flooring)\n",
    "not_selected_data_capping = dataset[cols] >= dataset[cols].quantile(winsorization_capping)\n",
    "\n",
    "not_selected_data_all = (not_selected_data_flooring & not_selected_data_capping)\n",
    "\n",
    "data_index = dataset[cols][not_selected_data_all].index\n",
    "dataset[cols].drop(data_index, inplace=True"
   ]
  },
  {
   "attachments": {},
   "cell_type": "markdown",
   "id": "b9c46afc",
   "metadata": {},
   "source": [
    "Colinearidade"
   ]
  },
  {
   "cell_type": "code",
   "execution_count": null,
   "id": "49548970",
   "metadata": {},
   "outputs": [],
   "source": [
    "# Scatterplots\n",
    "sns.pairplot(X)"
   ]
  },
  {
   "cell_type": "code",
   "execution_count": null,
   "id": "e1d932b6",
   "metadata": {},
   "outputs": [],
   "source": [
    "# Pearson correlation coefficient\n",
    "# The range for a correlation coefficient is between -1 and 1\n",
    "# Typically, we say that two variables are correlated if \n",
    "# their correlation coefficient is greater than 0.5, or less than -0.5.\n",
    "corr = X.corr()\n",
    "print(\"Correlation Coefficients\")\n",
    "print(corr)"
   ]
  },
  {
   "attachments": {},
   "cell_type": "markdown",
   "id": "336d2d9e",
   "metadata": {},
   "source": [
    "Por txtDescricao = PASSAGEM AÉREA "
   ]
  }
 ],
 "metadata": {
  "kernelspec": {
   "display_name": "Python 3 (ipykernel)",
   "language": "python",
   "name": "python3"
  },
  "language_info": {
   "codemirror_mode": {
    "name": "ipython",
    "version": 3
   },
   "file_extension": ".py",
   "mimetype": "text/x-python",
   "name": "python",
   "nbconvert_exporter": "python",
   "pygments_lexer": "ipython3",
   "version": "3.11.3"
  }
 },
 "nbformat": 4,
 "nbformat_minor": 5
}
